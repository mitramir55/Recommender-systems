{
  "nbformat": 4,
  "nbformat_minor": 0,
  "metadata": {
    "colab": {
      "name": "Hybrid_oct.ipynb",
      "provenance": [],
      "collapsed_sections": []
    },
    "kernelspec": {
      "name": "python3",
      "display_name": "Python 3"
    },
    "language_info": {
      "name": "python"
    },
    "widgets": {
      "application/vnd.jupyter.widget-state+json": {
        "1f535a73911240bdae5f07e60af302f0": {
          "model_module": "@jupyter-widgets/controls",
          "model_name": "HBoxModel",
          "model_module_version": "1.5.0",
          "state": {
            "_view_name": "HBoxView",
            "_dom_classes": [],
            "_model_name": "HBoxModel",
            "_view_module": "@jupyter-widgets/controls",
            "_model_module_version": "1.5.0",
            "_view_count": null,
            "_view_module_version": "1.5.0",
            "box_style": "",
            "layout": "IPY_MODEL_3e4b1e840bee4121be281a748addc4f6",
            "_model_module": "@jupyter-widgets/controls",
            "children": [
              "IPY_MODEL_09948e04833a414db6156064eeebca50",
              "IPY_MODEL_25750c9138af43999d7fe4d473c232fe",
              "IPY_MODEL_fd56ff45fb7e443b9a2e89bf57fb5b65"
            ]
          }
        },
        "3e4b1e840bee4121be281a748addc4f6": {
          "model_module": "@jupyter-widgets/base",
          "model_name": "LayoutModel",
          "model_module_version": "1.2.0",
          "state": {
            "_view_name": "LayoutView",
            "grid_template_rows": null,
            "right": null,
            "justify_content": null,
            "_view_module": "@jupyter-widgets/base",
            "overflow": null,
            "_model_module_version": "1.2.0",
            "_view_count": null,
            "flex_flow": null,
            "width": null,
            "min_width": null,
            "border": null,
            "align_items": null,
            "bottom": null,
            "_model_module": "@jupyter-widgets/base",
            "top": null,
            "grid_column": null,
            "overflow_y": null,
            "overflow_x": null,
            "grid_auto_flow": null,
            "grid_area": null,
            "grid_template_columns": null,
            "flex": null,
            "_model_name": "LayoutModel",
            "justify_items": null,
            "grid_row": null,
            "max_height": null,
            "align_content": null,
            "visibility": null,
            "align_self": null,
            "height": null,
            "min_height": null,
            "padding": null,
            "grid_auto_rows": null,
            "grid_gap": null,
            "max_width": null,
            "order": null,
            "_view_module_version": "1.2.0",
            "grid_template_areas": null,
            "object_position": null,
            "object_fit": null,
            "grid_auto_columns": null,
            "margin": null,
            "display": null,
            "left": null
          }
        },
        "09948e04833a414db6156064eeebca50": {
          "model_module": "@jupyter-widgets/controls",
          "model_name": "HTMLModel",
          "model_module_version": "1.5.0",
          "state": {
            "_view_name": "HTMLView",
            "style": "IPY_MODEL_76a806b3ed024dd6a6dc9e5d1524bb62",
            "_dom_classes": [],
            "description": "",
            "_model_name": "HTMLModel",
            "placeholder": "​",
            "_view_module": "@jupyter-widgets/controls",
            "_model_module_version": "1.5.0",
            "value": "Batches: 100%",
            "_view_count": null,
            "_view_module_version": "1.5.0",
            "description_tooltip": null,
            "_model_module": "@jupyter-widgets/controls",
            "layout": "IPY_MODEL_fe8c8f66b3e84a6894f596dacfe44c11"
          }
        },
        "25750c9138af43999d7fe4d473c232fe": {
          "model_module": "@jupyter-widgets/controls",
          "model_name": "FloatProgressModel",
          "model_module_version": "1.5.0",
          "state": {
            "_view_name": "ProgressView",
            "style": "IPY_MODEL_24493b1415a04b939e69c3b215fbdfc2",
            "_dom_classes": [],
            "description": "",
            "_model_name": "FloatProgressModel",
            "bar_style": "success",
            "max": 4,
            "_view_module": "@jupyter-widgets/controls",
            "_model_module_version": "1.5.0",
            "value": 4,
            "_view_count": null,
            "_view_module_version": "1.5.0",
            "orientation": "horizontal",
            "min": 0,
            "description_tooltip": null,
            "_model_module": "@jupyter-widgets/controls",
            "layout": "IPY_MODEL_592b049ab78d406ab7ecfaae7848aa10"
          }
        },
        "fd56ff45fb7e443b9a2e89bf57fb5b65": {
          "model_module": "@jupyter-widgets/controls",
          "model_name": "HTMLModel",
          "model_module_version": "1.5.0",
          "state": {
            "_view_name": "HTMLView",
            "style": "IPY_MODEL_622ccb9b1b4040aeb40aa53be3926416",
            "_dom_classes": [],
            "description": "",
            "_model_name": "HTMLModel",
            "placeholder": "​",
            "_view_module": "@jupyter-widgets/controls",
            "_model_module_version": "1.5.0",
            "value": " 4/4 [01:13&lt;00:00, 14.84s/it]",
            "_view_count": null,
            "_view_module_version": "1.5.0",
            "description_tooltip": null,
            "_model_module": "@jupyter-widgets/controls",
            "layout": "IPY_MODEL_24b9f825eed647508fdc1d9bef0382de"
          }
        },
        "76a806b3ed024dd6a6dc9e5d1524bb62": {
          "model_module": "@jupyter-widgets/controls",
          "model_name": "DescriptionStyleModel",
          "model_module_version": "1.5.0",
          "state": {
            "_view_name": "StyleView",
            "_model_name": "DescriptionStyleModel",
            "description_width": "",
            "_view_module": "@jupyter-widgets/base",
            "_model_module_version": "1.5.0",
            "_view_count": null,
            "_view_module_version": "1.2.0",
            "_model_module": "@jupyter-widgets/controls"
          }
        },
        "fe8c8f66b3e84a6894f596dacfe44c11": {
          "model_module": "@jupyter-widgets/base",
          "model_name": "LayoutModel",
          "model_module_version": "1.2.0",
          "state": {
            "_view_name": "LayoutView",
            "grid_template_rows": null,
            "right": null,
            "justify_content": null,
            "_view_module": "@jupyter-widgets/base",
            "overflow": null,
            "_model_module_version": "1.2.0",
            "_view_count": null,
            "flex_flow": null,
            "width": null,
            "min_width": null,
            "border": null,
            "align_items": null,
            "bottom": null,
            "_model_module": "@jupyter-widgets/base",
            "top": null,
            "grid_column": null,
            "overflow_y": null,
            "overflow_x": null,
            "grid_auto_flow": null,
            "grid_area": null,
            "grid_template_columns": null,
            "flex": null,
            "_model_name": "LayoutModel",
            "justify_items": null,
            "grid_row": null,
            "max_height": null,
            "align_content": null,
            "visibility": null,
            "align_self": null,
            "height": null,
            "min_height": null,
            "padding": null,
            "grid_auto_rows": null,
            "grid_gap": null,
            "max_width": null,
            "order": null,
            "_view_module_version": "1.2.0",
            "grid_template_areas": null,
            "object_position": null,
            "object_fit": null,
            "grid_auto_columns": null,
            "margin": null,
            "display": null,
            "left": null
          }
        },
        "24493b1415a04b939e69c3b215fbdfc2": {
          "model_module": "@jupyter-widgets/controls",
          "model_name": "ProgressStyleModel",
          "model_module_version": "1.5.0",
          "state": {
            "_view_name": "StyleView",
            "_model_name": "ProgressStyleModel",
            "description_width": "",
            "_view_module": "@jupyter-widgets/base",
            "_model_module_version": "1.5.0",
            "_view_count": null,
            "_view_module_version": "1.2.0",
            "bar_color": null,
            "_model_module": "@jupyter-widgets/controls"
          }
        },
        "592b049ab78d406ab7ecfaae7848aa10": {
          "model_module": "@jupyter-widgets/base",
          "model_name": "LayoutModel",
          "model_module_version": "1.2.0",
          "state": {
            "_view_name": "LayoutView",
            "grid_template_rows": null,
            "right": null,
            "justify_content": null,
            "_view_module": "@jupyter-widgets/base",
            "overflow": null,
            "_model_module_version": "1.2.0",
            "_view_count": null,
            "flex_flow": null,
            "width": null,
            "min_width": null,
            "border": null,
            "align_items": null,
            "bottom": null,
            "_model_module": "@jupyter-widgets/base",
            "top": null,
            "grid_column": null,
            "overflow_y": null,
            "overflow_x": null,
            "grid_auto_flow": null,
            "grid_area": null,
            "grid_template_columns": null,
            "flex": null,
            "_model_name": "LayoutModel",
            "justify_items": null,
            "grid_row": null,
            "max_height": null,
            "align_content": null,
            "visibility": null,
            "align_self": null,
            "height": null,
            "min_height": null,
            "padding": null,
            "grid_auto_rows": null,
            "grid_gap": null,
            "max_width": null,
            "order": null,
            "_view_module_version": "1.2.0",
            "grid_template_areas": null,
            "object_position": null,
            "object_fit": null,
            "grid_auto_columns": null,
            "margin": null,
            "display": null,
            "left": null
          }
        },
        "622ccb9b1b4040aeb40aa53be3926416": {
          "model_module": "@jupyter-widgets/controls",
          "model_name": "DescriptionStyleModel",
          "model_module_version": "1.5.0",
          "state": {
            "_view_name": "StyleView",
            "_model_name": "DescriptionStyleModel",
            "description_width": "",
            "_view_module": "@jupyter-widgets/base",
            "_model_module_version": "1.5.0",
            "_view_count": null,
            "_view_module_version": "1.2.0",
            "_model_module": "@jupyter-widgets/controls"
          }
        },
        "24b9f825eed647508fdc1d9bef0382de": {
          "model_module": "@jupyter-widgets/base",
          "model_name": "LayoutModel",
          "model_module_version": "1.2.0",
          "state": {
            "_view_name": "LayoutView",
            "grid_template_rows": null,
            "right": null,
            "justify_content": null,
            "_view_module": "@jupyter-widgets/base",
            "overflow": null,
            "_model_module_version": "1.2.0",
            "_view_count": null,
            "flex_flow": null,
            "width": null,
            "min_width": null,
            "border": null,
            "align_items": null,
            "bottom": null,
            "_model_module": "@jupyter-widgets/base",
            "top": null,
            "grid_column": null,
            "overflow_y": null,
            "overflow_x": null,
            "grid_auto_flow": null,
            "grid_area": null,
            "grid_template_columns": null,
            "flex": null,
            "_model_name": "LayoutModel",
            "justify_items": null,
            "grid_row": null,
            "max_height": null,
            "align_content": null,
            "visibility": null,
            "align_self": null,
            "height": null,
            "min_height": null,
            "padding": null,
            "grid_auto_rows": null,
            "grid_gap": null,
            "max_width": null,
            "order": null,
            "_view_module_version": "1.2.0",
            "grid_template_areas": null,
            "object_position": null,
            "object_fit": null,
            "grid_auto_columns": null,
            "margin": null,
            "display": null,
            "left": null
          }
        }
      }
    }
  },
  "cells": [
    {
      "cell_type": "code",
      "metadata": {
        "colab": {
          "base_uri": "https://localhost:8080/"
        },
        "id": "GS_s6gONyePS",
        "outputId": "42f482e9-76e8-41b4-d2f8-a585e57754be"
      },
      "source": [
        "pip install -U sentence-transformers"
      ],
      "execution_count": 47,
      "outputs": [
        {
          "output_type": "stream",
          "name": "stdout",
          "text": [
            "Requirement already satisfied: sentence-transformers in /usr/local/lib/python3.7/dist-packages (2.1.0)\n",
            "Requirement already satisfied: scikit-learn in /usr/local/lib/python3.7/dist-packages (from sentence-transformers) (0.22.2.post1)\n",
            "Requirement already satisfied: torchvision in /usr/local/lib/python3.7/dist-packages (from sentence-transformers) (0.10.0+cu111)\n",
            "Requirement already satisfied: scipy in /usr/local/lib/python3.7/dist-packages (from sentence-transformers) (1.4.1)\n",
            "Requirement already satisfied: torch>=1.6.0 in /usr/local/lib/python3.7/dist-packages (from sentence-transformers) (1.9.0+cu111)\n",
            "Requirement already satisfied: sentencepiece in /usr/local/lib/python3.7/dist-packages (from sentence-transformers) (0.1.96)\n",
            "Requirement already satisfied: tqdm in /usr/local/lib/python3.7/dist-packages (from sentence-transformers) (4.62.3)\n",
            "Requirement already satisfied: transformers<5.0.0,>=4.6.0 in /usr/local/lib/python3.7/dist-packages (from sentence-transformers) (4.11.3)\n",
            "Requirement already satisfied: huggingface-hub in /usr/local/lib/python3.7/dist-packages (from sentence-transformers) (0.0.19)\n",
            "Requirement already satisfied: tokenizers>=0.10.3 in /usr/local/lib/python3.7/dist-packages (from sentence-transformers) (0.10.3)\n",
            "Requirement already satisfied: numpy in /usr/local/lib/python3.7/dist-packages (from sentence-transformers) (1.19.5)\n",
            "Requirement already satisfied: nltk in /usr/local/lib/python3.7/dist-packages (from sentence-transformers) (3.2.5)\n",
            "Requirement already satisfied: typing-extensions in /usr/local/lib/python3.7/dist-packages (from torch>=1.6.0->sentence-transformers) (3.7.4.3)\n",
            "Requirement already satisfied: sacremoses in /usr/local/lib/python3.7/dist-packages (from transformers<5.0.0,>=4.6.0->sentence-transformers) (0.0.46)\n",
            "Requirement already satisfied: filelock in /usr/local/lib/python3.7/dist-packages (from transformers<5.0.0,>=4.6.0->sentence-transformers) (3.3.0)\n",
            "Requirement already satisfied: regex!=2019.12.17 in /usr/local/lib/python3.7/dist-packages (from transformers<5.0.0,>=4.6.0->sentence-transformers) (2019.12.20)\n",
            "Requirement already satisfied: packaging>=20.0 in /usr/local/lib/python3.7/dist-packages (from transformers<5.0.0,>=4.6.0->sentence-transformers) (21.0)\n",
            "Requirement already satisfied: requests in /usr/local/lib/python3.7/dist-packages (from transformers<5.0.0,>=4.6.0->sentence-transformers) (2.23.0)\n",
            "Requirement already satisfied: pyyaml>=5.1 in /usr/local/lib/python3.7/dist-packages (from transformers<5.0.0,>=4.6.0->sentence-transformers) (6.0)\n",
            "Requirement already satisfied: importlib-metadata in /usr/local/lib/python3.7/dist-packages (from transformers<5.0.0,>=4.6.0->sentence-transformers) (4.8.1)\n",
            "Requirement already satisfied: pyparsing>=2.0.2 in /usr/local/lib/python3.7/dist-packages (from packaging>=20.0->transformers<5.0.0,>=4.6.0->sentence-transformers) (2.4.7)\n",
            "Requirement already satisfied: zipp>=0.5 in /usr/local/lib/python3.7/dist-packages (from importlib-metadata->transformers<5.0.0,>=4.6.0->sentence-transformers) (3.6.0)\n",
            "Requirement already satisfied: six in /usr/local/lib/python3.7/dist-packages (from nltk->sentence-transformers) (1.15.0)\n",
            "Requirement already satisfied: urllib3!=1.25.0,!=1.25.1,<1.26,>=1.21.1 in /usr/local/lib/python3.7/dist-packages (from requests->transformers<5.0.0,>=4.6.0->sentence-transformers) (1.24.3)\n",
            "Requirement already satisfied: idna<3,>=2.5 in /usr/local/lib/python3.7/dist-packages (from requests->transformers<5.0.0,>=4.6.0->sentence-transformers) (2.10)\n",
            "Requirement already satisfied: chardet<4,>=3.0.2 in /usr/local/lib/python3.7/dist-packages (from requests->transformers<5.0.0,>=4.6.0->sentence-transformers) (3.0.4)\n",
            "Requirement already satisfied: certifi>=2017.4.17 in /usr/local/lib/python3.7/dist-packages (from requests->transformers<5.0.0,>=4.6.0->sentence-transformers) (2021.5.30)\n",
            "Requirement already satisfied: joblib in /usr/local/lib/python3.7/dist-packages (from sacremoses->transformers<5.0.0,>=4.6.0->sentence-transformers) (1.0.1)\n",
            "Requirement already satisfied: click in /usr/local/lib/python3.7/dist-packages (from sacremoses->transformers<5.0.0,>=4.6.0->sentence-transformers) (7.1.2)\n",
            "Requirement already satisfied: pillow>=5.3.0 in /usr/local/lib/python3.7/dist-packages (from torchvision->sentence-transformers) (7.1.2)\n"
          ]
        }
      ]
    },
    {
      "cell_type": "code",
      "metadata": {
        "id": "P50k55TzyNiy"
      },
      "source": [
        "# Packages\n",
        "\n",
        "#pip install -U sentence-transformers\n",
        "from termcolor import colored\n",
        "import pandas as pd\n",
        "import numpy as np\n",
        "import string\n",
        "import regex as re\n",
        "import zipfile\n",
        "import gc\n",
        "from scipy.stats import boxcox\n",
        "import sys \n",
        "from collections import Counter \n",
        "from tqdm import tqdm \n",
        "import pandas as pd \n",
        "import numpy as np \n",
        "import warnings, math\n",
        "from termcolor import colored\n",
        "import pickle\n",
        "import string\n",
        "from sklearn.metrics.pairwise import cosine_similarity\n",
        "\n",
        "# for eval\n",
        "from sklearn.model_selection import train_test_split\n",
        "import random\n",
        "\n",
        "\n",
        "# for SVD\n",
        "from scipy.sparse.linalg import svds\n",
        "from scipy.sparse import csr_matrix\n",
        "pd.set_option('display.float_format','{:.5f}'.format)\n",
        "\n",
        "# for EMB\n",
        "from sentence_transformers import SentenceTransformer, util\n",
        "import scipy\n",
        "from sklearn import preprocessing \n",
        "\n",
        "# for TFIDF\n",
        "from sklearn.feature_extraction.text import TfidfVectorizer\n",
        "import scipy\n",
        "from sklearn import preprocessing "
      ],
      "execution_count": 48,
      "outputs": []
    },
    {
      "cell_type": "code",
      "metadata": {
        "colab": {
          "base_uri": "https://localhost:8080/"
        },
        "id": "M9ZygEMbywq7",
        "outputId": "1d712689-3905-4feb-c5c6-894da9eea7b9"
      },
      "source": [
        "from google.colab import drive\n",
        "drive.mount('/content/drive')\n"
      ],
      "execution_count": 49,
      "outputs": [
        {
          "output_type": "stream",
          "name": "stdout",
          "text": [
            "Drive already mounted at /content/drive; to attempt to forcibly remount, call drive.mount(\"/content/drive\", force_remount=True).\n"
          ]
        }
      ]
    },
    {
      "cell_type": "code",
      "metadata": {
        "colab": {
          "base_uri": "https://localhost:8080/"
        },
        "id": "c5TyhTpty2mq",
        "outputId": "cc781aef-4d7e-40b4-80a5-c8d84ff9da56"
      },
      "source": [
        "!unzip \"/content/drive/MyDrive/Recommender Systems/Oct-2021/Forth_Oct.zip\""
      ],
      "execution_count": 50,
      "outputs": [
        {
          "output_type": "stream",
          "name": "stdout",
          "text": [
            "Archive:  /content/drive/MyDrive/Recommender Systems/Oct-2021/Forth_Oct.zip\n",
            "replace Oct_Forth_projectType.csv? [y]es, [n]o, [A]ll, [N]one, [r]ename: N\n"
          ]
        }
      ]
    },
    {
      "cell_type": "code",
      "metadata": {
        "id": "N56ioYq5yNhL"
      },
      "source": [
        "DF_PATH = 'Oct_Forth_projectType.csv'\n",
        "df = pd.read_csv(DF_PATH)\n",
        "\n",
        "PROJECTS_DF_PATH = \"/content/drive/MyDrive/Recommender Systems/Oct-2021/projects.csv\"\n",
        "projects_df = pd.read_csv(PROJECTS_DF_PATH)"
      ],
      "execution_count": 51,
      "outputs": []
    },
    {
      "cell_type": "code",
      "metadata": {
        "id": "M9EImGVyyu1i"
      },
      "source": [
        ""
      ],
      "execution_count": 11,
      "outputs": []
    },
    {
      "cell_type": "code",
      "metadata": {
        "colab": {
          "base_uri": "https://localhost:8080/"
        },
        "id": "ZmgHAUaLyNfL",
        "outputId": "1c214a8c-0a75-4ba9-a04e-68d51c311b4c"
      },
      "source": [
        "df_train, df_test = train_test_split(df, test_size=0.1, random_state=42)\n",
        "\n",
        "print('# donations in Train set: ', f\"{len(df_train):,}\")\n",
        "print('# donations in Test set: ',  f\"{len(df_test):,}\")\n",
        "\n",
        "print('# Donors in Train set: ', f\"{len(df_train['Donor ID'].unique()):,}\")\n",
        "print('# Donors in Test set: ',  f\"{len(df_test['Donor ID'].unique()):,}\")\n",
        "\n",
        "\n",
        "print('# Donors in both Train and Test sets - the ones we choose for evaluation: ',\n",
        "      colored(f\"{len(df_train[df_train['Donor ID'].isin(df_test['Donor ID'].values.tolist())]['Donor ID'].unique()):,}\", 'blue'))\n",
        "\n",
        "\n",
        "\n",
        "df_train = df_train[df_train['Donor ID'].isin(df_test['Donor ID'].values.tolist())].reset_index(drop=True)\n",
        "df_test = df_test[df_test['Donor ID'].isin(df_train['Donor ID'].values.tolist())].reset_index(drop=True)\n",
        "\n",
        "# sum of donation in a grouped by donor id dataset\n",
        "df_main_donor_index = df.groupby(by = ['Donor ID', 'Project ID']).sum()[['Donation Amount']].reset_index().set_index('Donor ID')\n",
        "df_train_donor_index = df_train.groupby(by = ['Donor ID', 'Project ID']).sum()[['Donation Amount']].reset_index().set_index('Donor ID')\n",
        "df_test_donor_index = df_test.groupby(by = ['Donor ID', 'Project ID']).sum()[['Donation Amount']].reset_index().set_index('Donor ID')"
      ],
      "execution_count": 52,
      "outputs": [
        {
          "output_type": "stream",
          "name": "stdout",
          "text": [
            "# donations in Train set:  43,691\n",
            "# donations in Test set:  4,855\n",
            "# Donors in Train set:  795\n",
            "# Donors in Test set:  618\n",
            "# Donors in both Train and Test sets - the ones we choose for evaluation:  \u001b[34m618\u001b[0m\n"
          ]
        }
      ]
    },
    {
      "cell_type": "code",
      "metadata": {
        "id": "VrnMQBQEyNdb"
      },
      "source": [
        "projects_df = projects_df[projects_df['Project ID'].isin(df['Project ID'])].reset_index(drop=True)\n",
        "\n",
        "project_txt = projects_df.loc[:, 'project_txt']\n",
        "projects_id = projects_df['Project ID'].tolist()\n"
      ],
      "execution_count": 53,
      "outputs": []
    },
    {
      "cell_type": "code",
      "metadata": {
        "id": "sHaboIZ-0y2o"
      },
      "source": [
        "def get_projects_donated(donor_id: str, df_donor_indexed: pd.DataFrame) -> set:\n",
        "\n",
        "    \"\"\" \n",
        "    get the project one has donated to in a specific df\n",
        "    \"\"\"\n",
        "    try:\n",
        "        donated_projects = df_donor_indexed.loc[donor_id]['Project ID']\n",
        "\n",
        "        return set(donated_projects if type(donated_projects) == pd.Series else [donated_projects])\n",
        "        \n",
        "    except KeyError:\n",
        "        return []"
      ],
      "execution_count": 54,
      "outputs": []
    },
    {
      "cell_type": "markdown",
      "metadata": {
        "id": "f6KR6LNh0y-5"
      },
      "source": [
        "## TFIDF"
      ]
    },
    {
      "cell_type": "code",
      "metadata": {
        "colab": {
          "base_uri": "https://localhost:8080/"
        },
        "id": "c6KZH9VB1NRQ",
        "outputId": "2954b6e1-484d-4cde-83d6-8f4d19a5bf63"
      },
      "source": [
        "\n",
        "# TFIDF\n",
        "vectorizer = TfidfVectorizer(max_df = 0.99,    \n",
        "                             min_df = 0.001,\n",
        "                             stop_words='english',\n",
        "                             strip_accents='unicode',\n",
        "                             analyzer='word')\n",
        "\n",
        "tfidf_matrix = vectorizer.fit_transform(project_txt)\n",
        "\n",
        "print(f\"tfidf_matrix.shape = {tfidf_matrix.shape}\")"
      ],
      "execution_count": 55,
      "outputs": [
        {
          "output_type": "stream",
          "name": "stdout",
          "text": [
            "tfidf_matrix.shape = (860, 3074)\n"
          ]
        }
      ]
    },
    {
      "cell_type": "code",
      "metadata": {
        "id": "ukKvpIpP0y1B"
      },
      "source": [
        "\n",
        "# =======================TFIDF=======================#\n",
        "\n",
        "# -------------------projects-------------------#\n",
        "\n",
        "# single project \n",
        "def get_project_profile_tfidf(project_id, tfidf_matrix):\n",
        "    \"\"\"\n",
        "    input: a project id\n",
        "    output: the tfidf of that project\n",
        "    \"\"\"\n",
        "    # get the ids\n",
        "    idx = projects_id.index(project_id)\n",
        "\n",
        "    # get the word count vector for that document\n",
        "    project_profile = tfidf_matrix[idx:idx+1]\n",
        "    return project_profile\n",
        "\n",
        "\n",
        "\n",
        "\n",
        "# multiple projects profile\n",
        "def get_projects_profiles_tfidf(ids: str, tfidf_matrix: np.ndarray) -> scipy.sparse:\n",
        "\n",
        "    \"\"\"\n",
        "    input: a series of project ids\n",
        "    output: a matrix of projects tfidfs\n",
        "    \"\"\"\n",
        "    # repeat for all projects\n",
        "\n",
        "    profiles_list = [get_project_profile_tfidf(project_id, tfidf_matrix) for project_id in np.ravel([ids])]\n",
        "\n",
        "\n",
        "    # stack them onto each other onto a list\n",
        "    project_profiles = scipy.sparse.vstack(profiles_list)\n",
        "\n",
        "    return project_profiles\n",
        "\n",
        "\n",
        "\n",
        "\n",
        "\n",
        "\n",
        "\n",
        "\n",
        "\n",
        "\n",
        "\n",
        "\n",
        "\n",
        "# --------------donors------------------#\n",
        "\n",
        "# one donor\n",
        "def build_donor_profile_tfidf(donor_id: str, df_train_donor_index: pd.DataFrame, tfidf_matrix: np.ndarray = tfidf_matrix) -> np.ndarray:\n",
        "    \"\"\"\n",
        "    input: id of one donor, training set\n",
        "    output: a one rowed matrix of donor profile, shape: (1, tfidf_vocab_len) : array([[..., ..., ... ]])\n",
        "    \"\"\"\n",
        "\n",
        "    donor_train_donations_series = df_train_donor_index.loc[donor_id]\n",
        "\n",
        "\n",
        "    # get the vectors of projects this person has donated to\n",
        "    donor_donated_project_intrain_profiles = get_projects_profiles_tfidf(donor_train_donations_series['Project ID'], tfidf_matrix)\n",
        "    \n",
        "\n",
        "    # get the smoothed donated amount as the weight of each project\n",
        "    donor_project_strengths = np.array(donor_train_donations_series['Donation Amount']).reshape(-1, 1)\n",
        "\n",
        "\n",
        "    # multiply the weights and tfidf vectors\n",
        "    multiplication = donor_donated_project_intrain_profiles.multiply(donor_project_strengths)\n",
        "\n",
        "\n",
        "    # now we normalize the whole vector \n",
        "    normalized_donor_preference = preprocessing.normalize(np.sum(multiplication, axis=0))\n",
        "\n",
        "\n",
        "    return normalized_donor_preference\n",
        "\n",
        "\n",
        "\n",
        "# multiple donors\n",
        "def build_donors_profiles_tfidf(df_test_donor_index: pd.DataFrame, df_train_donor_index: pd.DataFrame, sample_size: int = None):\n",
        "    \n",
        "    \"\"\"\n",
        "    input: donors in test, the trainset, how many donors\n",
        "    output: a dictionary of \"donor_id\": \"tfidf_projects\"\n",
        "\n",
        "    \"\"\"\n",
        "    \n",
        "    # now for all donors we build a profile in a dictionary\n",
        "    donor_profiles = {}\n",
        "    donors_in_test_set = df_test_donor_index.index.unique().tolist()[:sample_size]\n",
        "\n",
        "    for donor_id in tqdm(donors_in_test_set[:sample_size], position=0, leave=True):\n",
        "        donor_profiles[donor_id] = build_donor_profile_tfidf(donor_id, df_train_donor_index)\n",
        "\n",
        "    return donor_profiles\n"
      ],
      "execution_count": 56,
      "outputs": []
    },
    {
      "cell_type": "code",
      "metadata": {
        "id": "EpMD-N-F0yy7"
      },
      "source": [
        "#-------------------- Content Based------------------ #\n",
        "\n",
        "\n",
        "class ContentBasedRecommender:\n",
        "    MODEL_NAME = 'Content-Based-TFIDF'\n",
        "\n",
        "    def __init__(self, donor_profiles, tfidf_matrix):\n",
        "\n",
        "        self.donor_profiles = donor_profiles\n",
        "        self.tfidf_matrix = tfidf_matrix\n",
        "\n",
        "    def get_model_name(self):\n",
        "        return self.MODEL_NAME\n",
        "\n",
        "    def _get_similar_projects_to_donor_profile(self, donor_id:str, top_n=1000) -> dict:\n",
        "\n",
        "        \"\"\"\n",
        "        gets the donor id and calculates the cosine similarity between donor profile\n",
        "        and projects tfidf\n",
        "        output: dictionary(idx, sim_score)\n",
        "        \"\"\"\n",
        "        \n",
        "        cosine_similarities = cosine_similarity(self.donor_profiles[donor_id], self.tfidf_matrix)\n",
        "\n",
        "        # sort them and get the indices\n",
        "        similar_indices = cosine_similarities.argsort()[::-1].flatten()[:top_n]\n",
        "        \n",
        "\n",
        "        # get the id of project and the score of it\n",
        "        similar_projects = sorted([(projects_id[i], cosine_similarities[0, i]) for i in similar_indices], key=lambda x:x[1], reverse=True)\n",
        "        \n",
        "\n",
        "        return similar_projects\n",
        "\n",
        "\n",
        "\n",
        "\n",
        "    def recommend_projects(self, donor_id: str, projects_to_ignore: list = [], top_n=10, df_test: pd.DataFrame = df_test):\n",
        "\n",
        "        \"\"\"\n",
        "        gets the donor id \n",
        "        outputs a df and the list of ignoring projects\n",
        "        \"\"\"\n",
        "\n",
        "        donated_projects_test = df_test_donor_index.loc[donor_id, 'Project ID']\n",
        "        if type(donated_projects_test) == str:\n",
        "            donated_projects_test  = [donated_projects_test]\n",
        "        else:\n",
        "            donated_projects_test  = list(donated_projects_test .values)\n",
        "        \n",
        "        similar_projects = self._get_similar_projects_to_donor_profile(donor_id, top_n)\n",
        "\n",
        "\n",
        "\n",
        "\n",
        "        # remove projects from ignore list if it is also in the test set\n",
        "        wanted_in_test = []\n",
        "\n",
        "        for project_id in projects_to_ignore:\n",
        "            if project_id in donated_projects_test:\n",
        "                wanted_in_test.append(project_id)\n",
        "        \n",
        "        if wanted_in_test != []: projects_to_ignore = set(projects_to_ignore).difference(wanted_in_test)\n",
        "\n",
        "\n",
        "        similar_projects_filtered = [x for x in similar_projects if x[0] not in projects_to_ignore]\n",
        "\n",
        "\n",
        "        recommendations_df = pd.DataFrame(similar_projects_filtered, columns = ['Project ID', 'recommStrength']).head(top_n)\n",
        "\n",
        "\n",
        "        recommendations_df = recommendations_df.merge(projects_df, how = 'left')[['recommStrength',  'Project ID', 'Project Title', 'Project Need Statement']]\n",
        "\n",
        "        return recommendations_df, projects_to_ignore\n",
        "\n",
        "\n"
      ],
      "execution_count": 193,
      "outputs": []
    },
    {
      "cell_type": "code",
      "metadata": {
        "colab": {
          "base_uri": "https://localhost:8080/"
        },
        "id": "Q2yGdWoE0yxB",
        "outputId": "38422c40-a0fd-4ae9-9994-61aec7d76f45"
      },
      "source": [
        "donor_profiles_tfidf = build_donors_profiles_tfidf(df_test_donor_index, df_train_donor_index)\n",
        "tfidf_model = ContentBasedRecommender(donor_profiles_tfidf, tfidf_matrix)"
      ],
      "execution_count": 194,
      "outputs": [
        {
          "output_type": "stream",
          "name": "stderr",
          "text": [
            "100%|██████████| 618/618 [00:03<00:00, 160.55it/s]\n"
          ]
        }
      ]
    },
    {
      "cell_type": "code",
      "metadata": {
        "id": "X2DF8_0L1UTh"
      },
      "source": [
        "recommendations_df, projects_to_ignore = tfidf_model.recommend_projects(donor_id, top_n = 10, projects_to_ignore=df_train_donor_index.loc[donor_id, 'Project ID'].values)"
      ],
      "execution_count": 199,
      "outputs": []
    },
    {
      "cell_type": "code",
      "metadata": {
        "colab": {
          "base_uri": "https://localhost:8080/",
          "height": 356
        },
        "id": "Zac9r0Ar1URy",
        "outputId": "2710311f-7191-4755-f81a-fcce1c924876"
      },
      "source": [
        "recommendations_df"
      ],
      "execution_count": 200,
      "outputs": [
        {
          "output_type": "execute_result",
          "data": {
            "text/html": [
              "<div>\n",
              "<style scoped>\n",
              "    .dataframe tbody tr th:only-of-type {\n",
              "        vertical-align: middle;\n",
              "    }\n",
              "\n",
              "    .dataframe tbody tr th {\n",
              "        vertical-align: top;\n",
              "    }\n",
              "\n",
              "    .dataframe thead th {\n",
              "        text-align: right;\n",
              "    }\n",
              "</style>\n",
              "<table border=\"1\" class=\"dataframe\">\n",
              "  <thead>\n",
              "    <tr style=\"text-align: right;\">\n",
              "      <th></th>\n",
              "      <th>recommStrength</th>\n",
              "      <th>Project ID</th>\n",
              "      <th>Project Title</th>\n",
              "      <th>Project Need Statement</th>\n",
              "    </tr>\n",
              "  </thead>\n",
              "  <tbody>\n",
              "    <tr>\n",
              "      <th>0</th>\n",
              "      <td>0.03085</td>\n",
              "      <td>00be6e8f408fd6018383cde358d07106</td>\n",
              "      <td>We've Flipped for Fluency!</td>\n",
              "      <td>My students need fluency cards, sight word sen...</td>\n",
              "    </tr>\n",
              "    <tr>\n",
              "      <th>1</th>\n",
              "      <td>0.03051</td>\n",
              "      <td>a27906a7f0331bae1761315c6639e394</td>\n",
              "      <td>Providing Modern Learners with Modern Seating ...</td>\n",
              "      <td>My students need six Kore wobble chairs.</td>\n",
              "    </tr>\n",
              "    <tr>\n",
              "      <th>2</th>\n",
              "      <td>0.02936</td>\n",
              "      <td>b12a64a2e5405ae505ec0bbcc7c77c20</td>\n",
              "      <td>Clean Carpet Means Clean Children</td>\n",
              "      <td>My students need Bissell vacuum with replaceme...</td>\n",
              "    </tr>\n",
              "    <tr>\n",
              "      <th>3</th>\n",
              "      <td>0.02852</td>\n",
              "      <td>d653e5865f1a746479435f490771f5c0</td>\n",
              "      <td>Healthy Learning Starts in Pre-K</td>\n",
              "      <td>My students need a Sun Shade Sail Kit, refrige...</td>\n",
              "    </tr>\n",
              "    <tr>\n",
              "      <th>4</th>\n",
              "      <td>0.02833</td>\n",
              "      <td>579187b34d839335938ff50ce09935b1</td>\n",
              "      <td>Dig, Dig, Dig! Is That A Shark Tooth?</td>\n",
              "      <td>My students need these screens to sift through...</td>\n",
              "    </tr>\n",
              "    <tr>\n",
              "      <th>5</th>\n",
              "      <td>0.02784</td>\n",
              "      <td>779509bbb388d299d7c2cf25c2fba1d0</td>\n",
              "      <td>Sun? Wind? Fuel? Which Energy Source to Choose?!</td>\n",
              "      <td>My students need 2 Renewable Energy Education ...</td>\n",
              "    </tr>\n",
              "    <tr>\n",
              "      <th>6</th>\n",
              "      <td>0.02734</td>\n",
              "      <td>aaa60c99e4622c3eeeb9fe6523b3746e</td>\n",
              "      <td>No More Bullies</td>\n",
              "      <td>My students need ten copies of Bullying in Sch...</td>\n",
              "    </tr>\n",
              "    <tr>\n",
              "      <th>7</th>\n",
              "      <td>0.02166</td>\n",
              "      <td>410f4b08685fd168921c606d1aa3102f</td>\n",
              "      <td>Pancake Social</td>\n",
              "      <td>My students need a PancakeBot, an SD card, pan...</td>\n",
              "    </tr>\n",
              "    <tr>\n",
              "      <th>8</th>\n",
              "      <td>0.01915</td>\n",
              "      <td>99680705a261f739f5b1ba58939b7df3</td>\n",
              "      <td>On and Off the Field, We Can Go the Distance!</td>\n",
              "      <td>My students need team shirts for track team, f...</td>\n",
              "    </tr>\n",
              "    <tr>\n",
              "      <th>9</th>\n",
              "      <td>0.01474</td>\n",
              "      <td>097be16aa2c6e9d49160f06828b1ba1f</td>\n",
              "      <td>Caught Being Good Once Again!</td>\n",
              "      <td>My students need Caught Being Good Prizes such...</td>\n",
              "    </tr>\n",
              "  </tbody>\n",
              "</table>\n",
              "</div>"
            ],
            "text/plain": [
              "   recommStrength  ...                             Project Need Statement\n",
              "0         0.03085  ...  My students need fluency cards, sight word sen...\n",
              "1         0.03051  ...           My students need six Kore wobble chairs.\n",
              "2         0.02936  ...  My students need Bissell vacuum with replaceme...\n",
              "3         0.02852  ...  My students need a Sun Shade Sail Kit, refrige...\n",
              "4         0.02833  ...  My students need these screens to sift through...\n",
              "5         0.02784  ...  My students need 2 Renewable Energy Education ...\n",
              "6         0.02734  ...  My students need ten copies of Bullying in Sch...\n",
              "7         0.02166  ...  My students need a PancakeBot, an SD card, pan...\n",
              "8         0.01915  ...  My students need team shirts for track team, f...\n",
              "9         0.01474  ...  My students need Caught Being Good Prizes such...\n",
              "\n",
              "[10 rows x 4 columns]"
            ]
          },
          "metadata": {},
          "execution_count": 200
        }
      ]
    },
    {
      "cell_type": "markdown",
      "metadata": {
        "id": "uB-ZMrUn1Um4"
      },
      "source": [
        "## Embedding"
      ]
    },
    {
      "cell_type": "code",
      "metadata": {
        "id": "Mu3-9C-_1UPw"
      },
      "source": [
        "# ==================== Embeddings ==================== #\n",
        "\n",
        "# ----------------------- projects profiles------------------- #\n",
        "def get_project_profile_emb(project_id: str, embeddings):\n",
        "\n",
        "    # get the ids\n",
        "    idx = projects_id.index(project_id)\n",
        "    project_profile = embeddings[idx:idx+1]\n",
        "    \n",
        "    return project_profile\n",
        "\n",
        "\n",
        "\n",
        "def get_projects_profiles_emb(ids: pd.Series, embeddings):\n",
        "\n",
        "\n",
        "    profiles_list = [get_project_profile_emb(project_id, embeddings)[0] for project_id in np.ravel([ids])]\n",
        "    project_profiles = np.vstack(profiles_list)\n",
        "\n",
        "    return project_profiles\n",
        "\n",
        "\n",
        "\n",
        "\n",
        "# ----------------------- Donors profiles------------------- #\n",
        "\n",
        "def build_donors_profile_emb(donor_id: str, df_train_donor_index: pd.DataFrame):\n",
        "\n",
        "    # get the id of each person and the projects they\n",
        "    # donated to\n",
        "    donations_donor_df = df_train_donor_index.loc[donor_id]\n",
        "\n",
        "\n",
        "    # get the vectors of projects this person has donated to\n",
        "    donor_donated_project_intrain_profiles = get_projects_profiles_emb(donations_donor_df['Project ID'], embeddings)\n",
        "\n",
        "\n",
        "    # get the smoothed donated amount as the weight of each project\n",
        "    donor_project_strengths = np.array(donations_donor_df['Donation Amount']).reshape(-1, 1)\n",
        "\n",
        "\n",
        "    # multiply the weights and tfidf vectors\n",
        "    multiplication = np.multiply(donor_donated_project_intrain_profiles, donor_project_strengths)\n",
        "\n",
        "\n",
        "    # now we normalize the whole vector \n",
        "    normalized_donor_preference = preprocessing.normalize(np.sum(multiplication, axis=0).reshape(1, -1))\n",
        "    \n",
        "\n",
        "\n",
        "    return normalized_donor_preference\n",
        "\n",
        "\n",
        "def build_donors_profiles_emb(df_test_donor_index: pd.DataFrame, df_train_donor_index: pd.DataFrame, sample_size: int = None):\n",
        "    \n",
        "    # now for all donors we build a profile in a dictionary\n",
        "    donor_profiles = {}\n",
        "    donors_in_test_set = df_test_donor_index.index.unique().tolist()[:sample_size]\n",
        "\n",
        "    for donor_id in tqdm(donors_in_test_set[:sample_size], position=0, leave=True):\n",
        "        donor_profiles[donor_id] = build_donors_profile_emb(donor_id, df_train_donor_index)\n",
        "\n",
        "    return donor_profiles\n",
        "\n",
        "    \n"
      ],
      "execution_count": 160,
      "outputs": []
    },
    {
      "cell_type": "code",
      "metadata": {
        "colab": {
          "base_uri": "https://localhost:8080/",
          "height": 49,
          "referenced_widgets": [
            "1f535a73911240bdae5f07e60af302f0",
            "3e4b1e840bee4121be281a748addc4f6",
            "09948e04833a414db6156064eeebca50",
            "25750c9138af43999d7fe4d473c232fe",
            "fd56ff45fb7e443b9a2e89bf57fb5b65",
            "76a806b3ed024dd6a6dc9e5d1524bb62",
            "fe8c8f66b3e84a6894f596dacfe44c11",
            "24493b1415a04b939e69c3b215fbdfc2",
            "592b049ab78d406ab7ecfaae7848aa10",
            "622ccb9b1b4040aeb40aa53be3926416",
            "24b9f825eed647508fdc1d9bef0382de"
          ]
        },
        "id": "uimZuqSj1UN4",
        "outputId": "3cac0e42-beeb-4c1e-8efd-31fee7e1e333"
      },
      "source": [
        "# ----------------- embeddings---------------------#\n",
        "model = SentenceTransformer('paraphrase-distilroberta-base-v1') # , device= 'cuda'\n",
        "embeddings = model.encode(project_txt, batch_size=256, show_progress_bar=True)"
      ],
      "execution_count": 161,
      "outputs": [
        {
          "output_type": "display_data",
          "data": {
            "application/vnd.jupyter.widget-view+json": {
              "model_id": "1f535a73911240bdae5f07e60af302f0",
              "version_minor": 0,
              "version_major": 2
            },
            "text/plain": [
              "Batches:   0%|          | 0/4 [00:00<?, ?it/s]"
            ]
          },
          "metadata": {}
        }
      ]
    },
    {
      "cell_type": "code",
      "metadata": {
        "id": "xvsSUxzC1UHw"
      },
      "source": [
        "# --------------------- Embeddings----------------- #\n",
        "\n",
        "class ContentBasedRecommenderWithEmbeddings:\n",
        "    MODEL_NAME = 'Content-Based-Embeddings'\n",
        "\n",
        "\n",
        "    \"\"\"\n",
        "    Recommending projects based on the embedding of the project description\n",
        "    \"\"\"\n",
        "    \n",
        "    def __init__(self, donor_profiles: dict, embeddings: np.ndarray):\n",
        "        \n",
        "        self.donor_profiles = donor_profiles\n",
        "        self.embeddings = embeddings\n",
        "\n",
        "    def get_model_name(self):\n",
        "        return self.MODEL_NAME\n",
        "\n",
        "    def _get_similar_projects_to_donor_profile(self, donor_id, top_n=1000):\n",
        "        \n",
        "\n",
        "        cosine_similarities = cosine_similarity(self.donor_profiles[donor_id], self.embeddings)\n",
        "\n",
        "\n",
        "        # sort them and get the indices\n",
        "        similar_indices = cosine_similarities.argsort()[::-1].flatten()[:top_n]\n",
        "        \n",
        "\n",
        "        # get the id of project and the score of it\n",
        "        similar_projects = sorted([(projects_id[i], cosine_similarities[0, i]) for i in similar_indices], key=lambda x:x[1], reverse=True)\n",
        "        \n",
        "        \n",
        "        return similar_projects\n",
        "\n",
        "\n",
        "    def recommend_projects(self, donor_id: str, projects_to_ignore: list = [], top_n=10, df_test: pd.DataFrame = df_test):\n",
        "\n",
        "\n",
        "        donated_projects_test = df_test_donor_index.loc[donor_id, 'Project ID']\n",
        "        if type(donated_projects_test) == str:\n",
        "            donated_projects_test  = [donated_projects_test]\n",
        "        else:\n",
        "            donated_projects_test  = list(donated_projects_test .values)\n",
        "        \n",
        "\n",
        "\n",
        "        similar_projects = self._get_similar_projects_to_donor_profile(donor_id, top_n)\n",
        "\n",
        "\n",
        "\n",
        "        # remove projects from ignore list if it is also in the test set\n",
        "        wanted_in_test = []\n",
        "\n",
        "        for project_id in projects_to_ignore:\n",
        "            if project_id in donated_projects_test:\n",
        "                wanted_in_test.append(project_id)\n",
        "        \n",
        "        if wanted_in_test != []: projects_to_ignore = set(projects_to_ignore).difference(wanted_in_test)\n",
        "\n",
        "        \n",
        "        similar_projects_filtered = [x for x in similar_projects if x[0] not in projects_to_ignore]\n",
        "\n",
        "        recommendations_df = pd.DataFrame(similar_projects_filtered, columns = ['Project ID', 'recommStrength']).head(top_n)\n",
        "\n",
        "        recommendations_df = pd.merge(left=recommendations_df, right=projects_df, how = 'left')[['recommStrength',  'Project ID', 'Project Title', 'Project Need Statement']]\n",
        "\n",
        "        return recommendations_df, projects_to_ignore\n"
      ],
      "execution_count": 162,
      "outputs": []
    },
    {
      "cell_type": "code",
      "metadata": {
        "colab": {
          "base_uri": "https://localhost:8080/"
        },
        "id": "Q__V5jH21UJw",
        "outputId": "0f563d2f-e7ba-460a-cd1c-93d69599acdc"
      },
      "source": [
        "donor_profiles_emb = build_donors_profiles_emb(df_test_donor_index, df_train_donor_index)\n",
        "emb_model = ContentBasedRecommenderWithEmbeddings(donor_profiles_emb, embeddings)"
      ],
      "execution_count": 163,
      "outputs": [
        {
          "output_type": "stream",
          "name": "stderr",
          "text": [
            "100%|██████████| 618/618 [00:00<00:00, 888.07it/s]\n"
          ]
        }
      ]
    },
    {
      "cell_type": "code",
      "metadata": {
        "colab": {
          "base_uri": "https://localhost:8080/"
        },
        "id": "eBmZyYRU1UF4",
        "outputId": "bcc5b575-2bf3-464e-e3b5-6c29089b6e98"
      },
      "source": [
        "print(df['Project ID'].dtype)\n",
        "print(projects_df['Project ID'].dtype)"
      ],
      "execution_count": 145,
      "outputs": [
        {
          "output_type": "stream",
          "name": "stdout",
          "text": [
            "object\n",
            "object\n"
          ]
        }
      ]
    },
    {
      "cell_type": "code",
      "metadata": {
        "id": "4n6W3UT31UEA"
      },
      "source": [
        "recommendations_df, projects_to_ignore = emb_model.recommend_projects(donor_id, top_n = 10, projects_to_ignore=df_train_donor_index.loc[donor_id, 'Project ID'].values)"
      ],
      "execution_count": 146,
      "outputs": []
    },
    {
      "cell_type": "markdown",
      "metadata": {
        "id": "OL0yf1BR603m"
      },
      "source": [
        "## SVD"
      ]
    },
    {
      "cell_type": "code",
      "metadata": {
        "colab": {
          "base_uri": "https://localhost:8080/"
        },
        "id": "AHVOG92V7AMe",
        "outputId": "222a36e4-d923-4bee-81d3-6794b631d564"
      },
      "source": [
        "# aggregating projects and donors in donor_project\n",
        "df = df[df['Donor ID'].isin(df_main_donor_index.index)].reset_index(drop=True)\n",
        "print(f\"len(df) = {len(df)}\")\n",
        "\n",
        "donor_project_df = df.groupby(['Donor ID', 'Project ID'])['Donation Amount'].sum().reset_index()\n",
        "donors_projects_df_pivoted = donor_project_df.pivot('Donor ID', 'Project ID', 'Donation Amount').fillna(0)\n",
        "\n",
        "donors_projects = donors_projects_df_pivoted.values\n",
        "donors_id = donors_projects_df_pivoted.index\n",
        "projects_id = donors_projects_df_pivoted.columns\n",
        "\n",
        "print(f'len(donors_id): {len(donors_id)}')\n",
        "print(f'len(projects_id): {len(projects_id)}')"
      ],
      "execution_count": 28,
      "outputs": [
        {
          "output_type": "stream",
          "name": "stdout",
          "text": [
            "len(df) = 48546\n",
            "len(donors_id): 795\n",
            "len(projects_id): 860\n"
          ]
        }
      ]
    },
    {
      "cell_type": "code",
      "metadata": {
        "id": "Ee1P2q1M60wW"
      },
      "source": [
        "U, sigma, Vt = svds(donors_projects, k=50)\n",
        "sigma = np.diag(sigma)\n",
        "all_donor_predicted_preference = np.dot(np.dot(U, sigma), Vt)\n",
        "svg_predicted_preference_df = pd.DataFrame(all_donor_predicted_preference, columns=projects_id, index=donors_id)#.transpose()\n",
        "\n",
        "assert svg_predicted_preference_df.shape[1] == len(projects_id)\n",
        "assert svg_predicted_preference_df.shape[0] == len(donors_id)\n"
      ],
      "execution_count": 31,
      "outputs": []
    },
    {
      "cell_type": "code",
      "metadata": {
        "id": "n3ALPrlO60uv"
      },
      "source": [
        "class CFRecommender:\n",
        "    \n",
        "\n",
        "    \"\"\"\n",
        "Collaborate filtering using Singular Value Decomposition (SVD)\n",
        "    \"\"\"\n",
        "\n",
        "    MODEL_NAME = 'Collaborative-Filtering'\n",
        "\n",
        "\n",
        "    def __init__(self, svg_predicted_preference_df: pd.DataFrame, projects_df: pd.DataFrame):\n",
        "\n",
        "        self.svg_predicted_preference_df = svg_predicted_preference_df\n",
        "        self.projects_df = projects_df\n",
        "\n",
        "\n",
        "\n",
        "    def get_model_name(self):\n",
        "        return self.MODEL_NAME\n",
        "\n",
        "\n",
        "\n",
        "    def recommend_projects(self, donor_id: str, projects_to_ignore : list=[], top_n=10, df_test: pd.DataFrame = df_test):\n",
        "        \n",
        "        \"\"\"\n",
        "        \n",
        "        \"\"\"\n",
        "        donated_projects_test = df_test_donor_index.loc[donor_id, 'Project ID']\n",
        "\n",
        "\n",
        "        # if they have only one donation\n",
        "        if type(donated_projects_test) == str:\n",
        "            donated_projects_test  = [donated_projects_test]\n",
        "        else:\n",
        "            # other cases\n",
        "            donated_projects_test  = list(donated_projects_test .values)\n",
        "\n",
        "\n",
        "\n",
        "\n",
        "        # remove projects from ignore list if it is also in the test set\n",
        "        wanted_in_test = []\n",
        "\n",
        "        for project_id in projects_to_ignore:\n",
        "            if project_id in donated_projects_test:\n",
        "                wanted_in_test.append(project_id)\n",
        "        \n",
        "        if wanted_in_test != []: projects_to_ignore = set(projects_to_ignore).difference(wanted_in_test)\n",
        "\n",
        "\n",
        "        # get recommendations\n",
        "        donor_predictions = self.svg_predicted_preference_df.loc[donor_id, :].reset_index().rename(columns={donor_id: 'recommStrength'})\n",
        "        \n",
        "\n",
        "        # making sure we have all projects we want and sorting them\n",
        "        recommendations_df = donor_predictions[~donor_predictions['Project ID'].isin(projects_to_ignore)].sort_values(by='recommStrength', ascending=False)[:top_n]\n",
        "\n",
        "\n",
        "        # merging with projects dataset to get the descriptions\n",
        "        recommendations_df_with_description = pd.merge(left = recommendations_df, right = projects_df, how='left', on='Project ID')[['recommStrength',  'Project ID', 'Project Title', 'Project Need Statement']]\n",
        "        \n",
        "\n",
        "        return recommendations_df_with_description, projects_to_ignore\n"
      ],
      "execution_count": 187,
      "outputs": []
    },
    {
      "cell_type": "code",
      "metadata": {
        "id": "oi3l4nSv60tE"
      },
      "source": [
        "cf_model = CFRecommender(svg_predicted_preference_df, df)"
      ],
      "execution_count": 188,
      "outputs": []
    },
    {
      "cell_type": "code",
      "metadata": {
        "id": "-cocBL8m60oy"
      },
      "source": [
        ""
      ],
      "execution_count": null,
      "outputs": []
    },
    {
      "cell_type": "code",
      "metadata": {
        "id": "vk8LtyTS60mu"
      },
      "source": [
        ""
      ],
      "execution_count": null,
      "outputs": []
    },
    {
      "cell_type": "markdown",
      "metadata": {
        "id": "EnAo3br62Bso"
      },
      "source": [
        "## Hybrid"
      ]
    },
    {
      "cell_type": "code",
      "metadata": {
        "id": "vkU7tZ0S1UAR"
      },
      "source": [
        ""
      ],
      "execution_count": null,
      "outputs": []
    },
    {
      "cell_type": "code",
      "metadata": {
        "id": "noclep-G1T-Q"
      },
      "source": [
        ""
      ],
      "execution_count": null,
      "outputs": []
    },
    {
      "cell_type": "code",
      "metadata": {
        "id": "ZfTqRniM1T8a"
      },
      "source": [
        ""
      ],
      "execution_count": null,
      "outputs": []
    },
    {
      "cell_type": "code",
      "metadata": {
        "id": "6Z-f4XnR1T6Q"
      },
      "source": [
        ""
      ],
      "execution_count": null,
      "outputs": []
    },
    {
      "cell_type": "code",
      "metadata": {
        "id": "-FxaKdBx0yvD"
      },
      "source": [
        ""
      ],
      "execution_count": null,
      "outputs": []
    },
    {
      "cell_type": "code",
      "metadata": {
        "id": "w3xyulWW0ys5"
      },
      "source": [
        ""
      ],
      "execution_count": null,
      "outputs": []
    },
    {
      "cell_type": "code",
      "metadata": {
        "id": "1FlTMRREyNbj"
      },
      "source": [
        "class HybridRecommender:\n",
        "\n",
        "    MODEL_NAME = 'Hybrid'\n",
        "    def __init__(self, models: list):\n",
        "        self.models = models\n",
        "\n",
        "    def get_model_name(self):\n",
        "        return self.MODEL_NAME\n",
        "\n",
        "\n",
        "\n",
        "    def recommend_projects(self, donor_id: str, top_n: int=None, projects_to_ignore: list=[], df_test: pd.DataFrame = df_test, agg: str='add') -> (pd.DataFrame, list):\n",
        "\n",
        "        # ignore projects ---------------------------------------------------------------\n",
        "        donated_projects_test = df_test_donor_index.loc[donor_id, 'Project ID']\n",
        "        if type(donated_projects_test) == str:\n",
        "            donated_projects_test  = [donated_projects_test]\n",
        "        else:\n",
        "            donated_projects_test  = list(donated_projects_test .values)\n",
        "\n",
        "\n",
        "\n",
        "        # remove projects from ignore list if it is also in the test set\n",
        "        wanted_in_test = []\n",
        "\n",
        "        for project_id in projects_to_ignore:\n",
        "            if project_id in donated_projects_test:\n",
        "                wanted_in_test.append(project_id)\n",
        "        \n",
        "        if wanted_in_test != []: projects_to_ignore = set(projects_to_ignore).difference(wanted_in_test)\n",
        "\n",
        "        # find the aggregated score--------------------------------------------------------\n",
        "        recommendations_dfs = []\n",
        "        strength_col_names = []\n",
        "\n",
        "        for model in self.models:\n",
        "            model_name_ = model.get_model_name()\n",
        "            \n",
        "            \n",
        "            if  model_name_== 'Content-Based-Embeddings':\n",
        "                recommendations_df, projects_to_ignore = model.recommend_projects(\n",
        "                    donor_id, projects_to_ignore, top_n=None, df_test=df_test\n",
        "                    )\n",
        "\n",
        "\n",
        "            elif model_name_ == 'Content-Based-TFIDF':\n",
        "                recommendations_df, projects_to_ignore = model.recommend_projects(\n",
        "                    donor_id, projects_to_ignore, top_n=None, df_test=df_test\n",
        "                    )\n",
        "\n",
        "            elif model_name_ == 'Collaborative-Filtering':\n",
        "                recommendations_df, projects_to_ignore = model.recommend_projects(\n",
        "                    donor_id, projects_to_ignore, top_n=None, df_test=df_test\n",
        "                    )\n",
        "\n",
        "            recommendations_df.rename(columns={'recommStrength': model_name_ + '_strength'}, inplace=True)\n",
        "            recommendations_dfs.append(recommendations_df.loc[:, :'Project ID'].set_index('Project ID'))\n",
        "\n",
        "\n",
        "        # join them\n",
        "        recommendations_df_total = pd.concat(recommendations_dfs, join='inner', axis=1).reset_index()\n",
        "        \n",
        "        # aggregate their results\n",
        "        if agg=='multiply': default_val = 1\n",
        "        else: default_val = 0\n",
        "        hybrid_strength = pd.Series([default_val]* len(recommendations_df_total), dtype=np.float64)\n",
        "\n",
        "        \n",
        "\n",
        "        for col_name in recommendations_df_total.columns:\n",
        "            if re.findall(r'.*(strength)$', col_name):\n",
        "                \n",
        "                if agg=='multiply':\n",
        "                    hybrid_strength = hybrid_strength.multiply(recommendations_df_total[col_name])\n",
        "\n",
        "                elif agg=='add':\n",
        "                    hybrid_strength += recommendations_df_total[col_name]\n",
        "\n",
        "\n",
        "        recommendations_df_total.loc[:, 'HybridStrength'] = hybrid_strength\n",
        "\n",
        "\n",
        "        recommendations_df_total = recommendations_df_total.sort_values(by='HybridStrength', ascending=False).head(top_n)\n",
        "        recommendations_df_total = pd.merge(left = recommendations_df_total, right=projects_df, on='Project ID', how='inner')\n",
        "\n",
        "\n",
        "        return recommendations_df_total, projects_to_ignore"
      ],
      "execution_count": 278,
      "outputs": []
    },
    {
      "cell_type": "code",
      "metadata": {
        "id": "DHvoE3Nt8m9Z"
      },
      "source": [
        "hybrid_model = HybridRecommender([tfidf_model, emb_model, cf_model])"
      ],
      "execution_count": 279,
      "outputs": []
    },
    {
      "cell_type": "code",
      "metadata": {
        "id": "Udtf74bN2EF3"
      },
      "source": [
        "donor_id =  '009d5fc7b87883ffad248db5150bf1fc'\n",
        "recommendations_df, projects_to_ignore = hybrid_model.recommend_projects(donor_id, top_n = 10, projects_to_ignore=df_train_donor_index.loc[donor_id, 'Project ID'].values, agg='add')"
      ],
      "execution_count": 280,
      "outputs": []
    },
    {
      "cell_type": "code",
      "metadata": {
        "colab": {
          "base_uri": "https://localhost:8080/",
          "height": 1000
        },
        "id": "vSMs4ET02ED5",
        "outputId": "05ea52b6-0e31-49cb-fafb-7109d005cce6"
      },
      "source": [
        "recommendations_df"
      ],
      "execution_count": 281,
      "outputs": [
        {
          "output_type": "execute_result",
          "data": {
            "text/html": [
              "<div>\n",
              "<style scoped>\n",
              "    .dataframe tbody tr th:only-of-type {\n",
              "        vertical-align: middle;\n",
              "    }\n",
              "\n",
              "    .dataframe tbody tr th {\n",
              "        vertical-align: top;\n",
              "    }\n",
              "\n",
              "    .dataframe thead th {\n",
              "        text-align: right;\n",
              "    }\n",
              "</style>\n",
              "<table border=\"1\" class=\"dataframe\">\n",
              "  <thead>\n",
              "    <tr style=\"text-align: right;\">\n",
              "      <th></th>\n",
              "      <th>Project ID</th>\n",
              "      <th>Content-Based-TFIDF_strength</th>\n",
              "      <th>Content-Based-Embeddings_strength</th>\n",
              "      <th>Collaborative-Filtering_strength</th>\n",
              "      <th>HybridStrength</th>\n",
              "      <th>Project Subject Subcategory Tree</th>\n",
              "      <th>Project Title</th>\n",
              "      <th>Project Need Statement</th>\n",
              "      <th>School State</th>\n",
              "      <th>project_txt</th>\n",
              "    </tr>\n",
              "  </thead>\n",
              "  <tbody>\n",
              "    <tr>\n",
              "      <th>0</th>\n",
              "      <td>010732a68a6a6a7a40b6827355bd2a04</td>\n",
              "      <td>0.29234</td>\n",
              "      <td>0.67124</td>\n",
              "      <td>5.17420</td>\n",
              "      <td>6.13778</td>\n",
              "      <td>Literacy, Performing Arts</td>\n",
              "      <td>Help Little Voices Be Heard! Mics For Our Show...</td>\n",
              "      <td>My students need wireless microphones for dram...</td>\n",
              "      <td>Texas</td>\n",
              "      <td>help little voices be heard mics for our shows...</td>\n",
              "    </tr>\n",
              "    <tr>\n",
              "      <th>1</th>\n",
              "      <td>d2926b1c30b4ccbaf4a104c7430ce10a</td>\n",
              "      <td>0.20532</td>\n",
              "      <td>0.55311</td>\n",
              "      <td>3.82444</td>\n",
              "      <td>4.58287</td>\n",
              "      <td>Music</td>\n",
              "      <td>I Want To Bang On the Drum All Day!</td>\n",
              "      <td>My students need 2 drums to start building our...</td>\n",
              "      <td>Indiana</td>\n",
              "      <td>i want to bang on the drum all day &amp; my studen...</td>\n",
              "    </tr>\n",
              "    <tr>\n",
              "      <th>2</th>\n",
              "      <td>b82b4bc5891d416a23a401f1b054af4d</td>\n",
              "      <td>0.13855</td>\n",
              "      <td>0.60970</td>\n",
              "      <td>3.66031</td>\n",
              "      <td>4.40856</td>\n",
              "      <td>Gym &amp; Fitness, Health &amp; Wellness</td>\n",
              "      <td>Fitness on Your Mark, Get Set, Go!</td>\n",
              "      <td>My students need a portable PA system, balls, ...</td>\n",
              "      <td>New York</td>\n",
              "      <td>fitness on your mark, get set, go &amp; my student...</td>\n",
              "    </tr>\n",
              "    <tr>\n",
              "      <th>3</th>\n",
              "      <td>d3831ea2611d92ca62a91a55454085ce</td>\n",
              "      <td>0.23123</td>\n",
              "      <td>0.68145</td>\n",
              "      <td>3.30866</td>\n",
              "      <td>4.22134</td>\n",
              "      <td>Literacy</td>\n",
              "      <td>Books of Our Very Own!</td>\n",
              "      <td>My students need books of their very own, such...</td>\n",
              "      <td>Texas</td>\n",
              "      <td>books of our very own &amp; my students need books...</td>\n",
              "    </tr>\n",
              "    <tr>\n",
              "      <th>4</th>\n",
              "      <td>a312a129579bf0ca8244c6cacee03baa</td>\n",
              "      <td>0.19146</td>\n",
              "      <td>0.75437</td>\n",
              "      <td>2.56167</td>\n",
              "      <td>3.50750</td>\n",
              "      <td>Music, Performing Arts</td>\n",
              "      <td>Orff We Go!</td>\n",
              "      <td>My students need 6 alto xylophones, 3 soprano ...</td>\n",
              "      <td>Indiana</td>\n",
              "      <td>orff we go &amp; my students need alto xylophones,...</td>\n",
              "    </tr>\n",
              "    <tr>\n",
              "      <th>5</th>\n",
              "      <td>004a152bbe8952ea5e9d5ef89c179933</td>\n",
              "      <td>0.14375</td>\n",
              "      <td>0.66960</td>\n",
              "      <td>2.41104</td>\n",
              "      <td>3.22439</td>\n",
              "      <td>ESL, Visual Arts</td>\n",
              "      <td>Claymation Experimentation</td>\n",
              "      <td>My students need assorted colors of Sculpey II...</td>\n",
              "      <td>New York</td>\n",
              "      <td>claymation experimentation &amp; my students need ...</td>\n",
              "    </tr>\n",
              "    <tr>\n",
              "      <th>6</th>\n",
              "      <td>ae053d8e69da55b026ba4881f2f972f1</td>\n",
              "      <td>0.20755</td>\n",
              "      <td>0.68432</td>\n",
              "      <td>2.10999</td>\n",
              "      <td>3.00187</td>\n",
              "      <td>Music</td>\n",
              "      <td>Keyboards To Start  Music</td>\n",
              "      <td>My students need keyboards and headphones for ...</td>\n",
              "      <td>New York</td>\n",
              "      <td>keyboards to start music &amp; my students need ke...</td>\n",
              "    </tr>\n",
              "    <tr>\n",
              "      <th>7</th>\n",
              "      <td>55bdd3141b8e8c811b3f72682446d9f8</td>\n",
              "      <td>0.19449</td>\n",
              "      <td>0.55723</td>\n",
              "      <td>2.21755</td>\n",
              "      <td>2.96927</td>\n",
              "      <td>Music, Performing Arts</td>\n",
              "      <td>Uke Troupe! New Music Group! Whoop! Whoop!</td>\n",
              "      <td>My students need twenty-six Makala soprano uku...</td>\n",
              "      <td>Indiana</td>\n",
              "      <td>uke troupe new music group whoop whoop &amp; my st...</td>\n",
              "    </tr>\n",
              "    <tr>\n",
              "      <th>8</th>\n",
              "      <td>c74530cc205daa04ff554ada50426de0</td>\n",
              "      <td>0.19715</td>\n",
              "      <td>0.62025</td>\n",
              "      <td>1.87866</td>\n",
              "      <td>2.69606</td>\n",
              "      <td>Music</td>\n",
              "      <td>Recorders Please!</td>\n",
              "      <td>My students need recorders to learn the basics...</td>\n",
              "      <td>Florida</td>\n",
              "      <td>recorders please &amp; my students need recorders ...</td>\n",
              "    </tr>\n",
              "    <tr>\n",
              "      <th>9</th>\n",
              "      <td>24e28393a4f9c87f14bc91558743726d</td>\n",
              "      <td>0.22674</td>\n",
              "      <td>0.74609</td>\n",
              "      <td>1.60549</td>\n",
              "      <td>2.57832</td>\n",
              "      <td>Literacy, Literature &amp; Writing</td>\n",
              "      <td>Our Books Need a Home</td>\n",
              "      <td>My students need 2 bookcases to give their poe...</td>\n",
              "      <td>Texas</td>\n",
              "      <td>our books need a home &amp; my students need bookc...</td>\n",
              "    </tr>\n",
              "  </tbody>\n",
              "</table>\n",
              "</div>"
            ],
            "text/plain": [
              "                         Project ID  ...                                        project_txt\n",
              "0  010732a68a6a6a7a40b6827355bd2a04  ...  help little voices be heard mics for our shows...\n",
              "1  d2926b1c30b4ccbaf4a104c7430ce10a  ...  i want to bang on the drum all day & my studen...\n",
              "2  b82b4bc5891d416a23a401f1b054af4d  ...  fitness on your mark, get set, go & my student...\n",
              "3  d3831ea2611d92ca62a91a55454085ce  ...  books of our very own & my students need books...\n",
              "4  a312a129579bf0ca8244c6cacee03baa  ...  orff we go & my students need alto xylophones,...\n",
              "5  004a152bbe8952ea5e9d5ef89c179933  ...  claymation experimentation & my students need ...\n",
              "6  ae053d8e69da55b026ba4881f2f972f1  ...  keyboards to start music & my students need ke...\n",
              "7  55bdd3141b8e8c811b3f72682446d9f8  ...  uke troupe new music group whoop whoop & my st...\n",
              "8  c74530cc205daa04ff554ada50426de0  ...  recorders please & my students need recorders ...\n",
              "9  24e28393a4f9c87f14bc91558743726d  ...  our books need a home & my students need bookc...\n",
              "\n",
              "[10 rows x 10 columns]"
            ]
          },
          "metadata": {},
          "execution_count": 281
        }
      ]
    },
    {
      "cell_type": "markdown",
      "metadata": {
        "id": "JlWY-abm2Ehq"
      },
      "source": [
        "## Evaluator"
      ]
    },
    {
      "cell_type": "code",
      "metadata": {
        "id": "fbmHuyAT2EAr"
      },
      "source": [
        "#Top-N accuracy metrics \n",
        "EVAL_RANDOM_SAMPLE_NON_INTERACTED_PROJECTS = 100\n",
        "\n",
        "\n",
        "class ModelEvaluator:\n",
        "\n",
        "    def __init__(self, df_main_donor_index, projects_id):\n",
        "\n",
        "        self.df_main_donor_index = df_main_donor_index\n",
        "        self.df_test_donor_index = df_test_donor_index\n",
        "        self.df_train_donor_index = df_train_donor_index\n",
        "        self.projects_id = projects_id\n",
        "        \n",
        "\n",
        "\n",
        "    def get_not_donated_projects_sample(self, donor_id: str, sample_size: int, seed=42) -> set:\n",
        "        \n",
        "        \"\"\"\n",
        "        input: donor_id\n",
        "        output: a set of not donated projects in df\n",
        "        \"\"\"\n",
        "        \n",
        "        donated_projects = get_projects_donated(donor_id=donor_id, df_donor_indexed=self.df_main_donor_index)\n",
        "\n",
        "        not_donated_projects = [x for x in self.projects_id if x not in donated_projects]\n",
        "        not_donated_projects_sample = random.sample(not_donated_projects, sample_size)\n",
        "        \n",
        "        return set(not_donated_projects_sample)\n",
        "\n",
        "\n",
        "\n",
        "    def _verify_hit_top_n(self, project_id: str, recommended_projects: pd.Series, top_n) -> (bool, int):\n",
        "        \"\"\" \n",
        "        input: one project id (a project our donor has donated to), a set of recommended projects\n",
        "        output: the index of that project_id among all the recomms\n",
        "        \"\"\"\n",
        "        try:\n",
        "            index = next(i for i, c in enumerate(recommended_projects) if c == project_id)\n",
        "        except:\n",
        "            index = -1\n",
        "\n",
        "        hit = int(index in range(0, top_n))\n",
        "\n",
        "        return hit, index\n",
        "        \n",
        "\n",
        "    def evaluate_model_for_donor(self, model, donor_id: str):\n",
        "        \"\"\"\n",
        "        evaluates the recommendations recommended to one donor\n",
        "\n",
        "        \"\"\"\n",
        "\n",
        "        # what donor has donated to in the test set\n",
        "        if type(self.df_test_donor_index.loc[donor_id, 'Project ID']) == pd.Series:\n",
        "            donated_projects_test = set(self.df_test_donor_index.loc[donor_id, 'Project ID'])\n",
        "        else:\n",
        "            donated_projects_test = set([self.df_test_donor_index.loc[donor_id, 'Project ID']])\n",
        "\n",
        "        donated_projects_count_test = len(donated_projects_test)\n",
        "\n",
        "        # overlap--------------------------------------------------------\n",
        "            \n",
        "        df_train_d = df_train_donor_index.loc[donor_id, 'Project ID']\n",
        "        df_test_d = df_test_donor_index.loc[donor_id, 'Project ID']\n",
        "\n",
        "        if type(df_test_d) == str: \n",
        "            df_test_d = [df_test_d]\n",
        "        else: df_test_d = list(df_test_d.values)\n",
        "\n",
        "\n",
        "        if type(df_train_d) == str: \n",
        "            df_train_d = [df_train_d]\n",
        "        else: df_train_d = list(df_train_d.values)\n",
        "\n",
        "        overlap = 0\n",
        "        for project_id in df_test_d:\n",
        "            if project_id in df_train_d:\n",
        "                overlap+=1\n",
        "            else: continue\n",
        "\n",
        "        # get the recommendations--------------------------------------------------------\n",
        "        \n",
        "        recommendations_df, projects_to_ignore = model.recommend_projects(donor_id, projects_to_ignore= get_projects_donated(donor_id, \n",
        "        df_donor_indexed = df_train_donor_index), top_n = None, df_test=df_test)\n",
        "\n",
        "        # if correct we have ranked all the projects except the ones the donor have been only in training set of \n",
        "        # this specific donor\n",
        "        assert len(recommendations_df) == len(projects_id) - len(projects_to_ignore)\n",
        "\n",
        "\n",
        "        \n",
        "        hits_at_3_count = 0\n",
        "        hits_at_5_count = 0\n",
        "        hits_at_10_count = 0\n",
        "\n",
        "         \n",
        "          \n",
        "        for project_id in donated_projects_test:\n",
        "\n",
        "\n",
        "            # first get a sample of the ones he\\she has not donated to \n",
        "            not_donated_projects_sample =  self.get_not_donated_projects_sample(donor_id, sample_size = EVAL_RANDOM_SAMPLE_NON_INTERACTED_PROJECTS, seed = 42)\n",
        "                    \n",
        "                    \n",
        "            # add a donated project to a list of 100 projects this donor has not interacted with\n",
        "            validation_projects = not_donated_projects_sample.union(set([project_id]))\n",
        "\n",
        "\n",
        "            # if true means we have correctly identified the projects they have not interacted with\n",
        "            assert len(not_donated_projects_sample)+1 == len(validation_projects)\n",
        "\n",
        "\n",
        "\n",
        "\n",
        "\n",
        "            recommendations_df_ =  recommendations_df[recommendations_df['Project ID'].isin(validation_projects)].reset_index(drop=True)\n",
        " \n",
        "\n",
        "            recommended_project_ids = recommendations_df_['Project ID'].values\n",
        "            assert len(recommended_project_ids) == 101 , print(len(recommended_project_ids))\n",
        "\n",
        "\n",
        "            hit_at_3, index_at_3 = self._verify_hit_top_n(project_id, recommended_project_ids, 3)\n",
        "            hits_at_3_count += hit_at_3\n",
        "\n",
        "            hit_at_5, index_at_5 = self._verify_hit_top_n(project_id, recommended_project_ids, 5)\n",
        "            hits_at_5_count += hit_at_5\n",
        "\n",
        "            hit_at_10, index_at_10 = self._verify_hit_top_n(project_id, recommended_project_ids, 10)\n",
        "            hits_at_10_count += hit_at_10\n",
        "\n",
        "\n",
        "\n",
        "        # ---------------------------- Recall --------------------------#\n",
        "        recall_at_3 = hits_at_3_count/float(donated_projects_count_test)\n",
        "        recall_at_5 = hits_at_5_count / float(donated_projects_count_test)\n",
        "        recall_at_10 = hits_at_10_count / float(donated_projects_count_test)\n",
        "\n",
        "\n",
        "        donor_metrics = {'donor_id': donor_id,\n",
        "                        'hits@3_count':hits_at_3_count, \n",
        "                         'hits@5_count':hits_at_5_count, \n",
        "                          'hits@10_count':hits_at_10_count, \n",
        "                          'donated_count': donated_projects_count_test,\n",
        "                          'project_overlap_test_train_count': overlap,\n",
        "                          'recall@3': recall_at_3,\n",
        "                          'recall@5': recall_at_5,\n",
        "                          'recall@10': recall_at_10}\n",
        "        return donor_metrics\n",
        "\n",
        "    def evaluate_model(self, model):\n",
        "        \"\"\"\n",
        "        aggregates the results of evaluate_model_for_donor\n",
        "        \"\"\"\n",
        "        metrics = []\n",
        "\n",
        "        for idx, donor_id in enumerate(list(self.df_test_donor_index.index.unique().values)):\n",
        "            \n",
        "            donor_metrics = self.evaluate_model_for_donor(model, donor_id)\n",
        "            if idx%500 ==0: print('%d donors processed' % idx)\n",
        "\n",
        "            metrics.append(donor_metrics)\n",
        "\n",
        "            detailed_results_df = pd.DataFrame(metrics).sort_values('donated_count',  ascending=False).reset_index(drop=True)\n",
        "            \n",
        "        glob_num_donations = float(detailed_results_df['donated_count'].sum())\n",
        "\n",
        "        global_recall_at_3 = detailed_results_df['hits@3_count'].sum()/ glob_num_donations\n",
        "        global_recall_at_5 = detailed_results_df['hits@5_count'].sum()/ glob_num_donations\n",
        "        global_recall_at_10 = detailed_results_df['hits@10_count'].sum()/ glob_num_donations\n",
        "\n",
        "        global_metrics = {'modelName': model.get_model_name(),\n",
        "                          'recall@3': global_recall_at_3,\n",
        "                          'recall@5': global_recall_at_5,\n",
        "                          'recall@10': global_recall_at_10}    \n",
        "        return global_metrics, detailed_results_df\n",
        "    \n",
        "\n",
        "model_evaluator = ModelEvaluator(df_main_donor_index, projects_id)\n"
      ],
      "execution_count": 275,
      "outputs": []
    },
    {
      "cell_type": "code",
      "metadata": {
        "id": "ubAhMbcu2D_D"
      },
      "source": [
        ""
      ],
      "execution_count": 275,
      "outputs": []
    },
    {
      "cell_type": "code",
      "metadata": {
        "colab": {
          "base_uri": "https://localhost:8080/",
          "height": 875
        },
        "id": "hQIWAW1-2D9A",
        "outputId": "a777c3e9-1074-4753-def3-3f017ff39917"
      },
      "source": [
        "print(colored('Hybrid: ', 'green'))\n",
        "global_metrics, detailed_results_df = model_evaluator.evaluate_model(hybrid_model)\n",
        "\n",
        "\n",
        "print('\\nGlobal metrics:\\n%s' % global_metrics)\n",
        "detailed_results_df = detailed_results_df[['donor_id', 'donated_count', \"hits@3_count\", 'hits@5_count', 'hits@10_count', 'recall@3','recall@5','recall@10']]\n",
        "detailed_results_df.head(10)"
      ],
      "execution_count": 276,
      "outputs": [
        {
          "output_type": "stream",
          "name": "stdout",
          "text": [
            "\u001b[32mHybrid: \u001b[0m\n",
            "0 donors processed\n"
          ]
        },
        {
          "output_type": "stream",
          "name": "stderr",
          "text": [
            "/usr/local/lib/python3.7/dist-packages/pandas/core/frame.py:4308: SettingWithCopyWarning: \n",
            "A value is trying to be set on a copy of a slice from a DataFrame\n",
            "\n",
            "See the caveats in the documentation: https://pandas.pydata.org/pandas-docs/stable/user_guide/indexing.html#returning-a-view-versus-a-copy\n",
            "  errors=errors,\n",
            "/usr/local/lib/python3.7/dist-packages/pandas/core/frame.py:4308: SettingWithCopyWarning: \n",
            "A value is trying to be set on a copy of a slice from a DataFrame\n",
            "\n",
            "See the caveats in the documentation: https://pandas.pydata.org/pandas-docs/stable/user_guide/indexing.html#returning-a-view-versus-a-copy\n",
            "  errors=errors,\n",
            "/usr/local/lib/python3.7/dist-packages/pandas/core/frame.py:4308: SettingWithCopyWarning: \n",
            "A value is trying to be set on a copy of a slice from a DataFrame\n",
            "\n",
            "See the caveats in the documentation: https://pandas.pydata.org/pandas-docs/stable/user_guide/indexing.html#returning-a-view-versus-a-copy\n",
            "  errors=errors,\n",
            "/usr/local/lib/python3.7/dist-packages/pandas/core/frame.py:4308: SettingWithCopyWarning: \n",
            "A value is trying to be set on a copy of a slice from a DataFrame\n",
            "\n",
            "See the caveats in the documentation: https://pandas.pydata.org/pandas-docs/stable/user_guide/indexing.html#returning-a-view-versus-a-copy\n",
            "  errors=errors,\n",
            "/usr/local/lib/python3.7/dist-packages/pandas/core/frame.py:4308: SettingWithCopyWarning: \n",
            "A value is trying to be set on a copy of a slice from a DataFrame\n",
            "\n",
            "See the caveats in the documentation: https://pandas.pydata.org/pandas-docs/stable/user_guide/indexing.html#returning-a-view-versus-a-copy\n",
            "  errors=errors,\n"
          ]
        },
        {
          "output_type": "stream",
          "name": "stdout",
          "text": [
            "500 donors processed\n",
            "\n",
            "Global metrics:\n",
            "{'modelName': 'Hybrid', 'recall@3': 0.6050611316462895, 'recall@5': 0.6724481091839636, 'recall@10': 0.752061415979528}\n"
          ]
        },
        {
          "output_type": "execute_result",
          "data": {
            "text/html": [
              "<div>\n",
              "<style scoped>\n",
              "    .dataframe tbody tr th:only-of-type {\n",
              "        vertical-align: middle;\n",
              "    }\n",
              "\n",
              "    .dataframe tbody tr th {\n",
              "        vertical-align: top;\n",
              "    }\n",
              "\n",
              "    .dataframe thead th {\n",
              "        text-align: right;\n",
              "    }\n",
              "</style>\n",
              "<table border=\"1\" class=\"dataframe\">\n",
              "  <thead>\n",
              "    <tr style=\"text-align: right;\">\n",
              "      <th></th>\n",
              "      <th>donor_id</th>\n",
              "      <th>donated_count</th>\n",
              "      <th>hits@3_count</th>\n",
              "      <th>hits@5_count</th>\n",
              "      <th>hits@10_count</th>\n",
              "      <th>recall@3</th>\n",
              "      <th>recall@5</th>\n",
              "      <th>recall@10</th>\n",
              "    </tr>\n",
              "  </thead>\n",
              "  <tbody>\n",
              "    <tr>\n",
              "      <th>0</th>\n",
              "      <td>237db43817f34988f9d543ca518be4ee</td>\n",
              "      <td>90</td>\n",
              "      <td>90</td>\n",
              "      <td>90</td>\n",
              "      <td>90</td>\n",
              "      <td>1.00000</td>\n",
              "      <td>1.00000</td>\n",
              "      <td>1.00000</td>\n",
              "    </tr>\n",
              "    <tr>\n",
              "      <th>1</th>\n",
              "      <td>b51c76411b51751f45527c63c69ead9e</td>\n",
              "      <td>67</td>\n",
              "      <td>65</td>\n",
              "      <td>67</td>\n",
              "      <td>67</td>\n",
              "      <td>0.97015</td>\n",
              "      <td>1.00000</td>\n",
              "      <td>1.00000</td>\n",
              "    </tr>\n",
              "    <tr>\n",
              "      <th>2</th>\n",
              "      <td>4416745560343f14a74dedcda4ec03b0</td>\n",
              "      <td>60</td>\n",
              "      <td>58</td>\n",
              "      <td>58</td>\n",
              "      <td>58</td>\n",
              "      <td>0.96667</td>\n",
              "      <td>0.96667</td>\n",
              "      <td>0.96667</td>\n",
              "    </tr>\n",
              "    <tr>\n",
              "      <th>3</th>\n",
              "      <td>39df9399f5384334a42905bcf0acdcbf</td>\n",
              "      <td>57</td>\n",
              "      <td>57</td>\n",
              "      <td>57</td>\n",
              "      <td>57</td>\n",
              "      <td>1.00000</td>\n",
              "      <td>1.00000</td>\n",
              "      <td>1.00000</td>\n",
              "    </tr>\n",
              "    <tr>\n",
              "      <th>4</th>\n",
              "      <td>c376c98b0cdb746cf025bb21ee810376</td>\n",
              "      <td>49</td>\n",
              "      <td>34</td>\n",
              "      <td>38</td>\n",
              "      <td>43</td>\n",
              "      <td>0.69388</td>\n",
              "      <td>0.77551</td>\n",
              "      <td>0.87755</td>\n",
              "    </tr>\n",
              "    <tr>\n",
              "      <th>5</th>\n",
              "      <td>a299db9679f7746a805fbc300362191d</td>\n",
              "      <td>44</td>\n",
              "      <td>19</td>\n",
              "      <td>24</td>\n",
              "      <td>36</td>\n",
              "      <td>0.43182</td>\n",
              "      <td>0.54545</td>\n",
              "      <td>0.81818</td>\n",
              "    </tr>\n",
              "    <tr>\n",
              "      <th>6</th>\n",
              "      <td>98c4cd327c417683cd76a2ac19fc6254</td>\n",
              "      <td>43</td>\n",
              "      <td>35</td>\n",
              "      <td>39</td>\n",
              "      <td>40</td>\n",
              "      <td>0.81395</td>\n",
              "      <td>0.90698</td>\n",
              "      <td>0.93023</td>\n",
              "    </tr>\n",
              "    <tr>\n",
              "      <th>7</th>\n",
              "      <td>03fa60275eb66e873c30ecb86840df4b</td>\n",
              "      <td>42</td>\n",
              "      <td>42</td>\n",
              "      <td>42</td>\n",
              "      <td>42</td>\n",
              "      <td>1.00000</td>\n",
              "      <td>1.00000</td>\n",
              "      <td>1.00000</td>\n",
              "    </tr>\n",
              "    <tr>\n",
              "      <th>8</th>\n",
              "      <td>24ecca49933c30a0beb83090591720c0</td>\n",
              "      <td>41</td>\n",
              "      <td>41</td>\n",
              "      <td>41</td>\n",
              "      <td>41</td>\n",
              "      <td>1.00000</td>\n",
              "      <td>1.00000</td>\n",
              "      <td>1.00000</td>\n",
              "    </tr>\n",
              "    <tr>\n",
              "      <th>9</th>\n",
              "      <td>609e28d99b36d35679ae56268e4dddc3</td>\n",
              "      <td>39</td>\n",
              "      <td>24</td>\n",
              "      <td>29</td>\n",
              "      <td>32</td>\n",
              "      <td>0.61538</td>\n",
              "      <td>0.74359</td>\n",
              "      <td>0.82051</td>\n",
              "    </tr>\n",
              "  </tbody>\n",
              "</table>\n",
              "</div>"
            ],
            "text/plain": [
              "                           donor_id  donated_count  ...  recall@5  recall@10\n",
              "0  237db43817f34988f9d543ca518be4ee             90  ...   1.00000    1.00000\n",
              "1  b51c76411b51751f45527c63c69ead9e             67  ...   1.00000    1.00000\n",
              "2  4416745560343f14a74dedcda4ec03b0             60  ...   0.96667    0.96667\n",
              "3  39df9399f5384334a42905bcf0acdcbf             57  ...   1.00000    1.00000\n",
              "4  c376c98b0cdb746cf025bb21ee810376             49  ...   0.77551    0.87755\n",
              "5  a299db9679f7746a805fbc300362191d             44  ...   0.54545    0.81818\n",
              "6  98c4cd327c417683cd76a2ac19fc6254             43  ...   0.90698    0.93023\n",
              "7  03fa60275eb66e873c30ecb86840df4b             42  ...   1.00000    1.00000\n",
              "8  24ecca49933c30a0beb83090591720c0             41  ...   1.00000    1.00000\n",
              "9  609e28d99b36d35679ae56268e4dddc3             39  ...   0.74359    0.82051\n",
              "\n",
              "[10 rows x 8 columns]"
            ]
          },
          "metadata": {},
          "execution_count": 276
        }
      ]
    },
    {
      "cell_type": "code",
      "metadata": {
        "id": "J2INfgZN2D7A"
      },
      "source": [
        ""
      ],
      "execution_count": null,
      "outputs": []
    }
  ]
}