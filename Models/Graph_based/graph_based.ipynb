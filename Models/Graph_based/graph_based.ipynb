{
 "cells": [
  {
   "cell_type": "code",
   "execution_count": null,
   "metadata": {},
   "outputs": [],
   "source": [
    "pip install -U sentence-transformers"
   ]
  },
  {
   "cell_type": "code",
   "execution_count": 1,
   "metadata": {},
   "outputs": [],
   "source": [
    "# Packages\n",
    "\n",
    "#pip install -U sentence-transformers\n",
    "from termcolor import colored\n",
    "import matplotlib.pyplot as plt\n",
    "import pickle\n",
    "import pandas as pd\n",
    "import numpy as np\n",
    "import string\n",
    "import regex as re\n",
    "import zipfile\n",
    "import gc\n",
    "from scipy.stats import boxcox\n",
    "import sys \n",
    "from collections import Counter \n",
    "from tqdm import tqdm \n",
    "import pandas as pd \n",
    "import numpy as np \n",
    "import warnings, math\n",
    "from termcolor import colored\n",
    "import pickle\n",
    "import string\n",
    "from sklearn.metrics.pairwise import cosine_similarity\n",
    "\n",
    "# for eval\n",
    "from sklearn.model_selection import train_test_split\n",
    "import random\n",
    "\n",
    "\n",
    "# for SVD\n",
    "from scipy.sparse.linalg import svds\n",
    "from scipy.sparse import csr_matrix\n",
    "pd.set_option('display.float_format','{:.5f}'.format)\n",
    "\n",
    "# for EMB\n",
    "from sentence_transformers import SentenceTransformer, util\n",
    "import scipy\n",
    "from sklearn import preprocessing \n",
    "\n",
    "# for TFIDF\n",
    "from sklearn.feature_extraction.text import TfidfVectorizer\n",
    "import scipy\n",
    "from sklearn import preprocessing \n",
    "\n",
    "# for creating a network\n",
    "from sklearn.metrics.pairwise import linear_kernel\n",
    "from sklearn.metrics.pairwise import cosine_similarity"
   ]
  },
  {
   "cell_type": "code",
   "execution_count": 2,
   "metadata": {},
   "outputs": [],
   "source": [
    "EXT_FEATURES_PATH = 'D:\\Papers\\Paper 3 - Recommender Systems\\Recommender-systems\\Files\\Graph_based\\ext_features_agg.csv'\n",
    "NEW_DF_PATH = 'D:\\Papers\\Paper 3 - Recommender Systems\\Recommender-systems\\Files\\Graph_based\\Oct_28_df.csv'\n",
    "PROJECTS_DF_PATH = \"D:\\Papers\\Paper 3 - Recommender Systems\\Recommender-systems\\Files\\projects.csv\"\n",
    "\n",
    "\n",
    "ext_features = pd.read_csv(EXT_FEATURES_PATH)\n",
    "df = pd.read_csv(NEW_DF_PATH)\n",
    "projects_df = pd.read_csv(PROJECTS_DF_PATH)\n"
   ]
  },
  {
   "cell_type": "code",
   "execution_count": null,
   "metadata": {},
   "outputs": [],
   "source": []
  },
  {
   "cell_type": "code",
   "execution_count": 4,
   "metadata": {},
   "outputs": [
    {
     "name": "stdout",
     "output_type": "stream",
     "text": [
      "# donations in Train set:  43,604\n",
      "# donations in Test set:  4,845\n",
      "# Donors in Train set:  790\n",
      "# Donors in Test set:  617\n",
      "# Donors in both Train and Test sets - the ones we choose for evaluation:  \u001b[34m617\u001b[0m\n"
     ]
    }
   ],
   "source": [
    "df_train, df_test = train_test_split(df, test_size=0.1, random_state=42)\n",
    "\n",
    "print('# donations in Train set: ', f\"{len(df_train):,}\")\n",
    "print('# donations in Test set: ',  f\"{len(df_test):,}\")\n",
    "\n",
    "print('# Donors in Train set: ', f\"{len(df_train['Donor ID'].unique()):,}\")\n",
    "print('# Donors in Test set: ',  f\"{len(df_test['Donor ID'].unique()):,}\")\n",
    "\n",
    "\n",
    "print('# Donors in both Train and Test sets - the ones we choose for evaluation: ',\n",
    "      colored(f\"{len(df_train[df_train['Donor ID'].isin(df_test['Donor ID'].values.tolist())]['Donor ID'].unique()):,}\", 'blue'))\n",
    "\n",
    "\n",
    "\n",
    "df_train = df_train[df_train['Donor ID'].isin(df_test['Donor ID'].values.tolist())].reset_index(drop=True)\n",
    "df_test = df_test[df_test['Donor ID'].isin(df_train['Donor ID'].values.tolist())].reset_index(drop=True)\n",
    "\n",
    "# sum of donation in a grouped by donor id dataset\n",
    "df_main_donor_index = df.groupby(by = ['Donor ID', 'Project ID']).sum()[['Donation Amount']].reset_index().set_index('Donor ID')\n",
    "df_train_donor_index = df_train.groupby(by = ['Donor ID', 'Project ID']).sum()[['Donation Amount']].reset_index().set_index('Donor ID')\n",
    "df_test_donor_index = df_test.groupby(by = ['Donor ID', 'Project ID']).sum()[['Donation Amount']].reset_index().set_index('Donor ID')"
   ]
  },
  {
   "cell_type": "code",
   "execution_count": null,
   "metadata": {},
   "outputs": [],
   "source": []
  },
  {
   "cell_type": "code",
   "execution_count": 5,
   "metadata": {},
   "outputs": [],
   "source": [
    "projects_df = projects_df[projects_df['Project ID'].isin(df['Project ID'])].reset_index(drop=True)\n",
    "\n",
    "project_txt = projects_df.loc[:, 'project_txt']\n",
    "projects_id = projects_df['Project ID'].tolist()\n"
   ]
  },
  {
   "cell_type": "markdown",
   "metadata": {},
   "source": [
    "### Create Embeddings (projects)"
   ]
  },
  {
   "cell_type": "code",
   "execution_count": null,
   "metadata": {},
   "outputs": [],
   "source": [
    "# ----------------- embeddings---------------------#\n",
    "model = SentenceTransformer('paraphrase-distilroberta-base-v1') # , device= 'cuda'\n",
    "embeddings = model.encode(project_txt, batch_size=256, show_progress_bar=True)"
   ]
  },
  {
   "cell_type": "code",
   "execution_count": null,
   "metadata": {},
   "outputs": [],
   "source": [
    "with open(EMBEDDING_PATH, 'wb') as f:\n",
    "    pickle.dump(embeddings, f)"
   ]
  },
  {
   "cell_type": "markdown",
   "metadata": {},
   "source": [
    "### Create Embeddings (donors profile)"
   ]
  },
  {
   "cell_type": "code",
   "execution_count": 5,
   "metadata": {},
   "outputs": [],
   "source": [
    "EMBEDDING_PATH = 'D:\\Papers\\Paper 3 - Recommender Systems\\Recommender-systems\\Files\\Graph_based\\Oct_28_project_embeddings.pickle'\n",
    "project_embeddings_matrix = pd.read_pickle(EMBEDDING_PATH)"
   ]
  },
  {
   "cell_type": "code",
   "execution_count": 16,
   "metadata": {},
   "outputs": [],
   "source": [
    "# ==================== Embeddings ==================== #\n",
    "\n",
    "# ----------------------- projects profiles------------------- #\n",
    "def get_project_profile_emb(project_id: str, project_embeddings_matrix):\n",
    "\n",
    "    # get the ids\n",
    "    idx = projects_id.index(project_id)\n",
    "    project_profile = project_embeddings[idx:idx+1]\n",
    "    \n",
    "    return project_profile\n",
    "\n",
    "\n",
    "\n",
    "def get_projects_profiles_emb(ids: pd.Series, project_embeddings_matrix):\n",
    "\n",
    "\n",
    "    profiles_list = [get_project_profile_emb(project_id, project_embeddings)[0] for project_id in np.ravel([ids])]\n",
    "    project_profiles = np.vstack(profiles_list)\n",
    "\n",
    "    return project_profiles\n",
    "\n",
    "\n",
    "# ----------------------- Donors profiles------------------- #\n",
    "\n",
    "def build_donors_profile_emb(donor_id: str, df_train_donor_index: pd.DataFrame):\n",
    "\n",
    "    # get the id of each person and the projects they\n",
    "    # donated to\n",
    "    donations_donor_df = df_train_donor_index.loc[donor_id]\n",
    "\n",
    "\n",
    "    # get the vectors of projects this person has donated to\n",
    "    donor_donated_project_intrain_profiles = get_projects_profiles_emb(donations_donor_df['Project ID'], project_embeddings)\n",
    "\n",
    "\n",
    "    # get the smoothed donated amount as the weight of each project\n",
    "    donor_project_strengths = np.array(donations_donor_df['Donation Amount']).reshape(-1, 1)\n",
    "\n",
    "\n",
    "    # multiply the weights and tfidf vectors\n",
    "    multiplication = np.multiply(donor_donated_project_intrain_profiles, donor_project_strengths)\n",
    "\n",
    "\n",
    "    # now we normalize the whole vector \n",
    "    normalized_donor_preference = preprocessing.normalize(np.sum(multiplication, axis=0).reshape(1, -1))\n",
    "    \n",
    "\n",
    "\n",
    "    return normalized_donor_preference\n",
    "\n",
    "\n",
    "def build_donors_profiles_emb(df_test_donor_index: pd.DataFrame, df_train_donor_index: pd.DataFrame, sample_size: int = None):\n",
    "    \n",
    "    # now for all donors we build a profile in a dictionary\n",
    "    donor_profiles = {}\n",
    "    donors_in_test_set = df_test_donor_index.index.unique().tolist()[:sample_size]\n",
    "\n",
    "    for donor_id in tqdm(donors_in_test_set[:sample_size], position=0, leave=True):\n",
    "        donor_profiles[donor_id] = build_donors_profile_emb(donor_id, df_train_donor_index)\n",
    "\n",
    "    return donor_profiles\n",
    "\n",
    "    \n",
    "\n"
   ]
  },
  {
   "cell_type": "code",
   "execution_count": 17,
   "metadata": {},
   "outputs": [
    {
     "name": "stderr",
     "output_type": "stream",
     "text": [
      "100%|██████████| 617/617 [00:00<00:00, 1377.75it/s]\n"
     ]
    }
   ],
   "source": [
    "donor_profiles_emb = build_donors_profiles_emb(df_test_donor_index, df_train_donor_index)"
   ]
  },
  {
   "cell_type": "code",
   "execution_count": null,
   "metadata": {},
   "outputs": [],
   "source": [
    "len(donor_profiles_emb['009d5fc7b87883ffad248db5150bf1fc'][0]) == 768"
   ]
  },
  {
   "cell_type": "code",
   "execution_count": null,
   "metadata": {},
   "outputs": [],
   "source": [
    "PROFILE_EMBEDDING_PATH = 'D:\\Papers\\Paper 3 - Recommender Systems\\Recommender-systems\\Files\\Graph_based\\Oct_28_donor_profiles_embeddings.pickle'\n",
    "\n",
    "with open(PROFILE_EMBEDDING_PATH, 'wb') as f:\n",
    "    pickle.dump(donor_profiles_emb, f)"
   ]
  },
  {
   "cell_type": "code",
   "execution_count": null,
   "metadata": {},
   "outputs": [],
   "source": []
  },
  {
   "cell_type": "code",
   "execution_count": 22,
   "metadata": {},
   "outputs": [],
   "source": []
  },
  {
   "cell_type": "markdown",
   "metadata": {},
   "source": [
    "### Graph"
   ]
  },
  {
   "cell_type": "code",
   "execution_count": 6,
   "metadata": {},
   "outputs": [],
   "source": [
    "PROFILE_EMBEDDING_PATH = r'D:\\Papers\\Paper 3 - Recommender Systems\\Recommender-systems\\Files\\Graph_based\\Oct_28_donor_profiles_embeddings.pickle'\n",
    "PROJECT_EMBEDDING_PATH = r'D:\\Papers\\Paper 3 - Recommender Systems\\Recommender-systems\\Files\\Graph_based\\Oct_28_project_embeddings.pickle'\n",
    "USER_PROFILE_PATH = r'D:\\Papers\\Paper 3 - Recommender Systems\\Recommender-systems\\Files\\Graph_based\\user_profile.csv'\n",
    "\n",
    "project_embeddings = pd.read_pickle(PROJECT_EMBEDDING_PATH)\n",
    "donor_profiles_emb = pd.read_pickle(PROFILE_EMBEDDING_PATH)\n",
    "user_profile_df = pd.read_csv(USER_PROFILE_PATH)"
   ]
  },
  {
   "cell_type": "code",
   "execution_count": 7,
   "metadata": {},
   "outputs": [],
   "source": [
    "donors_id = list(donor_profiles_emb.keys())# donor_profiles_emb = user_embeddings"
   ]
  },
  {
   "cell_type": "code",
   "execution_count": 8,
   "metadata": {},
   "outputs": [],
   "source": [
    "# interaction matrixes for similarity scores-------------------------------------\n",
    "\n",
    "#project\n",
    "project_interactions = linear_kernel(project_embeddings_matrix, project_embeddings_matrix)\n",
    "\n",
    "# donors\n",
    "donor_embeddings_matrix = np.array([donor_profiles_emb[id][0] for id in donors_id])\n",
    "donors_interactions  = linear_kernel(donor_embeddings_matrix, donor_embeddings_matrix)\n"
   ]
  },
  {
   "cell_type": "code",
   "execution_count": null,
   "metadata": {},
   "outputs": [],
   "source": []
  },
  {
   "cell_type": "code",
   "execution_count": 9,
   "metadata": {},
   "outputs": [],
   "source": [
    "# DONOR - DONOR / PROJ-PROJ edges dict -----------------------------------------------------------------------\n",
    "\n",
    "\n",
    "def create_edges(ids: list, interaction_matrix: np.array, top_n_similar: int = 20) -> dict:\n",
    "\n",
    "    \"\"\"\n",
    "    output = {'donor_id': [(score, similar donor_id)] }\n",
    "\n",
    "    \"\"\"\n",
    "    edges_dict = {}\n",
    "    for idx, emb in enumerate(ids):\n",
    "        similar_indices = interaction_matrix[idx].argsort()[:-top_n_similar:-1]\n",
    "        \n",
    "        # idx = index of donor/project\n",
    "        # i = index of similar donor/project\n",
    "        # similar_items = list(score, similar donor_id/project_id)\n",
    "        similar_items = [(interaction_matrix[idx][i], ids[i]) for i in similar_indices]\n",
    "        edges_dict[ids[idx]] = similar_items\n",
    "\n",
    "    return edges_dict\n",
    "\n",
    "\n",
    "donors_edges = create_edges(donors_id, donors_interactions)\n",
    "project_edges = create_edges(projects_id, project_interactions)"
   ]
  },
  {
   "cell_type": "code",
   "execution_count": 10,
   "metadata": {},
   "outputs": [],
   "source": [
    "# Graphs -----------------------------------------------------------\n",
    "\n",
    "# Donor graph---------------------------------------------------------------\n",
    "\n",
    "class Graph():\n",
    "    \"\"\"\n",
    "    Create the donors'/projects' graph and save their information in nodes.\n",
    "    \"\"\"\n",
    "    \n",
    "    \n",
    "    def __init__(self, graph_name: str):\n",
    "        self.graph = {}\n",
    "        self.graph_name = graph_name\n",
    "    \n",
    "    # function to add new nodes in the graph\n",
    "    def _create_node(self, node_id: str, node_properties):\n",
    "        self.graph[node_id] = node_properties \n",
    "    \n",
    "    # function to view the nodes in the graph\n",
    "    def _view_nodes(self):\n",
    "        return self.graph\n",
    "    \n",
    "    # function to create edges\n",
    "    def _create_edges(self, node_id, node_edges):\n",
    "        if node_id in self.graph:\n",
    "            self.graph[node_id]['edges'] = node_edges"
   ]
  },
  {
   "cell_type": "code",
   "execution_count": 11,
   "metadata": {},
   "outputs": [],
   "source": [
    "## initialize the donors graph\n",
    "dg = Graph(graph_name = 'donor')\n",
    "pg = Graph(graph_name = 'projects')\n",
    "\n",
    "\n",
    "## NODES ------------------------------------------------------------------------------------------\n",
    "# donors\n",
    "for donor_id in donors_id:\n",
    "    # donor_id = node_id\n",
    "    node_properties = dict(next(user_profile_df[user_profile_df['Donor ID'] == donor_id].iterrows())[1])\n",
    "    node_properties['donor_project_emb'] = donor_profiles_emb[donor_id][0]\n",
    "    \n",
    "    dg._create_node(donor_id, node_properties)\n",
    "\n",
    "\n",
    "# projects\n",
    "for idx, project_id in enumerate(projects_id):\n",
    "    # donor_id = node_id\n",
    "    node_properties = dict(next(projects_df[projects_df['Project ID'] == project_id].iterrows())[1])\n",
    "    node_properties['project_embedding'] = project_embeddings_matrix[idx]\n",
    "\n",
    "    del node_properties['Project Need Statement']\n",
    "    #if idx==0: print(node_properties)\n",
    "    pg._create_node(project_id, node_properties)\n",
    "\n",
    "\n",
    "\n",
    "# EDGES -----------------------------------------------------------------\n",
    "\n",
    "def create_edges_in_graph(graph: object, edges: dict, ids:list, top_n_similar: int = 5):\n",
    "\n",
    "    for id in ids:\n",
    "        node_edges = edges[id][:top_n_similar]\n",
    "        graph._create_edges(id, node_edges)\n",
    "\n",
    "create_edges_in_graph(graph = dg, edges = donors_edges, ids= donors_id, top_n_similar = 5)\n",
    "create_edges_in_graph(graph = pg, edges = project_edges, ids= projects_id, top_n_similar = 5)\n"
   ]
  },
  {
   "cell_type": "code",
   "execution_count": 12,
   "metadata": {},
   "outputs": [],
   "source": [
    "#dg._view_nodes()[donor_id]\n",
    "#pg._view_nodes()[project_id]"
   ]
  },
  {
   "cell_type": "markdown",
   "metadata": {},
   "source": [
    "### Graphs Visualization"
   ]
  },
  {
   "cell_type": "code",
   "execution_count": 13,
   "metadata": {},
   "outputs": [],
   "source": [
    "# Get the D3 host locally. \n",
    "from IPython.core.display import display, HTML\n",
    "from string import Template\n",
    "import pandas as pd\n",
    "import json, random"
   ]
  },
  {
   "cell_type": "code",
   "execution_count": null,
   "metadata": {},
   "outputs": [],
   "source": []
  },
  {
   "cell_type": "code",
   "execution_count": 14,
   "metadata": {},
   "outputs": [
    {
     "data": {
      "text/html": [
       "\n",
       "    <style scoped>\n",
       "    .this_style {\n",
       "        color: white;\n",
       "        font: 16px;\n",
       "    }\n",
       "    </style>\n",
       "<h1 class=\"this_style\"> hi there </h1>\n",
       "    "
      ],
      "text/plain": [
       "<IPython.core.display.HTML object>"
      ]
     },
     "execution_count": 14,
     "metadata": {},
     "output_type": "execute_result"
    }
   ],
   "source": [
    "HTML(\n",
    "    '''\n",
    "    <style scoped>\n",
    "    .this_style {\n",
    "        color: white;\n",
    "        font: 16px;\n",
    "    }\n",
    "    </style>\n",
    "<h1 class=\"this_style\"> hi there </h1>\n",
    "    '''\n",
    ")"
   ]
  },
  {
   "cell_type": "code",
   "execution_count": 15,
   "metadata": {},
   "outputs": [
    {
     "data": {
      "text/plain": [
       "610"
      ]
     },
     "execution_count": 15,
     "metadata": {},
     "output_type": "execute_result"
    }
   ],
   "source": [
    "len(dg._view_nodes())"
   ]
  },
  {
   "cell_type": "code",
   "execution_count": null,
   "metadata": {},
   "outputs": [],
   "source": []
  },
  {
   "cell_type": "code",
   "execution_count": null,
   "metadata": {},
   "outputs": [],
   "source": []
  },
  {
   "cell_type": "code",
   "execution_count": 16,
   "metadata": {},
   "outputs": [],
   "source": [
    "from IPython.core.display import display, HTML, Javascript\n",
    "import IPython.display\n",
    "import json\n",
    "\n",
    "FOLDER_PATH = r\"D:\\Papers\\Paper 3 - Recommender Systems\\Recommender-systems\\Files\\Graph_based\\graph_vis\"\n",
    "\n",
    "nodes = []\n",
    "links = []\n",
    "\n",
    "nodes.append({'id' : 'Donors', 'group' : 2, 'size' : 20 })\n",
    "for key, val in list(dg._view_nodes().items())[:10]:\n",
    "    if len(val['edges']) == 0:\n",
    "        continue\n",
    "    nodes.append({'id' : key, 'group' : 2, 'size' : 15})\n",
    "    links.append({\"source\" : \"Donors\", \"target\" : key, \"value\" : 10})\n",
    "    \n",
    "    for node in val['edges']:\n",
    "        nodes.append({'id' : node[1], 'group' : 2, 'size' : 12})\n",
    "        \n",
    "        sv = np.log(node[0])\n",
    "        ew = 10\n",
    "        if sv > 6:\n",
    "            ew = 100\n",
    "        elif sv > 5:\n",
    "            ew = 20\n",
    "        elif sv > 4:\n",
    "            ew = 15\n",
    "        else:\n",
    "            ew = 10\n",
    "                    \n",
    "        links.append({\"source\": key, \"target\": node[1], \"value\": ew})\n",
    "doc = {'nodes' : nodes, 'links' : links}\n",
    "with open(FOLDER_PATH + \"\\donorg.json\", \"w\") as fout:\n",
    "    fout.write(json.dumps(doc))\n",
    "    \n",
    "    \n",
    "\n",
    "nodes = []\n",
    "links = []\n",
    "nodes.append({'id' : 'Projects', 'group' : 0, 'size' : 20, \"title\" : \"Projects\" })\n",
    "for key, val in list(pg._view_nodes().items())[:10]:\n",
    "    if len(val['edges']) == 0:\n",
    "        continue\n",
    "\n",
    "    nodes.append({'id' : key, 'group' : 0, 'size' : 15})\n",
    "    links.append({\"source\" : \"Projects\",\"title\" : val['Project Title'], \"target\" : key, \"value\" : 10})\n",
    "    for node in val['edges']:\n",
    "        title = projects_df[projects_df['Project ID'] == node[1]]['Project Title'].iloc(0)[0]\n",
    "        nodes.append({'id' : node[1], 'group' : 2, 'size' : 12, \"title\": title})\n",
    "        links.append({\"source\": key, \"target\": node[1], \"value\": 8})\n",
    "doc = {'nodes' : nodes, 'links' : links}\n",
    "with open(FOLDER_PATH + \"\\projectg.json\", \"w\") as fout:\n",
    "    fout.write(json.dumps(doc))"
   ]
  },
  {
   "cell_type": "code",
   "execution_count": null,
   "metadata": {},
   "outputs": [],
   "source": []
  },
  {
   "cell_type": "code",
   "execution_count": 17,
   "metadata": {},
   "outputs": [
    {
     "data": {
      "text/html": [
       "<script src=\"lib/d3/d3.min.js\"></script>"
      ],
      "text/plain": [
       "<IPython.core.display.HTML object>"
      ]
     },
     "execution_count": 17,
     "metadata": {},
     "output_type": "execute_result"
    }
   ],
   "source": [
    "HTML('<script src=\"lib/d3/d3.min.js\"></script>')"
   ]
  },
  {
   "cell_type": "code",
   "execution_count": 18,
   "metadata": {},
   "outputs": [
    {
     "data": {
      "text/html": [
       "\n",
       "\n",
       "\n",
       "\n"
      ],
      "text/plain": [
       "<IPython.core.display.HTML object>"
      ]
     },
     "execution_count": 18,
     "metadata": {},
     "output_type": "execute_result"
    }
   ],
   "source": [
    "from IPython.core.display import display, HTML\n",
    "from string import Template\n",
    "import json\n",
    "\n",
    "HTML('')\n",
    "\n",
    "css_text = '''\n",
    "'''\n",
    "\n",
    "js_text_template = Template('''\n",
    "       var bogoSVG = d3.select(\"#$bogoanimation\") \n",
    "          .append(\"svg\")\n",
    "          .attr(\"width\", 300)\n",
    "          .attr(\"height\", 300);    \n",
    "\n",
    "      var data = $python_data ;\n",
    "       bogoSVG.append(\"circle\")\n",
    "          .style(\"stroke\", \"gray\")\n",
    "          .style(\"fill\", \"cyan\")\n",
    "          .attr(\"r\", data[0]['r'])\n",
    "          .attr(\"cx\", data[0]['cx'])\n",
    "          .attr(\"cy\", data[0]['cy'])\n",
    "          .transition()\n",
    "             .delay(100)\n",
    "             .duration(10000)  \n",
    "             .attr(\"r\", 10)\n",
    "             .attr(\"cx\", data[0]['cx'])\n",
    "             .style(\"fill\", \"blue\"); \n",
    "''')\n",
    "\n",
    "html_template = Template('''\n",
    "\n",
    "\n",
    "\n",
    "''')\n",
    "\n",
    "js_text = js_text_template.substitute({'python_data': json.dumps([{'r': 130, 'cx': 150, 'cy': 150}]),\n",
    "                                       'bogoanimation': 'animation'})\n",
    "\n",
    "HTML(html_template.substitute({'css_text': css_text, 'js_text': js_text}))"
   ]
  },
  {
   "cell_type": "code",
   "execution_count": 17,
   "metadata": {},
   "outputs": [],
   "source": [
    "#!pip install jupyter_contrib_nbextensions\n"
   ]
  },
  {
   "cell_type": "code",
   "execution_count": 18,
   "metadata": {},
   "outputs": [],
   "source": [
    "#!jupyter contrib nbextension install --user"
   ]
  },
  {
   "cell_type": "code",
   "execution_count": null,
   "metadata": {},
   "outputs": [],
   "source": []
  },
  {
   "cell_type": "code",
   "execution_count": 19,
   "metadata": {},
   "outputs": [
    {
     "name": "stderr",
     "output_type": "stream",
     "text": [
      "Enabling notebook extension codefolding/main...\n",
      "      - Validating: ok\n"
     ]
    }
   ],
   "source": [
    "!jupyter nbextension enable codefolding/main"
   ]
  },
  {
   "cell_type": "code",
   "execution_count": null,
   "metadata": {},
   "outputs": [],
   "source": []
  },
  {
   "cell_type": "code",
   "execution_count": null,
   "metadata": {},
   "outputs": [],
   "source": []
  },
  {
   "cell_type": "code",
   "execution_count": 20,
   "metadata": {},
   "outputs": [
    {
     "data": {
      "application/javascript": "require.config({ \n     paths: { \n     d3: 'https://d3js.org/d3.v5.min'\n}});\n",
      "text/plain": [
       "<IPython.core.display.Javascript object>"
      ]
     },
     "metadata": {},
     "output_type": "display_data"
    }
   ],
   "source": [
    "%%javascript\n",
    "require.config({ \n",
    "     paths: { \n",
    "     d3: 'https://d3js.org/d3.v5.min'\n",
    "}});"
   ]
  },
  {
   "cell_type": "code",
   "execution_count": 22,
   "metadata": {},
   "outputs": [
    {
     "data": {
      "text/html": [
       "\n",
       "<!DOCTYPE html>\n",
       "<meta charset=\"utf-8\">\n",
       "<style>\n",
       "\n",
       ".links line {\n",
       "  stroke: #999;\n",
       "  stroke-opacity: 0.8;\n",
       "}\n",
       ".node text {\n",
       "  pointer-events: none;\n",
       "  font: 10px sans-serif;\n",
       "}\n",
       "\n",
       ".tooldiv {\n",
       "    display: inline-block;\n",
       "    width: 120px;\n",
       "    background-color: white;\n",
       "    color: #000;\n",
       "    text-align: center;\n",
       "    padding: 5px 0;\n",
       "    border-radius: 6px;\n",
       "    z-index: 1;\n",
       "}\n",
       ".nodes circle {\n",
       "  stroke: #fff;\n",
       "  stroke-width: 1.5px;\n",
       "}\n",
       "\n",
       "div.tooltip {\t\n",
       "    position: absolute;\t\t\t\n",
       "    text-align: center;\t\t\t\n",
       "    width: 250px;\t\t\t\t\t\n",
       "    height: 40px;\t\t\t\t\t\n",
       "    padding: 2px;\t\t\t\t\n",
       "    font: 12px sans-serif;\t\t\n",
       "    background: lightsteelblue;\t\n",
       "    border: 0px;\t\t\n",
       "    border-radius: 8px;\t\t\t\n",
       "    pointer-events: none;\t\t\t\n",
       "}\n",
       "\n",
       "</style>\n",
       "<svg id=\"donorg\" width=\"860\" height=\"760\"></svg>\n",
       "<h1>hello</h1>\n"
      ],
      "text/plain": [
       "<IPython.core.display.HTML object>"
      ]
     },
     "metadata": {},
     "output_type": "display_data"
    },
    {
     "data": {
      "application/javascript": "\nrequire.config({\n    paths: {\n        d3: 'https://d3js.org/d3.v5.min'\n     }\n });\n console.log('hi there');\n \nrequire([\"d3\"], function(d3) {// Dimensions of sunburst.\n console.log(d3.version);\nvar svg = d3.select(\"#donorg\"),\n    width = +svg.attr(\"width\"),\n    height = +svg.attr(\"height\");\n\nvar color = d3.scaleOrdinal(d3.schemeCategory20);\n\nvar simulation = d3.forceSimulation()\n\n    .force(\"link\", d3.forceLink().id(function(d) { return d.id; }).distance(20).strength(1))\n    .force(\"charge\", d3.forceManyBody().strength(-155))\n    .force(\"center\", d3.forceCenter(width / 2, height / 2));\n\nd3.json(\"donorg.json\", function(error, graph) {\n  if (error) throw error;\n\n  var link = svg.append(\"g\")\n      .attr(\"class\", \"links\")\n    .selectAll(\"line\")\n    .data(graph.links)\n    .enter().append(\"line\")\n      .attr(\"stroke-width\", function(d) { return Math.sqrt(d.value); });\n\n// Define the div for the tooltip\nvar div = d3.select(\"body\").append(\"div\")\t\n    .attr(\"class\", \"tooltip\")\t\t\t\t\n    .style(\"opacity\", 0);\n\n  var node = svg.append(\"g\")\n      .attr(\"class\", \"nodes\")\n    .selectAll(\"circle\")\n    .data(graph.nodes)\n    .enter().append(\"circle\")\n      .attr(\"r\", function(d) {return d.size})\n      .attr(\"fill\", function(d) { return color(d.group); })\n      .call(d3.drag()\n          .on(\"start\", dragstarted)\n          .on(\"drag\", dragged)\n          .on(\"end\", dragended)).on(\"mouseover\", function(d) {\t\t\n            div.transition()\t\t\n                .duration(200)\t\t\n                .style(\"opacity\", .9);\t\t\n            div.html(d.id)\n                .style(\"left\", (d3.event.pageX) + \"px\")\t\t\n                .style(\"top\", (d3.event.pageY - 28) + \"px\");\t\n            })\t\t\t\t\t\n        .on(\"mouseout\", function(d) {\t\t\n            div.transition()\t\t\n                .duration(500)\t\t\n                .style(\"opacity\", 0);\t\n        });\n          \n    \n\n  simulation\n      .nodes(graph.nodes)\n      .on(\"tick\", ticked);\n      \n\n  simulation.force(\"link\")\n      .links(graph.links);\n\n  function ticked() {\n    link\n        .attr(\"x1\", function(d) { return d.source.x; })\n        .attr(\"y1\", function(d) { return d.source.y; })\n        .attr(\"x2\", function(d) { return d.target.x; })\n        .attr(\"y2\", function(d) { return d.target.y; });\n\n    node\n        .attr(\"cx\", function(d) { return d.x; })\n        .attr(\"cy\", function(d) { return d.y; });\n  }\n});\n\nfunction dragstarted(d) {\n  if (!d3.event.active) simulation.alphaTarget(0.3).restart();\n  d.fx = d.x;\n  d.fy = d.y;\n}\n\nfunction dragged(d) {\n  d.fx = d3.event.x;\n  d.fy = d3.event.y;\n}\n\nfunction dragended(d) {\n  if (!d3.event.active) simulation.alphaTarget(0);\n  d.fx = null;\n  d.fy = null;\n}\n });\n"
     },
     "metadata": {},
     "output_type": "display_data"
    }
   ],
   "source": [
    "html7=\"\"\"\n",
    "<!DOCTYPE html>\n",
    "<meta charset=\"utf-8\">\n",
    "<style>\n",
    "\n",
    ".links line {\n",
    "  stroke: #999;\n",
    "  stroke-opacity: 0.8;\n",
    "}\n",
    ".node text {\n",
    "  pointer-events: none;\n",
    "  font: 10px sans-serif;\n",
    "}\n",
    "\n",
    ".tooldiv {\n",
    "    display: inline-block;\n",
    "    width: 120px;\n",
    "    background-color: white;\n",
    "    color: #000;\n",
    "    text-align: center;\n",
    "    padding: 5px 0;\n",
    "    border-radius: 6px;\n",
    "    z-index: 1;\n",
    "}\n",
    ".nodes circle {\n",
    "  stroke: #fff;\n",
    "  stroke-width: 1.5px;\n",
    "}\n",
    "\n",
    "div.tooltip {\t\n",
    "    position: absolute;\t\t\t\n",
    "    text-align: center;\t\t\t\n",
    "    width: 250px;\t\t\t\t\t\n",
    "    height: 40px;\t\t\t\t\t\n",
    "    padding: 2px;\t\t\t\t\n",
    "    font: 12px sans-serif;\t\t\n",
    "    background: lightsteelblue;\t\n",
    "    border: 0px;\t\t\n",
    "    border-radius: 8px;\t\t\t\n",
    "    pointer-events: none;\t\t\t\n",
    "}\n",
    "\n",
    "</style>\n",
    "<svg id=\"donorg\" width=\"860\" height=\"760\"></svg>\n",
    "<h1>hello</h1>\n",
    "\"\"\"\n",
    "\n",
    "js7=\"\"\"\n",
    "require.config({\n",
    "    paths: {\n",
    "        d3: 'https://d3js.org/d3.v5.min'\n",
    "     }\n",
    " });\n",
    " \n",
    "require([\"d3\"], function(d3) {// Dimensions of sunburst.\n",
    " console.log(d3.version);\n",
    "var svg = d3.select(\"#donorg\"),\n",
    "    width = +svg.attr(\"width\"),\n",
    "    height = +svg.attr(\"height\");\n",
    "\n",
    "var color = d3.scaleOrdinal(d3.schemeCategory20);\n",
    "\n",
    "var simulation = d3.forceSimulation()\n",
    "\n",
    "    .force(\"link\", d3.forceLink().id(function(d) { return d.id; }).distance(20).strength(1))\n",
    "    .force(\"charge\", d3.forceManyBody().strength(-155))\n",
    "    .force(\"center\", d3.forceCenter(width / 2, height / 2));\n",
    "\n",
    "d3.json(\"donorg.json\", function(error, graph) {\n",
    "  if (error) throw error;\n",
    "\n",
    "  var link = svg.append(\"g\")\n",
    "      .attr(\"class\", \"links\")\n",
    "    .selectAll(\"line\")\n",
    "    .data(graph.links)\n",
    "    .enter().append(\"line\")\n",
    "      .attr(\"stroke-width\", function(d) { return Math.sqrt(d.value); });\n",
    "\n",
    "// Define the div for the tooltip\n",
    "var div = d3.select(\"body\").append(\"div\")\t\n",
    "    .attr(\"class\", \"tooltip\")\t\t\t\t\n",
    "    .style(\"opacity\", 0);\n",
    "\n",
    "  var node = svg.append(\"g\")\n",
    "      .attr(\"class\", \"nodes\")\n",
    "    .selectAll(\"circle\")\n",
    "    .data(graph.nodes)\n",
    "    .enter().append(\"circle\")\n",
    "      .attr(\"r\", function(d) {return d.size})\n",
    "      .attr(\"fill\", function(d) { return color(d.group); })\n",
    "      .call(d3.drag()\n",
    "          .on(\"start\", dragstarted)\n",
    "          .on(\"drag\", dragged)\n",
    "          .on(\"end\", dragended)).on(\"mouseover\", function(d) {\t\t\n",
    "            div.transition()\t\t\n",
    "                .duration(200)\t\t\n",
    "                .style(\"opacity\", .9);\t\t\n",
    "            div.html(d.id)\n",
    "                .style(\"left\", (d3.event.pageX) + \"px\")\t\t\n",
    "                .style(\"top\", (d3.event.pageY - 28) + \"px\");\t\n",
    "            })\t\t\t\t\t\n",
    "        .on(\"mouseout\", function(d) {\t\t\n",
    "            div.transition()\t\t\n",
    "                .duration(500)\t\t\n",
    "                .style(\"opacity\", 0);\t\n",
    "        });\n",
    "          \n",
    "    \n",
    "\n",
    "  simulation\n",
    "      .nodes(graph.nodes)\n",
    "      .on(\"tick\", ticked);\n",
    "      \n",
    "\n",
    "  simulation.force(\"link\")\n",
    "      .links(graph.links);\n",
    "\n",
    "  function ticked() {\n",
    "    link\n",
    "        .attr(\"x1\", function(d) { return d.source.x; })\n",
    "        .attr(\"y1\", function(d) { return d.source.y; })\n",
    "        .attr(\"x2\", function(d) { return d.target.x; })\n",
    "        .attr(\"y2\", function(d) { return d.target.y; });\n",
    "\n",
    "    node\n",
    "        .attr(\"cx\", function(d) { return d.x; })\n",
    "        .attr(\"cy\", function(d) { return d.y; });\n",
    "  }\n",
    "});\n",
    "\n",
    "function dragstarted(d) {\n",
    "  if (!d3.event.active) simulation.alphaTarget(0.3).restart();\n",
    "  d.fx = d.x;\n",
    "  d.fy = d.y;\n",
    "}\n",
    "\n",
    "function dragged(d) {\n",
    "  d.fx = d3.event.x;\n",
    "  d.fy = d3.event.y;\n",
    "}\n",
    "\n",
    "function dragended(d) {\n",
    "  if (!d3.event.active) simulation.alphaTarget(0);\n",
    "  d.fx = null;\n",
    "  d.fy = null;\n",
    "}\n",
    " });\n",
    "\"\"\"\n",
    "\n",
    "h = display(HTML(html7))\n",
    "j = IPython.display.Javascript(js7)\n",
    "IPython.display.display_javascript(j)"
   ]
  },
  {
   "cell_type": "code",
   "execution_count": 23,
   "metadata": {},
   "outputs": [],
   "source": [
    "Html_file= open(\"filename.html\",\"w\")\n",
    "Html_file.write(html7)\n",
    "Html_file.close()"
   ]
  },
  {
   "cell_type": "code",
   "execution_count": 23,
   "metadata": {},
   "outputs": [
    {
     "data": {
      "application/javascript": "(function(element) {\n    require(['d3'], function(d3) {   \n        var data = [1, 2, 4, 8, 16, 8, 4, 2, 1]\n\n        var svg = d3.select(element.get(0)).append('svg')\n            .attr('width', 400)\n            .attr('height', 200);\n        svg.selectAll('circle')\n            .data(data)\n            .enter()\n            .append('circle')\n            .attr(\"cx\", function(d, i) {return 40 * (i + 1);})\n            .attr(\"cy\", function(d, i) {return 100 + 30 * (i % 3 - 1);})\n            .style(\"fill\", \"#1570a4\")\n            .transition().duration(2000)\n            .attr(\"r\", function(d) {return 2*d;})\n        ;\n    })\n})(element);\n",
      "text/plain": [
       "<IPython.core.display.Javascript object>"
      ]
     },
     "metadata": {},
     "output_type": "display_data"
    }
   ],
   "source": [
    "%%javascript\n",
    "(function(element) {\n",
    "    require(['d3'], function(d3) {   \n",
    "        var data = [1, 2, 4, 8, 16, 8, 4, 2, 1]\n",
    "\n",
    "        var svg = d3.select(element.get(0)).append('svg')\n",
    "            .attr('width', 400)\n",
    "            .attr('height', 200);\n",
    "        svg.selectAll('circle')\n",
    "            .data(data)\n",
    "            .enter()\n",
    "            .append('circle')\n",
    "            .attr(\"cx\", function(d, i) {return 40 * (i + 1);})\n",
    "            .attr(\"cy\", function(d, i) {return 100 + 30 * (i % 3 - 1);})\n",
    "            .style(\"fill\", \"#1570a4\")\n",
    "            .transition().duration(2000)\n",
    "            .attr(\"r\", function(d) {return 2*d;})\n",
    "        ;\n",
    "    })\n",
    "})(element);"
   ]
  },
  {
   "cell_type": "code",
   "execution_count": null,
   "metadata": {},
   "outputs": [],
   "source": []
  },
  {
   "cell_type": "code",
   "execution_count": null,
   "metadata": {},
   "outputs": [],
   "source": []
  },
  {
   "cell_type": "code",
   "execution_count": null,
   "metadata": {},
   "outputs": [],
   "source": []
  },
  {
   "cell_type": "code",
   "execution_count": 26,
   "metadata": {},
   "outputs": [
    {
     "data": {
      "text/html": [
       "\n",
       "<style scoped> .bedazzled {color: orange;} </style>\n",
       "<div id=\"d3-div-2\"></div>\n",
       "<script>\n",
       "\n",
       "var size_data = [15, 30, 45] ;\n",
       "\n",
       "d3.select(\"#d3-div-2\").selectAll('.bedazzled')\n",
       "    .data(size_data)\n",
       "    .enter().append('p')\n",
       "      .attr(\"class\",\"bedazzled\")\n",
       "      .style(\"font-size\", function(d){ return \"\" + d + \"px\";})\n",
       "      .text(\"Hello D3 with Python data!\");\n",
       "\n",
       "</script>\n"
      ],
      "text/plain": [
       "<IPython.core.display.HTML object>"
      ]
     },
     "execution_count": 26,
     "metadata": {},
     "output_type": "execute_result"
    }
   ],
   "source": [
    "from string import Template\n",
    "html_template = Template('''\n",
    "<style scoped> .bedazzled {color: orange;} </style>\n",
    "<div id=\"d3-div-2\"></div>\n",
    "<script>\n",
    "\n",
    "var size_data = $size_data_python ;\n",
    "\n",
    "d3.select(\"#d3-div-2\").selectAll('.bedazzled')\n",
    "    .data(size_data)\n",
    "    .enter().append('p')\n",
    "      .attr(\"class\",\"bedazzled\")\n",
    "      .style(\"font-size\", function(d){ return \"\" + d + \"px\";})\n",
    "      .text(\"Hello D3 with Python data!\");\n",
    "\n",
    "</script>\n",
    "''')\n",
    "HTML(html_template.substitute({'size_data_python': str([15,30,45])}))"
   ]
  },
  {
   "cell_type": "markdown",
   "metadata": {},
   "source": [
    "### resume graphs"
   ]
  },
  {
   "cell_type": "code",
   "execution_count": null,
   "metadata": {},
   "outputs": [],
   "source": []
  },
  {
   "cell_type": "code",
   "execution_count": null,
   "metadata": {},
   "outputs": [],
   "source": []
  },
  {
   "cell_type": "code",
   "execution_count": null,
   "metadata": {},
   "outputs": [],
   "source": []
  },
  {
   "cell_type": "code",
   "execution_count": null,
   "metadata": {},
   "outputs": [],
   "source": []
  },
  {
   "cell_type": "code",
   "execution_count": null,
   "metadata": {},
   "outputs": [],
   "source": []
  },
  {
   "cell_type": "code",
   "execution_count": null,
   "metadata": {},
   "outputs": [],
   "source": []
  },
  {
   "cell_type": "code",
   "execution_count": null,
   "metadata": {},
   "outputs": [],
   "source": []
  },
  {
   "cell_type": "code",
   "execution_count": null,
   "metadata": {},
   "outputs": [],
   "source": []
  },
  {
   "cell_type": "code",
   "execution_count": null,
   "metadata": {},
   "outputs": [],
   "source": []
  }
 ],
 "metadata": {
  "interpreter": {
   "hash": "c5e48f84046969b800ff52f6d80523bcd1ca3fb1a99f1449e4197bf6c73dc096"
  },
  "kernelspec": {
   "display_name": "Python 3.8.8 64-bit",
   "name": "python3"
  },
  "language_info": {
   "codemirror_mode": {
    "name": "ipython",
    "version": 3
   },
   "file_extension": ".py",
   "mimetype": "text/x-python",
   "name": "python",
   "nbconvert_exporter": "python",
   "pygments_lexer": "ipython3",
   "version": "3.8.8"
  },
  "orig_nbformat": 4
 },
 "nbformat": 4,
 "nbformat_minor": 2
}
