{
 "cells": [
  {
   "cell_type": "code",
   "execution_count": null,
   "metadata": {},
   "outputs": [],
   "source": [
    "pip install -U sentence-transformers"
   ]
  },
  {
   "cell_type": "code",
   "execution_count": 1,
   "metadata": {},
   "outputs": [],
   "source": [
    "# Packages\n",
    "\n",
    "#pip install -U sentence-transformers\n",
    "from termcolor import colored\n",
    "import matplotlib.pyplot as plt\n",
    "import pickle\n",
    "import pandas as pd\n",
    "import numpy as np\n",
    "import string\n",
    "import regex as re\n",
    "import zipfile\n",
    "import gc\n",
    "from scipy.stats import boxcox\n",
    "import sys \n",
    "from collections import Counter \n",
    "from tqdm import tqdm \n",
    "import pandas as pd \n",
    "import numpy as np \n",
    "import warnings, math\n",
    "from termcolor import colored\n",
    "import pickle\n",
    "import string\n",
    "from sklearn.metrics.pairwise import cosine_similarity\n",
    "\n",
    "# for eval\n",
    "from sklearn.model_selection import train_test_split\n",
    "import random\n",
    "\n",
    "\n",
    "# for SVD\n",
    "from scipy.sparse.linalg import svds\n",
    "from scipy.sparse import csr_matrix\n",
    "pd.set_option('display.float_format','{:.5f}'.format)\n",
    "\n",
    "# for EMB\n",
    "from sentence_transformers import SentenceTransformer, util\n",
    "import scipy\n",
    "from sklearn import preprocessing \n",
    "\n",
    "# for TFIDF\n",
    "from sklearn.feature_extraction.text import TfidfVectorizer\n",
    "import scipy\n",
    "from sklearn import preprocessing \n",
    "\n",
    "# for creating a network\n",
    "from sklearn.metrics.pairwise import linear_kernel\n",
    "from sklearn.metrics.pairwise import cosine_similarity"
   ]
  },
  {
   "cell_type": "code",
   "execution_count": 2,
   "metadata": {},
   "outputs": [],
   "source": [
    "EXT_FEATURES_PATH = 'D:\\Papers\\Paper 3 - Recommender Systems\\Recommender-systems\\Files\\Graph_based\\ext_features_agg.csv'\n",
    "NEW_DF_PATH = 'D:\\Papers\\Paper 3 - Recommender Systems\\Recommender-systems\\Files\\Graph_based\\Oct_28_df.csv'\n",
    "PROJECTS_DF_PATH = \"D:\\Papers\\Paper 3 - Recommender Systems\\Recommender-systems\\Files\\projects.csv\"\n",
    "\n",
    "\n",
    "ext_features = pd.read_csv(EXT_FEATURES_PATH)\n",
    "df = pd.read_csv(NEW_DF_PATH)\n",
    "projects_df = pd.read_csv(PROJECTS_DF_PATH)\n"
   ]
  },
  {
   "cell_type": "code",
   "execution_count": null,
   "metadata": {},
   "outputs": [],
   "source": []
  },
  {
   "cell_type": "code",
   "execution_count": 3,
   "metadata": {},
   "outputs": [
    {
     "name": "stdout",
     "output_type": "stream",
     "text": [
      "# donations in Train set:  43,604\n",
      "# donations in Test set:  4,845\n",
      "# Donors in Train set:  790\n",
      "# Donors in Test set:  617\n",
      "# Donors in both Train and Test sets - the ones we choose for evaluation:  \u001b[34m617\u001b[0m\n"
     ]
    }
   ],
   "source": [
    "df_train, df_test = train_test_split(df, test_size=0.1, random_state=42)\n",
    "\n",
    "print('# donations in Train set: ', f\"{len(df_train):,}\")\n",
    "print('# donations in Test set: ',  f\"{len(df_test):,}\")\n",
    "\n",
    "print('# Donors in Train set: ', f\"{len(df_train['Donor ID'].unique()):,}\")\n",
    "print('# Donors in Test set: ',  f\"{len(df_test['Donor ID'].unique()):,}\")\n",
    "\n",
    "\n",
    "print('# Donors in both Train and Test sets - the ones we choose for evaluation: ',\n",
    "      colored(f\"{len(df_train[df_train['Donor ID'].isin(df_test['Donor ID'].values.tolist())]['Donor ID'].unique()):,}\", 'blue'))\n",
    "\n",
    "\n",
    "\n",
    "df_train = df_train[df_train['Donor ID'].isin(df_test['Donor ID'].values.tolist())].reset_index(drop=True)\n",
    "df_test = df_test[df_test['Donor ID'].isin(df_train['Donor ID'].values.tolist())].reset_index(drop=True)\n",
    "\n",
    "# sum of donation in a grouped by donor id dataset\n",
    "df_main_donor_index = df.groupby(by = ['Donor ID', 'Project ID']).sum()[['Donation Amount']].reset_index().set_index('Donor ID')\n",
    "df_train_donor_index = df_train.groupby(by = ['Donor ID', 'Project ID']).sum()[['Donation Amount']].reset_index().set_index('Donor ID')\n",
    "df_test_donor_index = df_test.groupby(by = ['Donor ID', 'Project ID']).sum()[['Donation Amount']].reset_index().set_index('Donor ID')"
   ]
  },
  {
   "cell_type": "code",
   "execution_count": null,
   "metadata": {},
   "outputs": [],
   "source": []
  },
  {
   "cell_type": "code",
   "execution_count": 3,
   "metadata": {},
   "outputs": [],
   "source": [
    "projects_df = projects_df[projects_df['Project ID'].isin(df['Project ID'])].reset_index(drop=True)\n",
    "\n",
    "project_txt = projects_df.loc[:, 'project_txt']\n",
    "projects_id = projects_df['Project ID'].tolist()\n"
   ]
  },
  {
   "cell_type": "markdown",
   "metadata": {},
   "source": [
    "### Create Embeddings (projects)"
   ]
  },
  {
   "cell_type": "code",
   "execution_count": 6,
   "metadata": {},
   "outputs": [],
   "source": [
    "# ----------------- embeddings---------------------#\n",
    "model = SentenceTransformer('paraphrase-distilroberta-base-v1') # , device= 'cuda'\n",
    "embeddings = model.encode(project_txt, batch_size=256, show_progress_bar=True)"
   ]
  },
  {
   "cell_type": "code",
   "execution_count": null,
   "metadata": {},
   "outputs": [],
   "source": [
    "with open(EMBEDDING_PATH, 'wb') as f:\n",
    "    pickle.dump(embeddings, f)"
   ]
  },
  {
   "cell_type": "markdown",
   "metadata": {},
   "source": [
    "### Create Embeddings (donors profile)"
   ]
  },
  {
   "cell_type": "code",
   "execution_count": 8,
   "metadata": {},
   "outputs": [],
   "source": [
    "EMBEDDING_PATH = 'D:\\Papers\\Paper 3 - Recommender Systems\\Recommender-systems\\Files\\Graph_based\\Oct_28_project_embeddings.pickle'\n",
    "project_embeddings_matrix = pd.read_pickle(EMBEDDING_PATH)"
   ]
  },
  {
   "cell_type": "code",
   "execution_count": 6,
   "metadata": {},
   "outputs": [],
   "source": [
    "# ==================== Embeddings ==================== #\n",
    "\n",
    "# ----------------------- projects profiles------------------- #\n",
    "def get_project_profile_emb(project_id: str, project_embeddings_matrix):\n",
    "\n",
    "    # get the ids\n",
    "    idx = projects_id.index(project_id)\n",
    "    project_profile = project_embeddings[idx:idx+1]\n",
    "    \n",
    "    return project_profile\n",
    "\n",
    "\n",
    "\n",
    "def get_projects_profiles_emb(ids: pd.Series, project_embeddings_matrix):\n",
    "\n",
    "\n",
    "    profiles_list = [get_project_profile_emb(project_id, project_embeddings)[0] for project_id in np.ravel([ids])]\n",
    "    project_profiles = np.vstack(profiles_list)\n",
    "\n",
    "    return project_profiles\n",
    "\n",
    "\n",
    "# ----------------------- Donors profiles------------------- #\n",
    "\n",
    "def build_donors_profile_emb(donor_id: str, df_train_donor_index: pd.DataFrame):\n",
    "\n",
    "    # get the id of each person and the projects they\n",
    "    # donated to\n",
    "    donations_donor_df = df_train_donor_index.loc[donor_id]\n",
    "\n",
    "\n",
    "    # get the vectors of projects this person has donated to\n",
    "    donor_donated_project_intrain_profiles = get_projects_profiles_emb(donations_donor_df['Project ID'], project_embeddings)\n",
    "\n",
    "\n",
    "    # get the smoothed donated amount as the weight of each project\n",
    "    donor_project_strengths = np.array(donations_donor_df['Donation Amount']).reshape(-1, 1)\n",
    "\n",
    "\n",
    "    # multiply the weights and tfidf vectors\n",
    "    multiplication = np.multiply(donor_donated_project_intrain_profiles, donor_project_strengths)\n",
    "\n",
    "\n",
    "    # now we normalize the whole vector \n",
    "    normalized_donor_preference = preprocessing.normalize(np.sum(multiplication, axis=0).reshape(1, -1))\n",
    "    \n",
    "\n",
    "\n",
    "    return normalized_donor_preference\n",
    "\n",
    "\n",
    "def build_donors_profiles_emb(df_test_donor_index: pd.DataFrame, df_train_donor_index: pd.DataFrame, sample_size: int = None):\n",
    "    \n",
    "    # now for all donors we build a profile in a dictionary\n",
    "    donor_profiles = {}\n",
    "    donors_in_test_set = df_test_donor_index.index.unique().tolist()[:sample_size]\n",
    "\n",
    "    for donor_id in tqdm(donors_in_test_set[:sample_size], position=0, leave=True):\n",
    "        donor_profiles[donor_id] = build_donors_profile_emb(donor_id, df_train_donor_index)\n",
    "\n",
    "    return donor_profiles\n",
    "\n",
    "    \n",
    "\n"
   ]
  },
  {
   "cell_type": "code",
   "execution_count": 17,
   "metadata": {},
   "outputs": [
    {
     "name": "stderr",
     "output_type": "stream",
     "text": [
      "100%|██████████| 617/617 [00:00<00:00, 1377.75it/s]\n"
     ]
    }
   ],
   "source": [
    "\n",
    "donor_profiles = build_donors_profiles_emb(df_test_donor_index, df_train_donor_index)"
   ]
  },
  {
   "cell_type": "code",
   "execution_count": null,
   "metadata": {},
   "outputs": [],
   "source": [
    "len(donor_profiles_emb['009d5fc7b87883ffad248db5150bf1fc'][0]) == 768"
   ]
  },
  {
   "cell_type": "code",
   "execution_count": null,
   "metadata": {},
   "outputs": [],
   "source": [
    "PROFILE_EMBEDDING_PATH = 'D:\\Papers\\Paper 3 - Recommender Systems\\Recommender-systems\\Files\\Graph_based\\Oct_28_donor_profiles_embeddings.pickle'\n",
    "\n",
    "with open(PROFILE_EMBEDDING_PATH, 'wb') as f:\n",
    "    pickle.dump(donor_profiles_emb, f)"
   ]
  },
  {
   "cell_type": "code",
   "execution_count": null,
   "metadata": {},
   "outputs": [],
   "source": []
  },
  {
   "cell_type": "code",
   "execution_count": 22,
   "metadata": {},
   "outputs": [],
   "source": []
  },
  {
   "cell_type": "markdown",
   "metadata": {},
   "source": [
    "### Graph"
   ]
  },
  {
   "cell_type": "code",
   "execution_count": 4,
   "metadata": {},
   "outputs": [],
   "source": [
    "PROFILE_EMBEDDING_PATH = r'D:\\Papers\\Paper 3 - Recommender Systems\\Recommender-systems\\Files\\Graph_based\\Oct_28_donor_profiles_embeddings.pickle'\n",
    "PROJECT_EMBEDDING_PATH = r'D:\\Papers\\Paper 3 - Recommender Systems\\Recommender-systems\\Files\\Graph_based\\Oct_28_project_embeddings.pickle'\n",
    "USER_PROFILE_PATH = r'D:\\Papers\\Paper 3 - Recommender Systems\\Recommender-systems\\Files\\Graph_based\\user_profile.csv'\n",
    "\n",
    "project_embeddings = pd.read_pickle(PROJECT_EMBEDDING_PATH)\n",
    "donor_profiles_emb = pd.read_pickle(PROFILE_EMBEDDING_PATH)\n",
    "user_profile_df = pd.read_csv(USER_PROFILE_PATH)"
   ]
  },
  {
   "cell_type": "code",
   "execution_count": 5,
   "metadata": {},
   "outputs": [],
   "source": [
    "donors_id = list(donor_profiles_emb.keys())# donor_profiles_emb = user_embeddings"
   ]
  },
  {
   "cell_type": "code",
   "execution_count": 9,
   "metadata": {},
   "outputs": [],
   "source": [
    "# interaction matrixes for similarity scores-------------------------------------\n",
    "\n",
    "#project\n",
    "project_interactions = linear_kernel(project_embeddings_matrix, project_embeddings_matrix)\n",
    "\n",
    "# donors\n",
    "donor_embeddings_matrix = np.array([donor_profiles_emb[id][0] for id in donors_id])\n",
    "donors_interactions  = linear_kernel(donor_embeddings_matrix, donor_embeddings_matrix)\n"
   ]
  },
  {
   "cell_type": "code",
   "execution_count": null,
   "metadata": {},
   "outputs": [],
   "source": []
  },
  {
   "cell_type": "code",
   "execution_count": 10,
   "metadata": {},
   "outputs": [],
   "source": [
    "# DONOR - DONOR / PROJ-PROJ edges dict -----------------------------------------------------------------------\n",
    "\n",
    "\n",
    "def create_edges(ids: list, interaction_matrix: np.array, top_n_similar: int = 20) -> dict:\n",
    "\n",
    "    \"\"\"\n",
    "    output = {'donor_id': [(score, similar_donor_id)]}\n",
    "    or \n",
    "    output = {'project_id': [(score, similar_project_id)]}\n",
    "\n",
    "    \"\"\"\n",
    "    edges_dict = {}\n",
    "    for idx, emb in enumerate(ids):\n",
    "        similar_indices = interaction_matrix[idx].argsort()[:-top_n_similar:-1]\n",
    "        \n",
    "        # idx = index of selected donor/project\n",
    "        # i = index of similar donor/project\n",
    "        # similar_items = list(score, similar donor_id/project_id)\n",
    "        similar_items = [(interaction_matrix[idx][i], ids[i]) for i in similar_indices]\n",
    "        edges_dict[ids[idx]] = similar_items\n",
    "\n",
    "    return edges_dict\n",
    "\n",
    "\n",
    "donors_edges = create_edges(donors_id, donors_interactions)\n",
    "project_edges = create_edges(projects_id, project_interactions)"
   ]
  },
  {
   "cell_type": "code",
   "execution_count": 11,
   "metadata": {},
   "outputs": [],
   "source": [
    "# Graphs -----------------------------------------------------------\n",
    "\n",
    "# Donor graph---------------------------------------------------------------\n",
    "\n",
    "class Graph():\n",
    "    \"\"\"\n",
    "    Create the donors'/projects' graph and save their information in nodes.\n",
    "    \"\"\"\n",
    "    \n",
    "    \n",
    "    def __init__(self, graph_name: str):\n",
    "        self.graph = {}\n",
    "        self.graph_name = graph_name\n",
    "    \n",
    "    # function to add new nodes in the graph\n",
    "    def _create_node(self, node_id: str, node_properties):\n",
    "        self.graph[node_id] = node_properties \n",
    "    \n",
    "    # function to view the nodes in the graph\n",
    "    def _view_nodes(self):\n",
    "        return self.graph\n",
    "    \n",
    "    # function to create edges\n",
    "    def _create_edges(self, node_id, node_edges):\n",
    "        if node_id in self.graph:\n",
    "            self.graph[node_id]['edges'] = node_edges"
   ]
  },
  {
   "cell_type": "code",
   "execution_count": 12,
   "metadata": {},
   "outputs": [
    {
     "data": {
      "text/plain": [
       "Donor ID                                         009d5fc7b87883ffad248db5150bf1fc\n",
       "subject_categories              {'Literacy & Language': 189, 'Music & The Arts...\n",
       "grades                          {'Grades 9-12': 17, 'Grades PreK-2': 195, 'Gra...\n",
       "metro_types                                       {'urban': 288, 'suburban': 105}\n",
       "states_donated_to                                                  {'Texas': 393}\n",
       "donated_projects                004a152bbe8952ea5e9d5ef89c179933,004a152bbe895...\n",
       "donor_zip_first_three_digits                                                  782\n",
       "donor_kmeans_cluster                                                            1\n",
       "donation_amount_sum                                                     200.95590\n",
       "donation_amount_median                                                    0.44020\n",
       "project_cost_median                                                     591.50000\n",
       "Name: 0, dtype: object"
      ]
     },
     "execution_count": 12,
     "metadata": {},
     "output_type": "execute_result"
    }
   ],
   "source": [
    "donor_id = user_profile_df.loc[0, 'Donor ID']\n",
    "next(user_profile_df[user_profile_df['Donor ID'] == donor_id].iterrows())[1]\n"
   ]
  },
  {
   "cell_type": "code",
   "execution_count": 13,
   "metadata": {},
   "outputs": [],
   "source": [
    "## initialize the donors graph\n",
    "dg = Graph(graph_name = 'donor')\n",
    "pg = Graph(graph_name = 'projects')\n",
    "\n",
    "\n",
    "## NODES ------------------------------------------------------------------------------------------\n",
    "# donors\n",
    "for donor_id in donors_id:\n",
    "    # donor_id = node_id\n",
    "    node_properties = dict(next(user_profile_df[user_profile_df['Donor ID'] == donor_id].iterrows())[1])\n",
    "    node_properties['donor_project_emb'] = donor_profiles_emb[donor_id][0]\n",
    "    \n",
    "    dg._create_node(donor_id, node_properties)\n",
    "\n",
    "\n",
    "# projects\n",
    "for idx, project_id in enumerate(projects_id):\n",
    "    # donor_id = node_id\n",
    "    node_properties = dict(next(projects_df[projects_df['Project ID'] == project_id].iterrows())[1])\n",
    "    node_properties['project_embedding'] = project_embeddings_matrix[idx]\n",
    "\n",
    "    del node_properties['Project Need Statement']\n",
    "    #if idx==0: print(node_properties)\n",
    "    pg._create_node(project_id, node_properties)\n",
    "\n",
    "\n",
    "\n",
    "# EDGES -----------------------------------------------------------------\n",
    "\n",
    "def create_edges_in_graph(graph: object, edges: dict, ids:list, top_n_similar: int = 5):\n",
    "\n",
    "    for id in ids:\n",
    "        node_edges = edges[id][:top_n_similar]\n",
    "        graph._create_edges(id, node_edges)\n",
    "\n",
    "create_edges_in_graph(graph = dg, edges = donors_edges, ids= donors_id, top_n_similar = 5)\n",
    "create_edges_in_graph(graph = pg, edges = project_edges, ids= projects_id, top_n_similar = 5)\n"
   ]
  },
  {
   "cell_type": "code",
   "execution_count": 14,
   "metadata": {},
   "outputs": [],
   "source": [
    "donor_id = '009d5fc7b87883ffad248db5150bf1fc'"
   ]
  },
  {
   "cell_type": "code",
   "execution_count": 15,
   "metadata": {},
   "outputs": [
    {
     "data": {
      "text/plain": [
       "{'Donor ID': '009d5fc7b87883ffad248db5150bf1fc',\n",
       " 'subject_categories': \"{'Literacy & Language': 189, 'Music & The Arts': 152, 'Special Needs': 43, 'Applied Learning': 40, 'Math & Science': 86, 'Health & Sports': 23, 'History & Civics': 18}\",\n",
       " 'grades': \"{'Grades 9-12': 17, 'Grades PreK-2': 195, 'Grades 6-8': 45, 'Grades 3-5': 136}\",\n",
       " 'metro_types': \"{'urban': 288, 'suburban': 105}\",\n",
       " 'states_donated_to': \"{'Texas': 393}\",\n",
       " 'donated_projects': '004a152bbe8952ea5e9d5ef89c179933,004a152bbe8952ea5e9d5ef89c179933,004a152bbe8952ea5e9d5ef89c179933,004a152bbe8952ea5e9d5ef89c179933,004a152bbe8952ea5e9d5ef89c179933,004a152bbe8952ea5e9d5ef89c179933,00caf6fe22a68be347548718301a75e4,010732a68a6a6a7a40b6827355bd2a04,010732a68a6a6a7a40b6827355bd2a04,010732a68a6a6a7a40b6827355bd2a04,010732a68a6a6a7a40b6827355bd2a04,010732a68a6a6a7a40b6827355bd2a04,010732a68a6a6a7a40b6827355bd2a04,010732a68a6a6a7a40b6827355bd2a04,010732a68a6a6a7a40b6827355bd2a04,010732a68a6a6a7a40b6827355bd2a04,010732a68a6a6a7a40b6827355bd2a04,010732a68a6a6a7a40b6827355bd2a04,010732a68a6a6a7a40b6827355bd2a04,0140e46ae0f435aca38e742b5ae8b0a9,02180b9e9229c81e19f57b39b4dc14e8,02180b9e9229c81e19f57b39b4dc14e8,02f2f8fc72b4714f5c6b98c04edb5913,053b26bde4291ee8810cc1f8d85616d1,053b26bde4291ee8810cc1f8d85616d1,05c6863a2087d5ef3896f182105233ff,05c6863a2087d5ef3896f182105233ff,093d9c8691539d405b8f935379dc851f,093d9c8691539d405b8f935379dc851f,093d9c8691539d405b8f935379dc851f,093d9c8691539d405b8f935379dc851f,093d9c8691539d405b8f935379dc851f,093d9c8691539d405b8f935379dc851f,093d9c8691539d405b8f935379dc851f,096802305d802112fdabb528e191b6ff,0a69dc93b48520f16a5d9c1804a3e55d,0b3153c1a5b068d87c0ba18422e9f15f,0b3153c1a5b068d87c0ba18422e9f15f,0b3153c1a5b068d87c0ba18422e9f15f,0b3153c1a5b068d87c0ba18422e9f15f,0b3153c1a5b068d87c0ba18422e9f15f,0b3153c1a5b068d87c0ba18422e9f15f,0c8a8f649ff7fed31b715c53f6e05557,0c8a8f649ff7fed31b715c53f6e05557,0c8a8f649ff7fed31b715c53f6e05557,0d7d8364ea5a63cb071d64e2e528c8df,0d7d8364ea5a63cb071d64e2e528c8df,0d7d8364ea5a63cb071d64e2e528c8df,0f746a652a5d3384dbdac242b2d2b488,123066e34ff25ab22ea9012025c90473,140fe63b98b9601f338b82fb04d87a4c,140fe63b98b9601f338b82fb04d87a4c,157d3d38e433c9c272aa9e43ff58303f,15c90a22e26f1eba322107319d60aa77,15c90a22e26f1eba322107319d60aa77,15ce565c02ef17d93a5ef1b3e3d0cd2d,15ce565c02ef17d93a5ef1b3e3d0cd2d,1ae7665905e442d4482319619b21bf07,1ae7665905e442d4482319619b21bf07,1d0d63f2549c815227327f43b4f8be0f,1d0d63f2549c815227327f43b4f8be0f,1d0ff95623a3db80b8e830038db1dcbf,1d0ff95623a3db80b8e830038db1dcbf,1ffc2d1aabd8e30dbce8a71207819314,1ffc2d1aabd8e30dbce8a71207819314,2317d14aae9d3f4d92f5da30a62ff3a4,2317d14aae9d3f4d92f5da30a62ff3a4,2317d14aae9d3f4d92f5da30a62ff3a4,2317d14aae9d3f4d92f5da30a62ff3a4,2317d14aae9d3f4d92f5da30a62ff3a4,2317d14aae9d3f4d92f5da30a62ff3a4,2450ee51be5cb2443ef5285ead5272f6,2450ee51be5cb2443ef5285ead5272f6,2450ee51be5cb2443ef5285ead5272f6,24e28393a4f9c87f14bc91558743726d,24e28393a4f9c87f14bc91558743726d,24e28393a4f9c87f14bc91558743726d,26c5a3ed5235cb042f02549654de91af,26c5a3ed5235cb042f02549654de91af,29884ad1065922d82908f8f3c02df20a,29884ad1065922d82908f8f3c02df20a,29884ad1065922d82908f8f3c02df20a,29884ad1065922d82908f8f3c02df20a,2bb1253178d3ffc7bc3dcd873ee3598a,2eac95e2df0ea5d2b0aaa92e3dbbe419,2eac95e2df0ea5d2b0aaa92e3dbbe419,2ec564e2089786466459f60e948b4a31,30f7fc4700fb7523586fd9de798302e6,30f7fc4700fb7523586fd9de798302e6,30f7fc4700fb7523586fd9de798302e6,30f7fc4700fb7523586fd9de798302e6,30f7fc4700fb7523586fd9de798302e6,30f7fc4700fb7523586fd9de798302e6,30f7fc4700fb7523586fd9de798302e6,30f7fc4700fb7523586fd9de798302e6,30f7fc4700fb7523586fd9de798302e6,30f7fc4700fb7523586fd9de798302e6,30f7fc4700fb7523586fd9de798302e6,30f7fc4700fb7523586fd9de798302e6,30f7fc4700fb7523586fd9de798302e6,33d9c490c2d53739159e1cc29a82903f,3419d0001cc9a1b9ce705e8c244fa655,37b2493e296343aede5ddc6ffe5261cf,39fcc0de5c1e542facfa5166448e8c7a,3ac0004dfa8728f2f80285e7b7b2c1ef,40f6116e53e844c9d0bc419fcf147e02,452b28d17f4f3819169ad2b026791a73,456c1fb28e9b6f392f6dc9a9b6f5ee43,456c1fb28e9b6f392f6dc9a9b6f5ee43,459b968bc0fff536702e3df2d601c162,459b968bc0fff536702e3df2d601c162,459b968bc0fff536702e3df2d601c162,45d0891857161f5c49ebe1f470d18c19,45d0891857161f5c49ebe1f470d18c19,45d0891857161f5c49ebe1f470d18c19,498d15c3b7f12df10541dde220458080,4b4a5a3e98d575b4b8a48ae29b8ce390,4b4a5a3e98d575b4b8a48ae29b8ce390,4b4a5a3e98d575b4b8a48ae29b8ce390,4ca36949179cbdedc91f5be4222ff260,4d24b8ffd5a19c3492bfcfb2d41d5ff5,4d24b8ffd5a19c3492bfcfb2d41d5ff5,4d24b8ffd5a19c3492bfcfb2d41d5ff5,4e6aa64895cbc69ced3e639e80f5635f,50caa9dbe89226a75dac40cd6edfe366,50caa9dbe89226a75dac40cd6edfe366,50caa9dbe89226a75dac40cd6edfe366,50caa9dbe89226a75dac40cd6edfe366,50caa9dbe89226a75dac40cd6edfe366,5247e47e1e0954210a6b3296c2d05697,5247e47e1e0954210a6b3296c2d05697,5345ee02d09b85f7833e18f8e9f986f5,5496386069b0f9595f2ec070884493b3,5496386069b0f9595f2ec070884493b3,55bdd3141b8e8c811b3f72682446d9f8,55bdd3141b8e8c811b3f72682446d9f8,55bdd3141b8e8c811b3f72682446d9f8,5720f985a213ba51bcce23cc6fe1bf6d,5b8f3708d62fb0efb2f52ba6ee94b47d,5c2c5a9c9b13c73a3b59a711513c65cf,5c2c5a9c9b13c73a3b59a711513c65cf,5c2c5a9c9b13c73a3b59a711513c65cf,5c2c5a9c9b13c73a3b59a711513c65cf,5c2c5a9c9b13c73a3b59a711513c65cf,5c2c5a9c9b13c73a3b59a711513c65cf,5c2c5a9c9b13c73a3b59a711513c65cf,5c2c5a9c9b13c73a3b59a711513c65cf,5e0ed8d03d765e4fb5128b6ba7bc8481,5f4e4b433aad2c0eec6f16afc032c022,5f4e4b433aad2c0eec6f16afc032c022,6322e4dacd62b01a75ee0428b6d2e3fc,677ad3137632b3b8b7404af0177c8905,677ad3137632b3b8b7404af0177c8905,67ade0cf003f728ffc6a05deea1b40ca,67ea30e80c447aaf7636c506111402e5,67ea30e80c447aaf7636c506111402e5,67ea30e80c447aaf7636c506111402e5,6a6fdaa0c538833760e9bcb5a20a6122,6d964a65355c0529583f7080056ca09b,6e6e92b7478fe0fc6a1a1a69bb8280c9,6e6e92b7478fe0fc6a1a1a69bb8280c9,6e6e92b7478fe0fc6a1a1a69bb8280c9,6e6e92b7478fe0fc6a1a1a69bb8280c9,6f80450c260f7d4b827162d80dfda4ac,70c7fbf030af7a0717f71d65b787d028,710022c446e03874a5715ec166eb650d,710022c446e03874a5715ec166eb650d,752060ce4806f13da1eec5bb74bbe0a3,771a015af464c9c6d3d4714c210cbe4d,771a015af464c9c6d3d4714c210cbe4d,79dd8214d13f946994f0e90a87f47512,7bc738609e2fd99259065d64e1368983,7be191d06ffcdddf6e99f5024bd7ef2a,7cd330982dd613febfb0249223f1c6b8,7da847ac861b11706131a2464415525f,7da847ac861b11706131a2464415525f,7e129c27f8e42af246169b94562772bc,7f732c98dc509c37a5a23e8a8f773ab1,7f732c98dc509c37a5a23e8a8f773ab1,7f732c98dc509c37a5a23e8a8f773ab1,80600f96948d5e8a7b0d243fba9c98d9,80600f96948d5e8a7b0d243fba9c98d9,80600f96948d5e8a7b0d243fba9c98d9,80600f96948d5e8a7b0d243fba9c98d9,8071dc66b5652f65167bedef2df277d5,8083ffa1306664d562a5b8ec7585b971,8083ffa1306664d562a5b8ec7585b971,815d7958f743ce98d1e53337222c88a7,815d7958f743ce98d1e53337222c88a7,818a22f14d80bd3e61273c94b057b530,823a042fee7b4c4e4847884bee4c113e,823a042fee7b4c4e4847884bee4c113e,823a042fee7b4c4e4847884bee4c113e,8278d8d77cd4e647dcc3ed952187902a,8278d8d77cd4e647dcc3ed952187902a,872fb3979483862a1b830818f0415f78,8858cee7b85bfb45a3d6d14e223905f0,8858cee7b85bfb45a3d6d14e223905f0,8a802c3957139f376e11149bd4ab7e69,8a802c3957139f376e11149bd4ab7e69,8b062edac3dac9454f2c8d4ac7328ed0,8b062edac3dac9454f2c8d4ac7328ed0,8bf28cd83c801a9c2e27aaa25677fb8d,8c52bb751fe61397ee731d7d3df3cdcc,8ed2d46ee15337f6fef814241d9e2e86,8fc44e1789aca2226230025ea94e9ca8,8fc44e1789aca2226230025ea94e9ca8,90761c075821e21f1a6a044fdff836a1,91532729235a7dfceb5327e5f74acf36,91532729235a7dfceb5327e5f74acf36,91532729235a7dfceb5327e5f74acf36,93795a72b97ba6a8b515833f776fb822,9559321e14227b2c93d58f7ca38bb56d,9559321e14227b2c93d58f7ca38bb56d,9559321e14227b2c93d58f7ca38bb56d,956ae6b36a05e99474154b50ac3515fb,96c9e68d1a7fea9bde020415fe08170f,9738fdf28ae608d882def21195fcbadd,9738fdf28ae608d882def21195fcbadd,9738fdf28ae608d882def21195fcbadd,9738fdf28ae608d882def21195fcbadd,97512bd415dd98592758eaa76219fb4b,97512bd415dd98592758eaa76219fb4b,97ec29e5c82d87044439162984d7102c,98336baec192a3341bba62dddd054210,98442f7837def23ffc233b8cf22bca78,986992ad0f99fe3767395c3fefa964fd,98d1ae7d7f37abbaef7279951aedb0ac,98d1ae7d7f37abbaef7279951aedb0ac,98d1ae7d7f37abbaef7279951aedb0ac,9b449072b1ee085965194258694d138b,9c1bf9dc15e34d5a72f7af6265586a39,9d4f963f235283008b2990085e8d990f,9d4f963f235283008b2990085e8d990f,9e4d846af90f58b9d1e8c3eb50a28f9a,a03d944af9c04a470792aeff4b3b245c,a1f7bcbd23e0a882a7b73bf6a6ba3a9a,a1f7bcbd23e0a882a7b73bf6a6ba3a9a,a312a129579bf0ca8244c6cacee03baa,a312a129579bf0ca8244c6cacee03baa,a312a129579bf0ca8244c6cacee03baa,a35cf11ceace1af7e69b752085be6e63,a3b3c9fe27400df7bcab83bcfec2bb67,a3dec2aa7ee70873b3645b03b6d99780,a48be75386794b9a4de9153000cb8375,a48be75386794b9a4de9153000cb8375,a567261f881408007a8bff69f5864cb0,a5b4bc7ab2db4dceab0a135937f33e63,a92d5da000416fb25bb901a02a639347,aaa8eac95a2255d6aafce8aa865824eb,ab6fe1021df4d1c9e918a2db5ae7acd6,ab6fe1021df4d1c9e918a2db5ae7acd6,ac8f63e9e91823e5507c2c9c568f3f87,ae053d8e69da55b026ba4881f2f972f1,ae053d8e69da55b026ba4881f2f972f1,ae053d8e69da55b026ba4881f2f972f1,ae053d8e69da55b026ba4881f2f972f1,ae23049214123c5ac952294a8418561d,ae23049214123c5ac952294a8418561d,ae23049214123c5ac952294a8418561d,b2d6baf69f658d039379af1982a9d47d,b430eee229058326ead0fd46e1d0fe76,b611b65bb50406f471dc075242ff4501,b611b65bb50406f471dc075242ff4501,b611b65bb50406f471dc075242ff4501,b611b65bb50406f471dc075242ff4501,b82b4bc5891d416a23a401f1b054af4d,b82b4bc5891d416a23a401f1b054af4d,b82b4bc5891d416a23a401f1b054af4d,b82b4bc5891d416a23a401f1b054af4d,b82b4bc5891d416a23a401f1b054af4d,b82b4bc5891d416a23a401f1b054af4d,b82b4bc5891d416a23a401f1b054af4d,b82b4bc5891d416a23a401f1b054af4d,b82b4bc5891d416a23a401f1b054af4d,b834d54e30e51dde3b7590be81f3bc10,b834d54e30e51dde3b7590be81f3bc10,b8b40c338ea1f8ec37e125a057c25a60,b98b1d4de43e58d0797582816719b186,bea19546b0c8230223353474c6eb8335,bea19546b0c8230223353474c6eb8335,bea19546b0c8230223353474c6eb8335,bea19546b0c8230223353474c6eb8335,bea19546b0c8230223353474c6eb8335,bea19546b0c8230223353474c6eb8335,bea19546b0c8230223353474c6eb8335,bea19546b0c8230223353474c6eb8335,beba932ffef6dc7710fb4b8babe4cd1a,beba932ffef6dc7710fb4b8babe4cd1a,c2be4a080f928966309d6807fc552a69,c2be4a080f928966309d6807fc552a69,c2be4a080f928966309d6807fc552a69,c2be4a080f928966309d6807fc552a69,c36eb33d83866b7db5464bf48a5e12af,c374ba00b5c7a7ace01a9ae7af2ff791,c374ba00b5c7a7ace01a9ae7af2ff791,c4bde62ee8640400b496a9c61bd2f7c3,c4ca74f6e00959d8a5998e63ebd39917,c74530cc205daa04ff554ada50426de0,c74530cc205daa04ff554ada50426de0,c74530cc205daa04ff554ada50426de0,c8cf2ecd3768d0e11f3abf372d39a8ce,c96aa2b6c1d178c2b6b25c14d60cf8d1,c9cb9ee3228ff0143cc712156ec8f8cf,cb90c43fe6f4afd0b128192f432cffe4,cbda7cbd86bed952f703781d99cfc465,cd40fecbe9d077f881792af676b854d2,cd40fecbe9d077f881792af676b854d2,cd40fecbe9d077f881792af676b854d2,cd744442ca9e05463d1d56c233fb82b1,cd744442ca9e05463d1d56c233fb82b1,cd744442ca9e05463d1d56c233fb82b1,cd744442ca9e05463d1d56c233fb82b1,cd744442ca9e05463d1d56c233fb82b1,cf7fd6681b01c38e97b66a5e5912c9f3,cfa9065d18cea3f47a597b873576e103,cfa9065d18cea3f47a597b873576e103,d08fa4c49e879d46d01867817a9f5e7d,d08fa4c49e879d46d01867817a9f5e7d,d08fa4c49e879d46d01867817a9f5e7d,d08fa4c49e879d46d01867817a9f5e7d,d08fa4c49e879d46d01867817a9f5e7d,d08fa4c49e879d46d01867817a9f5e7d,d08fa4c49e879d46d01867817a9f5e7d,d08fa4c49e879d46d01867817a9f5e7d,d08fa4c49e879d46d01867817a9f5e7d,d08fa4c49e879d46d01867817a9f5e7d,d2926b1c30b4ccbaf4a104c7430ce10a,d2926b1c30b4ccbaf4a104c7430ce10a,d2926b1c30b4ccbaf4a104c7430ce10a,d2926b1c30b4ccbaf4a104c7430ce10a,d2926b1c30b4ccbaf4a104c7430ce10a,d2926b1c30b4ccbaf4a104c7430ce10a,d2926b1c30b4ccbaf4a104c7430ce10a,d2926b1c30b4ccbaf4a104c7430ce10a,d2926b1c30b4ccbaf4a104c7430ce10a,d2ac9eabf876922bac6cb1d9485b1d37,d2ac9eabf876922bac6cb1d9485b1d37,d3831ea2611d92ca62a91a55454085ce,d3831ea2611d92ca62a91a55454085ce,d3831ea2611d92ca62a91a55454085ce,d3831ea2611d92ca62a91a55454085ce,d3831ea2611d92ca62a91a55454085ce,d3831ea2611d92ca62a91a55454085ce,d3831ea2611d92ca62a91a55454085ce,d3831ea2611d92ca62a91a55454085ce,d4d12d91bf15a253d190e4be3f92275f,d4d12d91bf15a253d190e4be3f92275f,d6051855fe6a6632beae7c81089a23da,d6051855fe6a6632beae7c81089a23da,d6051855fe6a6632beae7c81089a23da,d6051855fe6a6632beae7c81089a23da,d7fb6179278ee31a2fb15fe761b5c71f,d7fb6179278ee31a2fb15fe761b5c71f,d868079c6aeb11006d55aecd42433060,d868079c6aeb11006d55aecd42433060,d868079c6aeb11006d55aecd42433060,d91cc2ddd72815ddcc0d2e717716090b,d91cc2ddd72815ddcc0d2e717716090b,dacdc488becbaa24d16039cc868bf5a6,dc381e23823d0712e71421c7bb146eaa,df9794c24988863c66269b1840ad0642,dffae28a652dcaf74544b23ec7cc2d10,dffae28a652dcaf74544b23ec7cc2d10,e125cadce13468d81e8c13f5a37b169e,e7baf1440f5151e0c5284de9ce3c1ed2,e7baf1440f5151e0c5284de9ce3c1ed2,e8461cfe4b19c8c1d6d5e6cad5be165f,e8461cfe4b19c8c1d6d5e6cad5be165f,e8461cfe4b19c8c1d6d5e6cad5be165f,ec930b1472bc7281c54b4dc513ed60eb,ec930b1472bc7281c54b4dc513ed60eb,ef6314ee8dd38cc7c527eb9e09c836c1,f1835a47b140c53b6723b5b9a4295626,f22bf5c4fbfae88d668396e1b9455cad,f22bf5c4fbfae88d668396e1b9455cad,f3b5b8aa241113f953394144abebf29b,f41e6a57c1fbcec73ba9800c72f76066,f53f237da78274c61dc7036d1a340161,f53f237da78274c61dc7036d1a340161,f5ae6f533ee69c15d18255f2ad9bbd00,f6774bd0d6d4062b802a4cb09d79cea3,f83a589eb471f3ff71e27c4d44f3e45d,f83a589eb471f3ff71e27c4d44f3e45d,f83a589eb471f3ff71e27c4d44f3e45d,f83a589eb471f3ff71e27c4d44f3e45d,f83a589eb471f3ff71e27c4d44f3e45d,f83a589eb471f3ff71e27c4d44f3e45d,f849a90ed162194d07d01bbfd714cb08,f849a90ed162194d07d01bbfd714cb08,f88bed7f774d64ab6c4a305633feca32,fa3bbd582983653cc97600d974e3cbef,fe5d5922e8f78f94db77b5898814be34',\n",
       " 'donor_zip_first_three_digits': 782,\n",
       " 'donor_kmeans_cluster': 1,\n",
       " 'donation_amount_sum': 200.95590000000053,\n",
       " 'donation_amount_median': 0.4402,\n",
       " 'project_cost_median': 591.5,\n",
       " 'donor_project_emb': array([-2.35028107e-02,  6.67959918e-02, -1.53278585e-02,  5.35494032e-02,\n",
       "         5.48789998e-02, -3.47288539e-02,  1.13259691e-02,  5.22982739e-02,\n",
       "         1.45766984e-03,  5.22826478e-03, -5.69058323e-02,  1.64814037e-02,\n",
       "         3.29508232e-03, -4.99599924e-03,  3.09372216e-02, -4.09800721e-02,\n",
       "        -4.14315258e-02,  6.86122932e-02,  5.24054597e-03,  4.86633686e-02,\n",
       "         3.91957424e-02, -1.54265557e-02, -5.70837389e-04, -2.04884375e-02,\n",
       "         3.23751399e-02,  2.03244314e-02,  6.50050038e-02, -1.50532943e-02,\n",
       "         2.71226591e-02, -6.85307964e-02, -6.88949879e-03, -5.03426006e-02,\n",
       "         2.13758159e-02,  7.85785576e-03, -1.03310256e-02,  6.43121587e-02,\n",
       "         3.16150610e-02,  7.55877024e-03,  3.55761004e-02, -1.62476030e-02,\n",
       "         4.13009919e-02,  2.85197014e-02, -8.72484365e-04, -1.52511587e-02,\n",
       "        -6.75482509e-03, -2.09839210e-02, -3.77278690e-02, -2.29311719e-03,\n",
       "        -2.43584989e-02,  4.02820001e-02,  1.02966177e-02,  4.80938554e-02,\n",
       "         2.01627414e-02,  2.99015377e-02,  3.60269008e-03,  7.70001492e-02,\n",
       "         7.61275028e-03, -3.91747091e-02, -1.58761354e-03,  1.07088539e-02,\n",
       "        -2.24382192e-02, -2.88677475e-02, -5.48831391e-02,  5.11018149e-02,\n",
       "         8.87486727e-02,  2.62209711e-02, -2.17142558e-02,  2.33872985e-02,\n",
       "        -1.23185461e-02, -5.29556399e-02,  3.38267690e-02,  5.95669381e-02,\n",
       "        -3.01723794e-03, -5.24721299e-02,  1.07288031e-02, -1.70987484e-03,\n",
       "        -3.01581196e-02, -6.03457592e-02, -4.08932166e-02,  2.57479038e-03,\n",
       "         6.63646905e-03, -2.05995355e-02, -3.40124030e-02, -4.70053527e-02,\n",
       "         5.09339210e-02,  2.44731846e-02,  4.90955370e-04, -3.54385081e-02,\n",
       "         4.01279662e-02,  1.89584867e-02,  5.85975987e-02, -5.16951382e-02,\n",
       "        -2.41639108e-02, -4.73236080e-03,  1.83162332e-02,  5.92820774e-03,\n",
       "        -4.41974685e-02, -1.30024565e-01,  6.24229229e-03, -2.63932303e-03,\n",
       "         1.56308328e-03, -2.46821131e-02, -2.46185450e-02,  5.51543416e-02,\n",
       "         4.07289342e-02,  3.72125410e-02, -7.60333802e-02, -2.30898599e-02,\n",
       "        -8.38748715e-03,  1.93122300e-02, -1.20690727e-02, -4.59251401e-02,\n",
       "        -6.01585228e-02, -1.56769021e-02,  1.52588868e-02, -6.62803046e-02,\n",
       "         2.21943793e-02,  2.15038879e-03, -1.83110980e-02, -2.71615046e-02,\n",
       "         4.03188645e-02,  4.25270745e-02,  4.90126938e-02,  1.00798365e-02,\n",
       "        -2.75253469e-02, -2.15465279e-02,  1.39794609e-02,  3.61690113e-02,\n",
       "        -8.63380996e-03, -2.92136111e-02, -3.08440801e-02, -4.67375453e-02,\n",
       "        -1.51389892e-02, -3.49472671e-02,  1.13567526e-02, -2.10076309e-02,\n",
       "        -4.36945842e-02,  3.89030435e-02,  3.27900228e-02,  8.79962096e-03,\n",
       "        -1.58322403e-02, -4.17346270e-02, -4.47341727e-02,  2.06598126e-02,\n",
       "        -8.94462146e-03,  1.07877558e-02, -4.20658103e-03, -1.99722890e-02,\n",
       "         5.37152135e-02,  8.84222402e-02, -1.92381239e-02, -3.22374090e-02,\n",
       "         3.19095674e-02,  6.72910588e-03, -3.16605404e-02,  8.59478258e-03,\n",
       "        -1.82684052e-02,  2.56535331e-02,  6.97833112e-02,  1.93190053e-02,\n",
       "         2.36324269e-02,  2.16318516e-02, -2.02466069e-02,  1.50905805e-02,\n",
       "        -5.59191970e-02, -1.66808062e-02, -2.41852862e-02,  3.95616434e-02,\n",
       "        -4.73626052e-02,  2.92096800e-02, -4.21712635e-03, -5.12210031e-02,\n",
       "         2.12606460e-04, -2.14592035e-02, -5.78163796e-02,  6.38295254e-03,\n",
       "        -4.49514035e-02,  2.69001380e-02,  2.59974719e-02,  2.36204195e-02,\n",
       "         3.23717912e-02,  3.25886696e-02,  3.11806733e-02,  1.40057033e-02,\n",
       "         6.05895004e-02,  1.69790473e-02,  2.69109618e-02,  7.70865711e-02,\n",
       "        -1.11836938e-02, -1.34615322e-02, -4.76504925e-02, -2.51495098e-02,\n",
       "         1.94270455e-02, -1.32094291e-02,  3.60636381e-02, -8.16616958e-03,\n",
       "        -7.26775109e-03,  6.18344978e-03, -1.63778369e-02,  1.45149474e-02,\n",
       "         2.64974269e-02,  6.60153065e-02,  5.91840334e-02,  4.99030804e-03,\n",
       "         2.98203097e-02,  9.64864852e-04,  2.06396869e-02,  1.46848615e-02,\n",
       "         7.44780739e-03,  4.94008518e-02,  2.10118691e-02, -2.73190565e-02,\n",
       "        -5.91822616e-02, -2.07163791e-02,  3.05330600e-02,  1.18878748e-02,\n",
       "        -2.09723091e-02,  4.14541414e-02,  6.20716593e-02,  5.25266463e-02,\n",
       "         1.30485079e-02,  3.02520910e-02, -6.79355801e-03,  2.38852816e-03,\n",
       "         5.26848524e-02, -2.82910516e-02, -4.52384140e-02, -2.17782183e-02,\n",
       "         4.16895885e-02, -4.15709211e-02, -2.23608442e-02,  3.96247402e-02,\n",
       "        -2.91867345e-02,  1.00560174e-02, -8.67769373e-03,  5.82286258e-02,\n",
       "        -1.86883874e-02,  8.53738520e-03,  5.29762701e-02, -2.14552670e-02,\n",
       "         2.79673375e-02,  4.51872687e-02,  7.18469733e-03, -5.26012377e-04,\n",
       "        -4.05278778e-03,  5.25666468e-02,  2.28426318e-02, -2.01025853e-02,\n",
       "        -4.32168887e-03, -1.39079733e-02,  6.15875727e-02, -7.26416839e-02,\n",
       "        -2.31138946e-02,  2.43478366e-02, -1.02929655e-02,  2.59008936e-02,\n",
       "        -1.26819939e-02,  2.44346899e-03,  5.56348748e-03,  9.76124833e-02,\n",
       "        -1.08181000e-02,  2.97793401e-02, -3.63576581e-03, -2.94549085e-02,\n",
       "         4.76212832e-02,  4.89518163e-03,  3.73698923e-03, -2.50617374e-02,\n",
       "         2.83734958e-02,  3.34269429e-02,  2.49192477e-03, -6.32351553e-03,\n",
       "         7.97427917e-03, -2.32007685e-03,  5.36424515e-02, -2.73251783e-02,\n",
       "         7.78578966e-03,  4.70896981e-02,  3.61363963e-03,  1.29242350e-02,\n",
       "        -4.11198119e-02, -2.56133689e-02,  6.32466274e-03,  4.53462694e-02,\n",
       "         2.01956332e-02, -1.29033554e-01,  2.29687252e-02,  1.27864508e-02,\n",
       "         8.25327915e-03,  1.03027685e-02,  4.68376516e-02, -2.45310534e-02,\n",
       "         1.40135235e-02,  3.00591692e-02,  3.76815000e-02, -3.06799536e-02,\n",
       "        -1.72754475e-02,  7.48061084e-03,  2.08132416e-02,  8.13566629e-02,\n",
       "        -4.42453759e-02,  3.77772181e-02, -2.36404378e-02, -1.74250530e-02,\n",
       "        -3.16423600e-02, -3.65218955e-02, -7.18300826e-03,  1.17230826e-02,\n",
       "        -3.41069942e-02, -5.01029941e-02, -2.69689054e-02,  8.11828757e-03,\n",
       "         2.65206090e-02,  2.90970546e-02, -3.60807519e-02, -5.56824797e-03,\n",
       "         2.32801118e-02, -3.12669653e-03,  3.66470453e-03,  1.87222779e-02,\n",
       "         3.16796722e-03, -3.59759080e-02,  9.35326131e-03, -1.17741973e-02,\n",
       "        -4.21164022e-02,  3.99888449e-02,  2.35145108e-02,  4.31403096e-03,\n",
       "        -3.09375312e-02, -2.04822845e-02, -5.65053216e-02, -9.19363899e-02,\n",
       "        -9.68573062e-03,  1.62675587e-02, -3.19294647e-02, -5.55442611e-03,\n",
       "        -5.07836473e-02,  1.63367763e-02, -4.12692119e-02, -2.30871829e-02,\n",
       "         9.02315710e-03, -9.23793373e-03, -3.38589656e-02, -4.29301869e-02,\n",
       "        -1.44424021e-02, -1.27953967e-02, -4.64680591e-02,  8.99365142e-03,\n",
       "        -3.49919535e-02,  6.01649096e-02,  2.66689054e-02, -1.15019848e-02,\n",
       "         5.73127839e-02, -9.23979519e-03, -1.45321999e-02,  2.19720435e-03,\n",
       "         2.21158989e-02, -5.04669111e-02, -5.60598294e-03,  4.20394519e-02,\n",
       "        -1.41349933e-02,  2.85802163e-03, -2.81891732e-02,  5.16244432e-02,\n",
       "         4.55655864e-02, -2.70841125e-02, -9.51684605e-03, -1.92132586e-02,\n",
       "        -1.66393090e-02, -3.75477460e-02, -6.61000442e-02,  2.30553067e-02,\n",
       "        -4.57093158e-03,  3.62875127e-02,  2.58469274e-03,  1.53659840e-02,\n",
       "         1.47099493e-02, -4.17225046e-02,  3.39626037e-02,  7.11338642e-02,\n",
       "         3.92688777e-03,  5.78215796e-02,  5.13493859e-02,  3.69685236e-03,\n",
       "        -8.47662479e-02,  2.43028928e-03, -6.37554814e-03, -8.40574760e-03,\n",
       "         4.90565380e-02, -6.08786165e-03,  4.21490459e-02,  2.87408195e-02,\n",
       "        -3.27718841e-02, -5.73725814e-02,  2.42936122e-02,  2.48065336e-02,\n",
       "         2.35286741e-02, -5.82675726e-02, -3.00965687e-02,  3.17045503e-02,\n",
       "         2.24808975e-02, -1.78197774e-02, -4.41272202e-03,  5.77840877e-02,\n",
       "        -6.32786431e-02, -1.01705617e-02,  1.39043322e-02,  5.08517849e-02,\n",
       "         6.42891114e-02,  1.03368942e-01,  5.06841518e-02, -1.20014299e-02,\n",
       "        -9.21870573e-03, -3.83902498e-02, -8.56655704e-03,  3.28636491e-02,\n",
       "         1.34322734e-02,  2.15498794e-02, -9.57619413e-03, -7.35159041e-02,\n",
       "        -5.41371916e-02,  4.72188703e-03,  1.05030612e-02,  9.52419353e-03,\n",
       "         1.27059055e-02,  4.98722540e-02,  4.92064409e-03, -5.13314498e-03,\n",
       "        -5.05132780e-02,  2.26149528e-02,  5.40398302e-02, -3.97784044e-02,\n",
       "         2.50794318e-02,  3.79654213e-02, -3.41150123e-02, -5.83395707e-03,\n",
       "        -3.71805345e-02, -2.35538679e-02, -2.87712615e-02, -4.15023952e-04,\n",
       "         6.44027173e-02,  1.14380310e-02,  5.62076108e-02, -7.08879518e-03,\n",
       "        -4.86295412e-03, -3.09401487e-02, -1.07851974e-01, -4.83634083e-03,\n",
       "        -2.72538554e-02, -1.45160743e-02,  1.38213131e-03, -2.54525847e-02,\n",
       "        -4.47704724e-02,  3.47499258e-02,  5.73569068e-03,  2.37669032e-02,\n",
       "        -4.37060723e-02, -4.52190714e-03,  4.42479424e-02,  7.62620696e-03,\n",
       "        -3.91503868e-02,  3.93982881e-02, -2.17372563e-02,  1.14774525e-02,\n",
       "         1.03230897e-02, -2.21123197e-02,  8.86892271e-03, -4.94075103e-03,\n",
       "         1.61894490e-02, -1.13938832e-02,  5.64552953e-03, -4.02724540e-02,\n",
       "         2.49083492e-03,  4.86920603e-02,  1.74703768e-02,  2.88559016e-02,\n",
       "        -4.08840034e-02,  5.71814241e-04,  2.06644505e-02, -1.24124659e-02,\n",
       "         2.97818575e-02, -5.65530735e-03, -1.26947796e-02, -1.79001886e-02,\n",
       "        -2.75565127e-02, -8.93012096e-03,  1.00540215e-02,  9.93455442e-03,\n",
       "        -4.65687940e-02,  4.54363590e-02, -2.12742186e-02,  3.98553015e-02,\n",
       "         1.44551079e-02, -1.60975370e-02,  1.28370709e-01, -2.81831005e-02,\n",
       "        -4.13019617e-02,  3.62360154e-02,  2.24155198e-02,  4.72360960e-02,\n",
       "        -1.13885645e-02,  7.48493778e-03, -2.97409843e-02,  3.21971721e-03,\n",
       "         1.06369069e-02,  7.76415137e-03,  1.27369134e-02, -2.39317854e-02,\n",
       "         4.29525047e-02,  1.12882566e-02,  5.63508505e-02, -2.40744114e-02,\n",
       "        -4.76588429e-02,  3.49681629e-02,  1.81158166e-02, -1.50337654e-02,\n",
       "        -2.32633118e-02,  2.57073539e-02,  4.73467679e-02, -4.05350241e-02,\n",
       "         2.70554952e-02,  3.15981134e-02,  1.17037263e-02,  3.15380203e-02,\n",
       "        -2.37160531e-02,  6.28891280e-02, -2.89805778e-02,  7.81856202e-03,\n",
       "        -2.29084438e-03, -8.25064565e-02,  1.80276123e-02, -1.62577981e-02,\n",
       "        -5.06075643e-03,  6.06429164e-03,  3.92325227e-02, -1.42867122e-03,\n",
       "         3.18602198e-02,  1.76789128e-02,  4.31415920e-02,  3.09329975e-02,\n",
       "         2.04097288e-02, -3.68307201e-02,  5.75107568e-02, -1.44931002e-02,\n",
       "        -1.86696752e-02, -5.67838201e-02,  1.15384911e-01,  1.67925602e-02,\n",
       "         2.96718579e-02, -4.72815684e-02,  4.03618759e-02,  1.29574805e-03,\n",
       "        -4.26901680e-02,  4.83292956e-02, -2.80633700e-02, -5.52760118e-03,\n",
       "         1.61280460e-02, -3.91860472e-02,  4.88502933e-02,  1.31941682e-01,\n",
       "        -1.88147820e-02,  3.89086587e-02,  1.37939488e-02, -5.92379420e-03,\n",
       "         7.93622373e-02,  1.10288755e-04, -1.01741373e-02, -9.96828849e-03,\n",
       "        -2.84109165e-02,  3.58264004e-02,  4.46614220e-02,  3.09027419e-02,\n",
       "         5.40797261e-03, -1.80350333e-02, -2.89027132e-03,  3.25646557e-03,\n",
       "         1.35631787e-03,  6.99174685e-02, -2.25342962e-02,  4.46485217e-02,\n",
       "        -2.16682157e-02, -2.08130171e-03,  5.78294015e-02,  6.29749487e-03,\n",
       "         2.69150065e-03, -7.17175240e-03,  1.12658287e-02, -1.10476865e-03,\n",
       "         5.70361577e-02, -2.52777507e-02, -6.20840608e-03,  2.30870055e-03,\n",
       "        -3.95846829e-02,  1.19615463e-02,  4.46850934e-02,  1.96919981e-02,\n",
       "        -4.51612844e-02,  1.52548150e-02,  8.08360815e-03, -3.20292458e-03,\n",
       "         5.01433577e-04,  2.35251465e-02, -2.45287907e-02, -2.03945950e-02,\n",
       "        -2.23395257e-02,  1.57125555e-02, -9.34773743e-03,  6.49162945e-02,\n",
       "         3.16436684e-02,  4.17331310e-02,  3.54079103e-02, -2.19477744e-02,\n",
       "        -7.36746379e-02,  3.77772935e-02, -7.42782328e-02,  1.05664670e-02,\n",
       "         1.03941712e-02,  1.94286653e-02,  1.00613700e-02,  5.19571611e-02,\n",
       "        -4.98174025e-02, -5.45077268e-03,  6.10150464e-02,  6.23933355e-02,\n",
       "         5.55284512e-02, -2.75129769e-02,  1.18518059e-02,  3.41195304e-02,\n",
       "         2.21126254e-02, -1.62534037e-02,  3.22419216e-02, -1.21678370e-02,\n",
       "        -2.62358208e-02, -2.04713009e-02, -2.57685700e-02,  1.91626081e-02,\n",
       "         1.97641680e-02,  5.92763475e-02,  4.57475828e-03, -8.51049610e-03,\n",
       "         1.99306052e-02, -8.28098921e-02,  1.48133272e-02, -5.53038263e-02,\n",
       "         4.07095865e-02,  2.33422807e-02, -1.60353387e-02, -1.57337802e-02,\n",
       "        -3.88248826e-02, -5.99210510e-03, -5.72697217e-03,  4.52500975e-02,\n",
       "         8.23769066e-02, -4.30343005e-02, -4.54297316e-02,  6.03112603e-02,\n",
       "         3.13740282e-04,  1.13762037e-02, -5.02570018e-02,  4.97722856e-02,\n",
       "         2.31621040e-02, -6.49617789e-03, -2.50112616e-02,  6.50156848e-02,\n",
       "        -7.74416604e-02, -1.17589642e-02, -1.59072563e-02, -2.29909074e-02,\n",
       "        -2.87886373e-02,  3.64104885e-02, -4.82869281e-02,  2.37879859e-02,\n",
       "         9.42194555e-02, -9.16042042e-03, -3.82251972e-02,  5.80420636e-02,\n",
       "        -1.26015270e-02, -1.63233139e-02, -3.66903525e-02, -2.68735646e-02,\n",
       "         1.06748569e-02, -8.12767153e-03,  4.57768040e-02, -4.62525880e-02,\n",
       "         4.59686531e-03, -5.99812680e-02,  3.94642949e-02, -1.47991759e-02,\n",
       "        -2.27960004e-02, -4.17271544e-02, -1.80451781e-02,  1.13433657e-01,\n",
       "        -4.06931529e-02, -2.18244725e-02, -1.06925305e-01,  8.76024720e-03,\n",
       "         1.16743320e-02,  2.52691657e-02,  8.26102219e-03,  4.48997987e-02,\n",
       "         2.07635291e-02, -2.99217485e-02,  4.29643260e-02,  1.39147450e-03,\n",
       "         4.08512660e-03,  3.99452837e-02,  2.58672408e-02, -8.63864697e-03,\n",
       "         4.62423123e-02,  1.58023277e-02,  2.73508876e-02, -3.32447658e-02,\n",
       "         2.06320770e-03, -1.93915250e-02, -3.96367004e-03, -4.46505664e-02,\n",
       "        -3.41670052e-02, -2.83869693e-02,  5.20973251e-02, -3.85232513e-02,\n",
       "        -3.01526835e-02,  5.72494653e-03,  4.26549901e-02,  3.77053059e-02,\n",
       "        -5.21431182e-02,  9.82522890e-03,  3.36613846e-02, -3.40971755e-02,\n",
       "         7.03569682e-02, -1.69997988e-02, -2.76558710e-02,  7.46671009e-02,\n",
       "        -1.58430192e-02, -3.68674100e-03,  2.06013800e-02,  4.29978281e-02,\n",
       "        -1.27984832e-02,  4.01180447e-02, -2.64918201e-02, -5.21568465e-02,\n",
       "        -4.84918878e-02, -4.28164915e-02,  3.57724275e-02, -2.26768489e-02,\n",
       "        -2.77113624e-02, -2.33998944e-02, -3.75786745e-02,  2.37018210e-02,\n",
       "         2.63553545e-02, -7.10268277e-02,  1.91761374e-02,  1.79010079e-02,\n",
       "         2.47459994e-02,  2.41667384e-02, -1.84688836e-02,  3.22251549e-02,\n",
       "         9.10767245e-03, -3.76347526e-02, -3.09256728e-02, -6.31939935e-02,\n",
       "         6.32287344e-02,  3.28685696e-02, -4.39174154e-02,  2.76294895e-02,\n",
       "         6.11398601e-02,  7.08081924e-02,  4.83009726e-03, -1.14431442e-02]),\n",
       " 'edges': [(1.0, '009d5fc7b87883ffad248db5150bf1fc'),\n",
       "  (0.9923356175024185, '237db43817f34988f9d543ca518be4ee'),\n",
       "  (0.9903795748574737, 'd24347fdee199ae9395ad44484e1caf7'),\n",
       "  (0.9869761914936245, 'b7ab081e7f28db46c041f3395f164bbe'),\n",
       "  (0.9828934236638218, '98c4cd327c417683cd76a2ac19fc6254')]}"
      ]
     },
     "execution_count": 15,
     "metadata": {},
     "output_type": "execute_result"
    }
   ],
   "source": [
    "dg._view_nodes()[donor_id]\n",
    "#pg._view_nodes()[project_id]"
   ]
  },
  {
   "cell_type": "code",
   "execution_count": null,
   "metadata": {},
   "outputs": [],
   "source": []
  },
  {
   "cell_type": "code",
   "execution_count": null,
   "metadata": {},
   "outputs": [],
   "source": []
  },
  {
   "cell_type": "code",
   "execution_count": null,
   "metadata": {},
   "outputs": [],
   "source": []
  },
  {
   "cell_type": "code",
   "execution_count": null,
   "metadata": {},
   "outputs": [],
   "source": []
  },
  {
   "cell_type": "code",
   "execution_count": null,
   "metadata": {},
   "outputs": [],
   "source": []
  },
  {
   "cell_type": "code",
   "execution_count": null,
   "metadata": {},
   "outputs": [],
   "source": []
  },
  {
   "cell_type": "code",
   "execution_count": null,
   "metadata": {},
   "outputs": [],
   "source": []
  },
  {
   "cell_type": "code",
   "execution_count": null,
   "metadata": {},
   "outputs": [],
   "source": []
  },
  {
   "cell_type": "code",
   "execution_count": null,
   "metadata": {},
   "outputs": [],
   "source": []
  },
  {
   "cell_type": "code",
   "execution_count": null,
   "metadata": {},
   "outputs": [],
   "source": []
  },
  {
   "cell_type": "code",
   "execution_count": null,
   "metadata": {},
   "outputs": [],
   "source": []
  },
  {
   "cell_type": "code",
   "execution_count": null,
   "metadata": {},
   "outputs": [],
   "source": []
  },
  {
   "cell_type": "code",
   "execution_count": null,
   "metadata": {},
   "outputs": [],
   "source": []
  },
  {
   "cell_type": "code",
   "execution_count": null,
   "metadata": {},
   "outputs": [],
   "source": []
  }
 ],
 "metadata": {
  "interpreter": {
   "hash": "c5e48f84046969b800ff52f6d80523bcd1ca3fb1a99f1449e4197bf6c73dc096"
  },
  "kernelspec": {
   "display_name": "Python 3.8.8 64-bit",
   "name": "python3"
  },
  "language_info": {
   "codemirror_mode": {
    "name": "ipython",
    "version": 3
   },
   "file_extension": ".py",
   "mimetype": "text/x-python",
   "name": "python",
   "nbconvert_exporter": "python",
   "pygments_lexer": "ipython3",
   "version": "3.8.8"
  },
  "orig_nbformat": 4
 },
 "nbformat": 4,
 "nbformat_minor": 2
}
