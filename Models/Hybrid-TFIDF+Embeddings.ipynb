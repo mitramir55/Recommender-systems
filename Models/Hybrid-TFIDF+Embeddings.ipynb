{
 "cells": [
  {
   "cell_type": "code",
   "execution_count": null,
   "metadata": {},
   "outputs": [],
   "source": []
  },
  {
   "cell_type": "code",
   "execution_count": null,
   "metadata": {},
   "outputs": [],
   "source": []
  },
  {
   "cell_type": "code",
   "execution_count": null,
   "metadata": {},
   "outputs": [],
   "source": []
  },
  {
   "cell_type": "code",
   "execution_count": null,
   "metadata": {},
   "outputs": [],
   "source": [
    "class HybridRecommender:\n",
    "    \"\"\" gets the two previous methods and multiplies the \n",
    "    scores to get an overall score\"\"\"\n",
    "\n",
    "\n",
    "    MODEL_NAME = 'Hybrid_1'\n",
    "\n",
    "\n",
    "    def __init__(self, content_based_model,\n",
    "                 collab_filtering_model,\n",
    "                 projects):\n",
    "        \n",
    "        self.content_based_model = content_based_model\n",
    "        self.collab_filtering_model = collab_filtering_model\n",
    "        self.projects = projects\n",
    "\n",
    "    def get_model_name(self):\n",
    "        return self.MODEL_NAME\n",
    "\n",
    "    def recommend_projects(self, donor_id,\n",
    "                           projects_to_ignore=[],\n",
    "                           top_n = 10):\n",
    "        \"\"\"get the results of each and combine them\"\"\"\n",
    "\n",
    "\n",
    "        # results from content based\n",
    "        content_b_df = self.content_based_model\\\n",
    "        .recommend_projects(donor_id, \n",
    "                            projects_to_ignore,\n",
    "                            top_n = 1000)\\\n",
    "                            .rename(columns={'recommStrength':'ContentBasedStrength'})\n",
    "\n",
    "        # resutls of collaborate filtering\n",
    "\n",
    "        collab_filtering_df = self.collab_filtering_model\\\n",
    "        .recommend_projects(donor_id, \n",
    "                            projects_to_ignore,\n",
    "                            top_n = 1000)\\\n",
    "                            .rename(columns={'recommStrength':'CollabFilteringStrength'})\n",
    "\n",
    "\n",
    "        recomm_df = pd.merge(content_b_df,\n",
    "                             collab_filtering_df,\n",
    "                             how='inner',\n",
    "                             on = 'Project ID')\n",
    "        \n",
    "        # multiplying two scores\n",
    "        recomm_df['HybridStrength'] =\\\n",
    "        recomm_df['CollabFilteringStrength']*recomm_df['ContentBasedStrength']\n",
    "        \n",
    "        # sorting by the hybrid score\n",
    "        recomm_df = recomm_df.sort_values(by='HybridStrength',\n",
    "                                          ascending=False).head(top_n)\n",
    "        # merging all the data with the projects dataset\n",
    "        recomm_df = pd.merge(recomm_df,\n",
    "                             self.projects, \n",
    "                             how='left',\n",
    "                             on='Project ID')[['HybridStrength', \n",
    "                                               'Project ID', 'Project Title', \n",
    "                                               'Project Essay',\n",
    "                                               'ContentBasedStrength',\n",
    "                                               'CollabFilteringStrength']]\n",
    "\n",
    "        return recomm_df"
   ]
  },
  {
   "cell_type": "code",
   "execution_count": null,
   "metadata": {},
   "outputs": [],
   "source": []
  },
  {
   "cell_type": "code",
   "execution_count": null,
   "metadata": {},
   "outputs": [],
   "source": []
  }
 ],
 "metadata": {
  "language_info": {
   "name": "python"
  },
  "orig_nbformat": 4
 },
 "nbformat": 4,
 "nbformat_minor": 2
}
