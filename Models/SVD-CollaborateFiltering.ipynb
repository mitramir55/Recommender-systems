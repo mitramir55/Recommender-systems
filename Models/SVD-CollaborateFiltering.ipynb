{
 "cells": [
  {
   "cell_type": "code",
   "execution_count": 1,
   "metadata": {},
   "outputs": [],
   "source": [
    "from termcolor import colored\n",
    "import pandas as pd\n",
    "import numpy as np\n",
    "import string\n",
    "import regex as re\n",
    "import zipfile\n",
    "import gc\n",
    "from scipy.stats import boxcox\n",
    "import sys \n",
    "# other python utilities \n",
    "from collections import Counter \n",
    "from tqdm import tqdm \n",
    "import pandas as pd \n",
    "import numpy as np \n",
    "import warnings, math\n",
    "from termcolor import colored\n",
    "import pickle\n",
    "import string\n",
    "from sklearn.metrics.pairwise import cosine_similarity\n",
    "# for eval\n",
    "from sklearn.model_selection import train_test_split\n",
    "import random\n",
    "\n",
    "\n",
    "# for SVD\n",
    "from scipy.sparse.linalg import svds\n",
    "from scipy.sparse import csr_matrix\n",
    "pd.set_option('display.float_format','{:.5f}'.format)\n"
   ]
  },
  {
   "cell_type": "code",
   "execution_count": 2,
   "metadata": {},
   "outputs": [
    {
     "name": "stdout",
     "output_type": "stream",
     "text": [
      "\u001b[32mcategorizing the following columns for less memory usage...\u001b[0m\n",
      "Project Grade Level Category\n",
      "Project Resource Category\n",
      "Project Current Status\n",
      "School Metro Type\n",
      "School State\n",
      "Donor State\n"
     ]
    }
   ],
   "source": [
    "df = pd.read_csv(\"D:\\Papers\\Paper 3 - Recommender Systems\\Recommender-systems\\Files\\Oct_Forth_projectType.csv\")\n",
    "\n",
    "categories_cols = []\n",
    "\n",
    "print(colored('categorizing the following columns for less memory usage...', 'green'))\n",
    "for col in df.columns:\n",
    "    #print(str(col))\n",
    "    cats = len(df[col].unique())\n",
    "    #print(cats)\n",
    "    if cats<=10:\n",
    "        categories_cols.append(col)\n",
    "        print(col)\n",
    "        \n",
    "df[categories_cols] = df[categories_cols].astype('category')"
   ]
  },
  {
   "cell_type": "code",
   "execution_count": null,
   "metadata": {},
   "outputs": [],
   "source": []
  },
  {
   "cell_type": "code",
   "execution_count": null,
   "metadata": {},
   "outputs": [],
   "source": [
    "donors_projects_df = donor_project.pivot('Donor ID', 'Project ID', 'Donation Amount').fillna(0)\n",
    "\n",
    "donors_projects = donors_projects_df.values\n",
    "donors_id = donors_projects_df.index\n",
    "projects_id = donors_projects_df.columns\n",
    "\n",
    "print(f'length of donors: {len(donors_id)}')\n",
    "print(f'length of projects: {len(projects_id)}')"
   ]
  },
  {
   "cell_type": "code",
   "execution_count": null,
   "metadata": {},
   "outputs": [],
   "source": []
  },
  {
   "cell_type": "code",
   "execution_count": null,
   "metadata": {},
   "outputs": [],
   "source": []
  },
  {
   "cell_type": "code",
   "execution_count": null,
   "metadata": {},
   "outputs": [],
   "source": []
  },
  {
   "cell_type": "code",
   "execution_count": null,
   "metadata": {},
   "outputs": [],
   "source": [
    "U, sigma, Vt = svds(donors_projects, k=50)\n",
    "sigma = np.diag(sigma)\n",
    "all_donor_predicted_preference = np.dot(np.dot(U, sigma), Vt)\n",
    "\n",
    "svg_predicted_preference_df = pd.DataFrame(all_donor_predicted_preference,\n",
    "                          columns=projects_id,\n",
    "                          index=donors_id).transpose()\n",
    "\n",
    "svg_predicted_preference_df.shape # shape[0] == len(donor_ids)"
   ]
  },
  {
   "cell_type": "code",
   "execution_count": null,
   "metadata": {},
   "outputs": [],
   "source": []
  },
  {
   "cell_type": "code",
   "execution_count": null,
   "metadata": {},
   "outputs": [],
   "source": []
  },
  {
   "cell_type": "code",
   "execution_count": null,
   "metadata": {},
   "outputs": [],
   "source": [
    "class CFRecommender:\n",
    "    \n",
    "\n",
    "    \"\"\"\n",
    "     We only need to get the ids of donors and sort the projects they might \n",
    "    values in front of each that have been calculated using svd and multiplication\n",
    "    of the donor-donation matrix and the eigen vectors\n",
    "     \"\"\"\n",
    "\n",
    "    MODEL_NAME = 'Collaborative Filtering'\n",
    "\n",
    "\n",
    "    def __init__(self, svg_predicted_preference_df, projects = None):\n",
    "        self.svg_predicted_preference_df = svg_predicted_preference_df\n",
    "        self.df = df\n",
    "\n",
    "    def get_model_name(self):\n",
    "        return self.MODEL_NAME\n",
    "\n",
    "    def recommend_projects(self, donor_id, projects_to_ignore=[], top_n=10, df_test = df_test):\n",
    "        \n",
    "        \n",
    "        \"\"\"This function gets a list of projects have to be ignored\n",
    "        and outputs a dataframe of all the projects this person may \n",
    "        like\n",
    "        \n",
    "        \n",
    "        \"\"\"\n",
    "        donated_projects_test = df_test_donor_index.loc[donor_id, 'Project ID']\n",
    "        if type(donated_projects_test) == pd.Series:\n",
    "            donated_projects_test = set(donated_projects_test)\n",
    "        else: donated_projects_test = set([donated_projects_test])\n",
    "\n",
    "        # projects that the user has donated to in both testing and training set\n",
    "        wanted_in_test = []\n",
    "        for project_id in projects_to_ignore:\n",
    "            if project_id in donated_projects_test:\n",
    "                wanted_in_test.append(project_id)\n",
    "\n",
    "        if wanted_in_test != []: projects_to_ignore = set(projects_to_ignore).difference(wanted_in_test)\n",
    "\n",
    "        donor_predictions = self.svg_predicted_preference_df[donor_id].reset_index().rename(columns={donor_id: 'recommStrength'})\n",
    "        \n",
    "        # making sure we have all projects we want and sorting them\n",
    "        recomm_df = donor_predictions[~donor_predictions['Project ID'].isin(projects_to_ignore)].sort_values(by='recommStrength', ascending=False).head(top_n)\n",
    "\n",
    "        projects_desctiption = self.df[['Project ID', 'Project Title', 'Project Need Statement','Project Resource Category', 'Project Subject Category Tree']]\n",
    "        projects_desctiption = projects_desctiption.drop_duplicates(keep='first')\n",
    "        # merging with projects dataset to get the descriptions\n",
    "        recomm_df_merged = pd.merge(left = recomm_df, right = projects_desctiption, how='left', on='Project ID')#[['recommStrength', 'Project ID', 'Project Title', 'Project Need Statement']]\n",
    "        \n",
    "\n",
    "        return recomm_df_merged\n"
   ]
  },
  {
   "cell_type": "code",
   "execution_count": null,
   "metadata": {},
   "outputs": [],
   "source": []
  },
  {
   "cell_type": "code",
   "execution_count": null,
   "metadata": {},
   "outputs": [],
   "source": []
  },
  {
   "cell_type": "code",
   "execution_count": null,
   "metadata": {},
   "outputs": [],
   "source": []
  },
  {
   "cell_type": "code",
   "execution_count": null,
   "metadata": {},
   "outputs": [],
   "source": []
  },
  {
   "cell_type": "code",
   "execution_count": null,
   "metadata": {},
   "outputs": [],
   "source": []
  },
  {
   "cell_type": "code",
   "execution_count": null,
   "metadata": {},
   "outputs": [],
   "source": []
  },
  {
   "cell_type": "code",
   "execution_count": null,
   "metadata": {},
   "outputs": [],
   "source": []
  },
  {
   "cell_type": "code",
   "execution_count": null,
   "metadata": {},
   "outputs": [],
   "source": []
  },
  {
   "cell_type": "code",
   "execution_count": null,
   "metadata": {},
   "outputs": [],
   "source": []
  }
 ],
 "metadata": {
  "interpreter": {
   "hash": "c5e48f84046969b800ff52f6d80523bcd1ca3fb1a99f1449e4197bf6c73dc096"
  },
  "kernelspec": {
   "display_name": "Python 3.8.8 64-bit",
   "name": "python3"
  },
  "language_info": {
   "codemirror_mode": {
    "name": "ipython",
    "version": 3
   },
   "file_extension": ".py",
   "mimetype": "text/x-python",
   "name": "python",
   "nbconvert_exporter": "python",
   "pygments_lexer": "ipython3",
   "version": "3.8.8"
  },
  "orig_nbformat": 4
 },
 "nbformat": 4,
 "nbformat_minor": 2
}
