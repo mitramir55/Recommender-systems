{
 "cells": [
  {
   "cell_type": "code",
   "execution_count": 80,
   "metadata": {},
   "outputs": [],
   "source": [
    "# Packages\n",
    "\n",
    "#pip install -U sentence-transformers\n",
    "from termcolor import colored\n",
    "import matplotlib.pyplot as plt\n",
    "import pickle\n",
    "import pandas as pd\n",
    "import numpy as np\n",
    "import string\n",
    "import regex as re\n",
    "import zipfile\n",
    "import gc\n",
    "from scipy.stats import boxcox\n",
    "import sys \n",
    "from collections import Counter \n",
    "from tqdm import tqdm \n",
    "import pandas as pd \n",
    "import numpy as np \n",
    "import warnings, math\n",
    "from termcolor import colored\n",
    "import pickle\n",
    "import string\n",
    "from sklearn.metrics.pairwise import cosine_similarity\n",
    "\n",
    "# for eval\n",
    "from sklearn.model_selection import train_test_split\n",
    "import random\n",
    "\n",
    "\n",
    "# for SVD\n",
    "from scipy.sparse.linalg import svds\n",
    "from scipy.sparse import csr_matrix\n",
    "pd.set_option('display.float_format','{:.5f}'.format)\n",
    "\n",
    "# for EMB\n",
    "#from sentence_transformers import SentenceTransformer, util\n",
    "import scipy\n",
    "from sklearn import preprocessing \n",
    "\n",
    "# for TFIDF\n",
    "from sklearn.feature_extraction.text import TfidfVectorizer\n",
    "import scipy\n",
    "from sklearn import preprocessing \n",
    "\n",
    "# for creating a network\n",
    "from sklearn.cluster import KMeans "
   ]
  },
  {
   "cell_type": "code",
   "execution_count": 81,
   "metadata": {},
   "outputs": [
    {
     "name": "stderr",
     "output_type": "stream",
     "text": [
      "C:\\Users\\Lenovo\\anaconda3\\lib\\site-packages\\IPython\\core\\interactiveshell.py:3165: DtypeWarning: Columns (10) have mixed types.Specify dtype option on import or set low_memory=False.\n",
      "  has_raised = await self.run_ast_nodes(code_ast.body, cell_name,\n"
     ]
    }
   ],
   "source": [
    "DF_PATH = r'D:\\Papers\\Paper 3 - Recommender Systems\\Recommender-systems\\Files\\Oct_Forth_projectType.csv'\n",
    "df = pd.read_csv(DF_PATH)\n",
    "\n",
    "PROJECTS_DF_PATH = r\"D:\\Papers\\Paper 3 - Recommender Systems\\Recommender-systems\\Files\\projects.csv\"\n",
    "projects_df = pd.read_csv(PROJECTS_DF_PATH)\n",
    "\n",
    "EXTERNAL_DF_PATH = r\"D:\\Papers\\Paper 3 - Recommender Systems\\Recommender-systems\\Files\\zip_code_database_enterprise.csv\"\n",
    "ext_features = pd.read_csv(EXTERNAL_DF_PATH)\n"
   ]
  },
  {
   "cell_type": "code",
   "execution_count": 82,
   "metadata": {},
   "outputs": [
    {
     "data": {
      "text/plain": [
       "Index(['zip', 'type', 'decommissioned', 'primary_city', 'acceptable_cities',\n",
       "       'unacceptable_cities', 'state', 'county', 'timezone', 'area_codes',\n",
       "       'world_region', 'country', 'approximate_latitude',\n",
       "       'approximate_longitude', 'population_center_latitude',\n",
       "       'population_center_longitude', 'polygon_offset_latitude',\n",
       "       'polygon_offset_longitude', 'internal_point_latitude',\n",
       "       'internal_point_longitude', 'latitude_min', 'latitude_max',\n",
       "       'longitude_min', 'longitude_max', 'area_land', 'area_water',\n",
       "       'housing_count', 'irs_estimated_households_2015',\n",
       "       'irs_estimated_households_2014', 'irs_estimated_households_2013',\n",
       "       'irs_estimated_households_2012', 'irs_estimated_households_2011',\n",
       "       'irs_estimated_households_2010', 'irs_estimated_households_2009',\n",
       "       'irs_estimated_households_2008', 'irs_estimated_households_2007',\n",
       "       'irs_estimated_households_2006', 'irs_estimated_households_2005',\n",
       "       'acs_estimated_households_2016', 'acs_estimated_households_2016_margin',\n",
       "       'acs_estimated_households_2015', 'acs_estimated_households_2015_margin',\n",
       "       'acs_estimated_households_2014', 'acs_estimated_households_2014_margin',\n",
       "       'acs_estimated_households_2013', 'acs_estimated_households_2013_margin',\n",
       "       'acs_estimated_households_2012', 'acs_estimated_households_2012_margin',\n",
       "       'acs_estimated_households_2011', 'acs_estimated_households_2011_margin',\n",
       "       'population_count', 'irs_estimated_population_2015',\n",
       "       'irs_estimated_population_2014', 'irs_estimated_population_2013',\n",
       "       'irs_estimated_population_2012', 'irs_estimated_population_2011',\n",
       "       'irs_estimated_population_2010', 'irs_estimated_population_2009',\n",
       "       'irs_estimated_population_2008', 'irs_estimated_population_2007',\n",
       "       'irs_estimated_population_2006', 'irs_estimated_population_2005',\n",
       "       'acs_estimated_population_2016', 'acs_estimated_population_2016_margin',\n",
       "       'acs_estimated_population_2015', 'acs_estimated_population_2015_margin',\n",
       "       'acs_estimated_population_2014', 'acs_estimated_population_2014_margin',\n",
       "       'acs_estimated_population_2013', 'acs_estimated_population_2013_margin',\n",
       "       'acs_estimated_population_2012', 'acs_estimated_population_2012_margin',\n",
       "       'acs_estimated_population_2011', 'acs_estimated_population_2011_margin',\n",
       "       'white', 'black_or_african_american',\n",
       "       'american_indian_or_alaskan_native', 'asian',\n",
       "       'native_hawaiian_and_other_pacific_islander', 'other_race',\n",
       "       'two_or_more_races', 'total_male_population', 'total_female_population',\n",
       "       'pop_under_10', 'pop_10_to_19', 'pop_20_to_29', 'pop_30_to_39',\n",
       "       'pop_40_to_49', 'pop_50_to_59', 'pop_60_to_69', 'pop_70_to_79',\n",
       "       'pop_80_plus', 'percent_population_in_poverty',\n",
       "       'median_earnings_past_year', 'median_household_income',\n",
       "       'median_gross_rent', 'median_home_value',\n",
       "       'percent_high_school_graduate', 'percent_bachelors_degree',\n",
       "       'percent_graduate_degree'],\n",
       "      dtype='object')"
      ]
     },
     "execution_count": 82,
     "metadata": {},
     "output_type": "execute_result"
    }
   ],
   "source": [
    "ext_features.columns"
   ]
  },
  {
   "cell_type": "code",
   "execution_count": 83,
   "metadata": {},
   "outputs": [],
   "source": [
    "# changing zips to strings\n",
    "\n",
    "ext_features.loc[:, 'zip'] = ext_features.loc[:, 'zip'].astype(float).astype(int).astype(str)\n",
    "df.loc[:, 'Donor Zip'] = df.loc[:, 'Donor Zip'].astype(float).astype(int).astype(str)"
   ]
  },
  {
   "cell_type": "code",
   "execution_count": 84,
   "metadata": {},
   "outputs": [],
   "source": [
    "# calculate the length of zips\n",
    "df.loc[:, 'len_zip'] = df['Donor Zip'].apply(lambda x: len(x))\n",
    "ext_features.loc[:, 'len_zip'] = ext_features['zip'].apply(lambda x: len(x))"
   ]
  },
  {
   "cell_type": "code",
   "execution_count": 85,
   "metadata": {},
   "outputs": [
    {
     "data": {
      "image/png": "[encoded data removed]",
      "text/plain": [
       "<Figure size 720x288 with 2 Axes>"
      ]
     },
     "metadata": {
      "needs_background": "light"
     },
     "output_type": "display_data"
    }
   ],
   "source": [
    "fig, (ax1, ax2) = plt.subplots(1, 2, figsize=(10,4));\n",
    "\n",
    "fig.suptitle('zip length in the main and external df')\n",
    "ax1.hist(df.loc[:, 'len_zip'], );\n",
    "ax2.hist(ext_features.loc[:, 'len_zip']);\n",
    "\n",
    "ax1.title.set_text('Main df')\n",
    "ax2.title.set_text('External df')"
   ]
  },
  {
   "cell_type": "code",
   "execution_count": 86,
   "metadata": {},
   "outputs": [],
   "source": [
    "# due to security and the privacy of users, in the main df we have only the first three digits\n",
    "# of the users\n",
    "\n",
    "ext_features['zip_first_three_digits'] = ext_features['zip'].apply(lambda x:x[:3])\n",
    "ext_features.drop(columns=['zip'], inplace=True)\n",
    "\n",
    "df.rename(columns={'Donor Zip': 'zip_first_three_digits'}, inplace=True)"
   ]
  },
  {
   "cell_type": "code",
   "execution_count": 87,
   "metadata": {},
   "outputs": [],
   "source": [
    "selected_features = ['zip_first_three_digits',\n",
    "                    'population_count', 'housing_count', \n",
    "                    'total_male_population', 'total_female_population',\n",
    "                    'median_household_income', 'median_earnings_past_year',\n",
    "                    'percent_population_in_poverty',\n",
    "\n",
    "                    'pop_under_10', 'pop_10_to_19', 'pop_20_to_29', 'pop_30_to_39',\n",
    "                    'pop_40_to_49', 'pop_50_to_59', 'pop_60_to_69', 'pop_70_to_79',\n",
    "                    'pop_80_plus',\n",
    "\n",
    "                    'percent_high_school_graduate', 'percent_bachelors_degree',\n",
    "                    'percent_graduate_degree',\n",
    "\n",
    "                    'white', 'black_or_african_american',\n",
    "                    'american_indian_or_alaskan_native', 'asian',\n",
    "                    'native_hawaiian_and_other_pacific_islander', 'other_race',\n",
    "                    'two_or_more_races', \n",
    "                    ]\n",
    "\n",
    "ext_features = ext_features.loc[:, selected_features]#.groupby(['zip']).mean().reset_index()\n"
   ]
  },
  {
   "cell_type": "code",
   "execution_count": 88,
   "metadata": {},
   "outputs": [],
   "source": [
    "ext_features.dropna(inplace=True)\n",
    "ext_features.reset_index(drop=True, inplace=True)"
   ]
  },
  {
   "cell_type": "code",
   "execution_count": 89,
   "metadata": {},
   "outputs": [],
   "source": [
    "weighted_mean = lambda x: np.average(x, weights=ext_features.loc[x.index, 'population_count'])\n",
    "\n",
    "\n",
    "ext_features_agg = ext_features.groupby(by=['zip_first_three_digits']).agg(\n",
    "    \n",
    "    population_count=('population_count', 'sum'),\n",
    "    housing_count=('housing_count', 'sum'),\n",
    "    total_male_population=('total_male_population', 'sum'),\n",
    "    total_female_population=('total_female_population', 'sum'),\n",
    "    white=('white', 'sum'),\n",
    "    black_or_african_american=('black_or_african_american', 'sum'),\n",
    "    american_indian_or_alaskan_native=('american_indian_or_alaskan_native', 'sum'),\n",
    "    asian=('asian', 'sum'),\n",
    "    native_hawaiian_and_other_pacific_islander=('native_hawaiian_and_other_pacific_islander', 'sum'),\n",
    "    other_race=('other_race', 'sum'),\n",
    "    two_or_more_races=('two_or_more_races', 'sum'),\n",
    "\n",
    "    \n",
    "\n",
    "    median_household_income=('median_household_income', weighted_mean),\n",
    "    percent_population_in_poverty=('percent_population_in_poverty', weighted_mean),\n",
    "    median_earnings_past_year=('median_earnings_past_year', weighted_mean),\n",
    "    percent_high_school_graduate=('percent_high_school_graduate', weighted_mean),\t\n",
    "    percent_bachelors_degree=('percent_bachelors_degree', weighted_mean),\t\n",
    "    percent_graduate_degree=('percent_graduate_degree', weighted_mean),\n",
    "\n",
    "    pop_under_10=('pop_under_10', 'mean'),\n",
    "    pop_10_to_19=('pop_10_to_19', 'mean'),\t\n",
    "    pop_20_to_29=('pop_20_to_29', 'mean'),\n",
    "    pop_30_to_39=('pop_30_to_39', 'mean'),\n",
    "    pop_40_to_49=('pop_40_to_49', 'mean'),\n",
    "    pop_50_to_59=('pop_50_to_59', 'mean'),\n",
    "    pop_60_to_69=('pop_60_to_69', 'mean'),\n",
    "    pop_70_to_79=('pop_70_to_79', 'mean'),\n",
    "    pop_80_plus=('pop_80_plus', 'mean'),\n",
    "    ).reset_index()"
   ]
  },
  {
   "cell_type": "code",
   "execution_count": null,
   "metadata": {},
   "outputs": [],
   "source": []
  },
  {
   "cell_type": "code",
   "execution_count": 90,
   "metadata": {},
   "outputs": [
    {
     "name": "stderr",
     "output_type": "stream",
     "text": [
      "C:\\Users\\Lenovo\\anaconda3\\lib\\site-packages\\sklearn\\cluster\\_kmeans.py:881: UserWarning: KMeans is known to have a memory leak on Windows with MKL, when there are less chunks than available threads. You can avoid it by setting the environment variable OMP_NUM_THREADS=4.\n",
      "  warnings.warn(\n"
     ]
    },
    {
     "data": {
      "image/png": "[encoded data removed]",
      "text/plain": [
       "<Figure size 432x288 with 1 Axes>"
      ]
     },
     "metadata": {
      "needs_background": "light"
     },
     "output_type": "display_data"
    }
   ],
   "source": [
    "# which n for kmeans?\n",
    "\n",
    "features = list(set(ext_features_agg.columns) - set(['zip_first_three_digits']))\n",
    "inretia = []\n",
    "\n",
    "for i in range(1,11):\n",
    "    kmeans = KMeans(n_clusters=i, init='k-means++',  max_iter=300, n_init=10,\n",
    "                    random_state=0)\n",
    "    kmeans.fit(ext_features_agg[features])\n",
    "    inretia.append(kmeans.inertia_)\n",
    "plt.plot(range(1,11),inretia)\n",
    "plt.title('Clusters with the default setting')\n",
    "plt.xlabel('Number of clusters')\n",
    "plt.xlabel('Kmeans Inretia')\n",
    "plt.show()"
   ]
  },
  {
   "cell_type": "code",
   "execution_count": null,
   "metadata": {},
   "outputs": [],
   "source": []
  },
  {
   "cell_type": "code",
   "execution_count": 91,
   "metadata": {},
   "outputs": [],
   "source": [
    "n=3\n",
    "kmeans = KMeans(n_clusters=n, init='k-means++',  max_iter=300, n_init=10, random_state=0)\n",
    "ext_features_agg['kmeans_cluster'] = kmeans.fit_predict(ext_features_agg[features])"
   ]
  },
  {
   "cell_type": "code",
   "execution_count": 93,
   "metadata": {},
   "outputs": [],
   "source": [
    "EXT_FEATURES_PATH = 'D:\\Papers\\Paper 3 - Recommender Systems\\Recommender-systems\\Files\\Graph_based\\ext_features_agg.csv'\n",
    "ext_features_agg.to_csv(EXT_FEATURES_PATH, index=False)"
   ]
  },
  {
   "cell_type": "code",
   "execution_count": 92,
   "metadata": {},
   "outputs": [
    {
     "name": "stdout",
     "output_type": "stream",
     "text": [
      "Proportion of the dataset that is going to remain after merging = 0.998\n"
     ]
    }
   ],
   "source": [
    "df_ = df[df['zip_first_three_digits'].isin(ext_features_agg['zip_first_three_digits'])]\n",
    "df_.reset_index(inplace=True, drop=True)\n",
    "\n",
    "print(f\"Proportion of the dataset that is going to remain after merging = {len(df_)/len(df):.3f}\")"
   ]
  },
  {
   "cell_type": "code",
   "execution_count": null,
   "metadata": {},
   "outputs": [],
   "source": []
  },
  {
   "cell_type": "code",
   "execution_count": 95,
   "metadata": {},
   "outputs": [],
   "source": [
    "NEW_DF_PATH = 'D:\\Papers\\Paper 3 - Recommender Systems\\Recommender-systems\\Files\\Graph_based\\Oct_28_df.csv'\n",
    "df_.to_csv(NEW_DF_PATH , index=False)"
   ]
  },
  {
   "cell_type": "code",
   "execution_count": null,
   "metadata": {},
   "outputs": [],
   "source": []
  }
 ],
 "metadata": {
  "interpreter": {
   "hash": "c5e48f84046969b800ff52f6d80523bcd1ca3fb1a99f1449e4197bf6c73dc096"
  },
  "kernelspec": {
   "display_name": "Python 3.8.8 64-bit",
   "name": "python3"
  },
  "language_info": {
   "codemirror_mode": {
    "name": "ipython",
    "version": 3
   },
   "file_extension": ".py",
   "mimetype": "text/x-python",
   "name": "python",
   "nbconvert_exporter": "python",
   "pygments_lexer": "ipython3",
   "version": "3.8.8"
  },
  "orig_nbformat": 4
 },
 "nbformat": 4,
 "nbformat_minor": 2
}
