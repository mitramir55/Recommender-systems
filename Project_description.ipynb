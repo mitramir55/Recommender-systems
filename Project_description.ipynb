{
 "cells": [
  {
   "cell_type": "code",
   "execution_count": 34,
   "metadata": {},
   "outputs": [],
   "source": [
    "# Packages\n",
    "import string\n",
    "import regex as re\n",
    "import zipfile\n",
    "import gc\n",
    "from scipy.stats import boxcox\n",
    "import sys \n",
    "# other python utilities \n",
    "from collections import Counter \n",
    "from tqdm import tqdm \n",
    "import pandas as pd \n",
    "import numpy as np \n",
    "import pickle\n",
    "import string\n",
    "from termcolor import colored\n",
    "\n",
    "# for text and visual analytics\n",
    "from plotly.subplots import make_subplots\n",
    "import plotly.express as px\n",
    "import plotly.graph_objects as go\n",
    "pd.set_option('display.max_colwidth', 50)\n",
    "\n",
    "\n",
    "# for SVD\n",
    "\n",
    "pd.set_option('display.float_format','{:.5f}'.format)\n",
    "DF_PATH = \"D:\\Papers\\Paper 3 - Recommender Systems\\Recommender-systems\\Files\\Oct_Forth_projectType.csv\""
   ]
  },
  {
   "cell_type": "code",
   "execution_count": 35,
   "metadata": {},
   "outputs": [
    {
     "name": "stdout",
     "output_type": "stream",
     "text": [
      "\u001b[32mcategorizing the following columns for less memory usage...\u001b[0m\n",
      "Project Grade Level Category\n",
      "Project Resource Category\n",
      "Project Current Status\n",
      "School Metro Type\n",
      "School State\n",
      "Donor State\n"
     ]
    }
   ],
   "source": [
    "df = pd.read_csv(DF_PATH)\n",
    "\n",
    "categories_cols = []\n",
    "print(colored('categorizing the following columns for less memory usage...', 'green'))\n",
    "for col in df.columns:\n",
    "    #print(str(col))\n",
    "    cats = len(df[col].unique())\n",
    "    #print(cats)\n",
    "    if cats<=10:\n",
    "        categories_cols.append(col)\n",
    "        print(col)\n",
    "        \n",
    "df[categories_cols] = df[categories_cols].astype('category')"
   ]
  },
  {
   "cell_type": "code",
   "execution_count": 36,
   "metadata": {},
   "outputs": [
    {
     "data": {
      "text/plain": [
       "Index(['Project ID', 'Donation ID', 'Donor ID', 'Donation Amount',\n",
       "       'Donation Received Date', 'School ID', 'Project Title',\n",
       "       'Project Need Statement', 'Project Subject Category Tree',\n",
       "       'Project Subject Subcategory Tree', 'Project Grade Level Category',\n",
       "       'Project Resource Category', 'Project Cost', 'Project Posted Date',\n",
       "       'Project Expiration Date', 'Project Current Status',\n",
       "       'Project Fully Funded Date', 'School Metro Type', 'School State',\n",
       "       'School Zip', 'Donor State', 'Donor Zip'],\n",
       "      dtype='object')"
      ]
     },
     "execution_count": 36,
     "metadata": {},
     "output_type": "execute_result"
    }
   ],
   "source": [
    "df.columns"
   ]
  },
  {
   "cell_type": "markdown",
   "metadata": {},
   "source": [
    "### Cleaning"
   ]
  },
  {
   "cell_type": "code",
   "execution_count": 37,
   "metadata": {},
   "outputs": [
    {
     "name": "stderr",
     "output_type": "stream",
     "text": [
      "100%|██████████| 860/860 [00:00<00:00, 15398.31it/s]"
     ]
    },
    {
     "name": "stdout",
     "output_type": "stream",
     "text": [
      "len(projects_id) =  860\n",
      "len(project_txt) =  860\n"
     ]
    },
    {
     "name": "stderr",
     "output_type": "stream",
     "text": [
      "\n"
     ]
    }
   ],
   "source": [
    "\n",
    "columns_to_keep = [\n",
    "    'Project ID', 'Project Subject Subcategory Tree', \n",
    "    'Project Title', 'Project Need Statement', 'School State', 'School Metro Type',\n",
    "    'School Zip', 'Project Grade Level Category'\n",
    "    ] \n",
    "\n",
    "# create a df for projects specifications\n",
    "projects_df = df[columns_to_keep].drop_duplicates(['Project ID']).reset_index(drop=True)\n",
    "projects_id = projects_df['Project ID'].tolist()\n",
    "print(\"len(projects_id) = \", len(projects_id))\n",
    "\n",
    "\n",
    "# clean the text\n",
    "patterns = ['Â', '']\n",
    "punct = re.sub(r'[\\&\\.\\,]', '', string.punctuation)\n",
    "\n",
    "def clean(text):\n",
    "    for pattern in patterns:\n",
    "        text = re.sub(pattern, ' ', text)\n",
    "    text = text.translate(str.maketrans('', '', punct))\n",
    "    text = text.lower()\n",
    "    text = re.sub(r' +(?![iaIA])[\\w] +', ' ', text)\n",
    "    text = re.sub(r' \\s+', ' ', text)\n",
    "    \n",
    "    return text\n",
    "\n",
    "# add them up\n",
    "project_txt = []\n",
    "\n",
    "for i in tqdm(range(len(projects_df)), position=0, leave=True):\n",
    "    project_txt.append(\n",
    "        clean(projects_df.loc[i, 'Project Title'] + ' & ' + projects_df.loc[i, 'Project Need Statement'] + ' & ' + projects_df.loc[i, 'Project Subject Subcategory Tree'] + ' & ' + projects_df.loc[i, 'School State'])\n",
    "        )\n",
    "\n",
    "projects_df.loc[:, 'title_needstatement_subjsubcattree_schstate'] = project_txt\n",
    "print(\"len(project_txt) = \", len(project_txt))\n"
   ]
  },
  {
   "cell_type": "code",
   "execution_count": 38,
   "metadata": {},
   "outputs": [],
   "source": [
    "for i in range(len(projects_df)):\n",
    "    projects_df.loc[i,'title_needstatement_subjsubcattree_len'] = len(projects_df.loc[i,'Project Title'] + projects_df.loc[i,'Project Need Statement'] + projects_df.loc[i, 'Project Subject Subcategory Tree'])\n",
    "projects_df.loc[:, 'title_needstatement_subjsubcattree_schstate_len'] = projects_df.loc[:, 'title_needstatement_subjsubcattree_schstate'].apply(lambda x: len(x))\n"
   ]
  },
  {
   "cell_type": "code",
   "execution_count": 39,
   "metadata": {},
   "outputs": [
    {
     "data": {
      "application/vnd.plotly.v1+json": {
       "config": {
        "plotlyServerURL": "https://plot.ly"
       },
       "data": [
        {
         "alignmentgroup": "True",
         "bingroup": "x",
         "hovertemplate": "variable=title_needstatement_subjsubcattree_schstate_len<br>value=%{x}<br>count=%{y}<extra></extra>",
         "legendgroup": "title_needstatement_subjsubcattree_schstate_len",
         "marker": {
          "color": "#636efa",
          "opacity": 0.8,
          "pattern": {
           "shape": ""
          }
         },
         "name": "title_needstatement_subjsubcattree_schstate_len",
         "offsetgroup": "title_needstatement_subjsubcattree_schstate_len",
         "orientation": "v",
         "showlegend": true,
         "type": "histogram",
         "x": [
          274,
          272,
          197,
          188,
          100,
          195,
          109,
          278,
          172,
          228,
          125,
          185,
          115,
          237,
          129,
          254,
          193,
          211,
          127,
          214,
          209,
          101,
          245,
          124,
          94,
          152,
          257,
          145,
          117,
          255,
          190,
          171,
          109,
          146,
          145,
          215,
          132,
          152,
          228,
          190,
          262,
          126,
          163,
          203,
          163,
          127,
          227,
          143,
          178,
          142,
          192,
          269,
          184,
          166,
          168,
          167,
          127,
          146,
          193,
          158,
          167,
          214,
          182,
          221,
          215,
          164,
          231,
          231,
          176,
          251,
          164,
          145,
          76,
          278,
          234,
          256,
          207,
          215,
          211,
          158,
          137,
          161,
          135,
          141,
          181,
          177,
          224,
          153,
          214,
          255,
          165,
          90,
          163,
          167,
          248,
          212,
          159,
          245,
          119,
          162,
          145,
          179,
          132,
          240,
          153,
          194,
          189,
          80,
          232,
          230,
          214,
          171,
          169,
          267,
          140,
          101,
          188,
          139,
          132,
          202,
          171,
          172,
          164,
          175,
          243,
          239,
          152,
          188,
          261,
          152,
          86,
          88,
          245,
          135,
          220,
          319,
          176,
          214,
          183,
          158,
          168,
          280,
          132,
          162,
          127,
          214,
          185,
          95,
          164,
          257,
          224,
          160,
          164,
          141,
          181,
          188,
          256,
          181,
          219,
          216,
          156,
          237,
          153,
          146,
          125,
          160,
          132,
          195,
          258,
          353,
          117,
          196,
          97,
          122,
          127,
          149,
          197,
          189,
          158,
          171,
          186,
          240,
          193,
          145,
          181,
          149,
          241,
          213,
          226,
          158,
          275,
          258,
          192,
          139,
          189,
          145,
          139,
          238,
          162,
          139,
          144,
          110,
          161,
          137,
          218,
          182,
          195,
          98,
          205,
          119,
          134,
          246,
          193,
          231,
          237,
          225,
          112,
          147,
          114,
          113,
          93,
          242,
          265,
          274,
          115,
          112,
          210,
          153,
          159,
          169,
          231,
          142,
          245,
          207,
          236,
          171,
          167,
          244,
          192,
          249,
          202,
          169,
          90,
          208,
          194,
          255,
          173,
          94,
          199,
          169,
          192,
          124,
          197,
          165,
          191,
          151,
          166,
          143,
          143,
          148,
          291,
          135,
          157,
          178,
          128,
          167,
          177,
          246,
          181,
          159,
          235,
          167,
          184,
          267,
          108,
          145,
          211,
          138,
          176,
          230,
          224,
          148,
          150,
          217,
          156,
          285,
          154,
          135,
          268,
          243,
          196,
          121,
          283,
          153,
          177,
          245,
          286,
          135,
          328,
          286,
          338,
          188,
          255,
          202,
          162,
          215,
          246,
          138,
          171,
          176,
          258,
          125,
          184,
          178,
          211,
          121,
          277,
          163,
          253,
          169,
          139,
          152,
          117,
          151,
          182,
          217,
          181,
          187,
          187,
          200,
          146,
          158,
          176,
          150,
          151,
          220,
          121,
          152,
          226,
          204,
          250,
          190,
          230,
          226,
          141,
          190,
          127,
          169,
          165,
          194,
          223,
          222,
          166,
          228,
          232,
          160,
          152,
          211,
          148,
          117,
          185,
          324,
          144,
          212,
          138,
          255,
          170,
          276,
          226,
          183,
          167,
          172,
          280,
          218,
          134,
          166,
          119,
          251,
          241,
          158,
          249,
          210,
          110,
          220,
          248,
          200,
          163,
          148,
          245,
          242,
          149,
          150,
          125,
          131,
          218,
          210,
          254,
          249,
          274,
          219,
          149,
          146,
          123,
          152,
          141,
          177,
          176,
          142,
          236,
          176,
          230,
          173,
          173,
          119,
          157,
          221,
          242,
          154,
          134,
          214,
          264,
          199,
          182,
          205,
          122,
          270,
          141,
          186,
          226,
          239,
          169,
          233,
          177,
          216,
          236,
          219,
          245,
          84,
          231,
          141,
          218,
          242,
          114,
          110,
          196,
          218,
          132,
          137,
          186,
          215,
          236,
          242,
          221,
          215,
          116,
          262,
          112,
          160,
          166,
          252,
          208,
          226,
          139,
          267,
          127,
          170,
          179,
          219,
          238,
          274,
          190,
          233,
          214,
          252,
          140,
          254,
          238,
          188,
          152,
          169,
          293,
          158,
          153,
          142,
          159,
          96,
          72,
          257,
          121,
          226,
          122,
          161,
          218,
          252,
          171,
          217,
          154,
          203,
          255,
          154,
          248,
          183,
          157,
          251,
          158,
          140,
          185,
          136,
          247,
          195,
          248,
          142,
          235,
          251,
          154,
          155,
          208,
          174,
          163,
          222,
          127,
          260,
          224,
          161,
          267,
          150,
          154,
          101,
          210,
          178,
          247,
          156,
          254,
          215,
          173,
          241,
          124,
          142,
          113,
          219,
          180,
          292,
          162,
          136,
          132,
          287,
          172,
          240,
          180,
          255,
          172,
          121,
          130,
          246,
          153,
          156,
          205,
          221,
          141,
          218,
          181,
          98,
          210,
          178,
          129,
          151,
          207,
          248,
          219,
          217,
          143,
          181,
          209,
          176,
          254,
          139,
          125,
          177,
          191,
          202,
          119,
          270,
          197,
          181,
          169,
          234,
          180,
          159,
          116,
          234,
          170,
          218,
          87,
          155,
          227,
          175,
          213,
          202,
          177,
          144,
          147,
          241,
          167,
          160,
          147,
          157,
          192,
          231,
          241,
          235,
          216,
          249,
          167,
          170,
          141,
          131,
          187,
          194,
          190,
          186,
          181,
          187,
          297,
          221,
          194,
          182,
          165,
          238,
          212,
          193,
          303,
          210,
          222,
          218,
          115,
          274,
          71,
          196,
          214,
          159,
          190,
          156,
          206,
          165,
          126,
          250,
          189,
          122,
          182,
          205,
          145,
          147,
          220,
          268,
          194,
          135,
          149,
          128,
          300,
          169,
          149,
          179,
          179,
          165,
          228,
          139,
          143,
          267,
          173,
          173,
          123,
          235,
          122,
          196,
          225,
          216,
          149,
          171,
          234,
          168,
          133,
          186,
          235,
          166,
          240,
          187,
          212,
          150,
          139,
          217,
          256,
          182,
          178,
          291,
          142,
          195,
          182,
          141,
          149,
          107,
          134,
          194,
          189,
          185,
          147,
          207,
          103,
          308,
          106,
          202,
          167,
          210,
          220,
          149,
          92,
          167,
          237,
          140,
          142,
          170,
          101,
          195,
          175,
          220,
          159,
          88,
          212,
          259,
          180,
          145,
          210,
          276,
          187,
          151,
          155,
          123,
          184,
          247,
          178,
          208,
          278,
          107,
          140,
          200,
          152,
          186,
          194,
          152,
          184,
          231,
          149,
          126,
          154,
          236,
          95,
          200,
          253,
          219,
          227,
          141,
          204,
          112,
          145,
          254,
          153,
          142,
          219,
          152,
          226,
          150,
          196,
          243,
          181,
          216,
          163,
          216,
          233,
          148,
          198,
          272,
          178,
          143,
          222,
          294,
          150,
          145,
          149,
          132,
          180,
          192,
          186,
          212,
          187,
          182,
          221,
          192,
          178,
          216,
          251,
          198,
          234,
          163,
          239,
          118,
          244,
          101,
          185,
          213,
          166,
          182,
          212,
          147,
          271,
          180,
          242,
          137,
          193,
          187,
          214,
          126,
          160,
          143,
          140,
          195,
          256,
          128,
          122,
          193,
          252,
          180,
          174,
          226,
          184,
          178,
          286,
          153,
          139,
          172,
          214,
          219,
          259,
          138,
          226,
          175,
          174,
          140,
          163,
          191,
          215,
          196,
          183,
          127,
          183,
          298,
          176,
          209,
          206,
          194,
          213,
          310
         ],
         "xaxis": "x",
         "yaxis": "y"
        }
       ],
       "layout": {
        "barmode": "relative",
        "legend": {
         "title": {
          "text": "variable"
         },
         "tracegroupgap": 0
        },
        "template": {
         "data": {
          "bar": [
           {
            "error_x": {
             "color": "#2a3f5f"
            },
            "error_y": {
             "color": "#2a3f5f"
            },
            "marker": {
             "line": {
              "color": "#E5ECF6",
              "width": 0.5
             },
             "pattern": {
              "fillmode": "overlay",
              "size": 10,
              "solidity": 0.2
             }
            },
            "type": "bar"
           }
          ],
          "barpolar": [
           {
            "marker": {
             "line": {
              "color": "#E5ECF6",
              "width": 0.5
             },
             "pattern": {
              "fillmode": "overlay",
              "size": 10,
              "solidity": 0.2
             }
            },
            "type": "barpolar"
           }
          ],
          "carpet": [
           {
            "aaxis": {
             "endlinecolor": "#2a3f5f",
             "gridcolor": "white",
             "linecolor": "white",
             "minorgridcolor": "white",
             "startlinecolor": "#2a3f5f"
            },
            "baxis": {
             "endlinecolor": "#2a3f5f",
             "gridcolor": "white",
             "linecolor": "white",
             "minorgridcolor": "white",
             "startlinecolor": "#2a3f5f"
            },
            "type": "carpet"
           }
          ],
          "choropleth": [
           {
            "colorbar": {
             "outlinewidth": 0,
             "ticks": ""
            },
            "type": "choropleth"
           }
          ],
          "contour": [
           {
            "colorbar": {
             "outlinewidth": 0,
             "ticks": ""
            },
            "colorscale": [
             [
              0,
              "#0d0887"
             ],
             [
              0.1111111111111111,
              "#46039f"
             ],
             [
              0.2222222222222222,
              "#7201a8"
             ],
             [
              0.3333333333333333,
              "#9c179e"
             ],
             [
              0.4444444444444444,
              "#bd3786"
             ],
             [
              0.5555555555555556,
              "#d8576b"
             ],
             [
              0.6666666666666666,
              "#ed7953"
             ],
             [
              0.7777777777777778,
              "#fb9f3a"
             ],
             [
              0.8888888888888888,
              "#fdca26"
             ],
             [
              1,
              "#f0f921"
             ]
            ],
            "type": "contour"
           }
          ],
          "contourcarpet": [
           {
            "colorbar": {
             "outlinewidth": 0,
             "ticks": ""
            },
            "type": "contourcarpet"
           }
          ],
          "heatmap": [
           {
            "colorbar": {
             "outlinewidth": 0,
             "ticks": ""
            },
            "colorscale": [
             [
              0,
              "#0d0887"
             ],
             [
              0.1111111111111111,
              "#46039f"
             ],
             [
              0.2222222222222222,
              "#7201a8"
             ],
             [
              0.3333333333333333,
              "#9c179e"
             ],
             [
              0.4444444444444444,
              "#bd3786"
             ],
             [
              0.5555555555555556,
              "#d8576b"
             ],
             [
              0.6666666666666666,
              "#ed7953"
             ],
             [
              0.7777777777777778,
              "#fb9f3a"
             ],
             [
              0.8888888888888888,
              "#fdca26"
             ],
             [
              1,
              "#f0f921"
             ]
            ],
            "type": "heatmap"
           }
          ],
          "heatmapgl": [
           {
            "colorbar": {
             "outlinewidth": 0,
             "ticks": ""
            },
            "colorscale": [
             [
              0,
              "#0d0887"
             ],
             [
              0.1111111111111111,
              "#46039f"
             ],
             [
              0.2222222222222222,
              "#7201a8"
             ],
             [
              0.3333333333333333,
              "#9c179e"
             ],
             [
              0.4444444444444444,
              "#bd3786"
             ],
             [
              0.5555555555555556,
              "#d8576b"
             ],
             [
              0.6666666666666666,
              "#ed7953"
             ],
             [
              0.7777777777777778,
              "#fb9f3a"
             ],
             [
              0.8888888888888888,
              "#fdca26"
             ],
             [
              1,
              "#f0f921"
             ]
            ],
            "type": "heatmapgl"
           }
          ],
          "histogram": [
           {
            "marker": {
             "pattern": {
              "fillmode": "overlay",
              "size": 10,
              "solidity": 0.2
             }
            },
            "type": "histogram"
           }
          ],
          "histogram2d": [
           {
            "colorbar": {
             "outlinewidth": 0,
             "ticks": ""
            },
            "colorscale": [
             [
              0,
              "#0d0887"
             ],
             [
              0.1111111111111111,
              "#46039f"
             ],
             [
              0.2222222222222222,
              "#7201a8"
             ],
             [
              0.3333333333333333,
              "#9c179e"
             ],
             [
              0.4444444444444444,
              "#bd3786"
             ],
             [
              0.5555555555555556,
              "#d8576b"
             ],
             [
              0.6666666666666666,
              "#ed7953"
             ],
             [
              0.7777777777777778,
              "#fb9f3a"
             ],
             [
              0.8888888888888888,
              "#fdca26"
             ],
             [
              1,
              "#f0f921"
             ]
            ],
            "type": "histogram2d"
           }
          ],
          "histogram2dcontour": [
           {
            "colorbar": {
             "outlinewidth": 0,
             "ticks": ""
            },
            "colorscale": [
             [
              0,
              "#0d0887"
             ],
             [
              0.1111111111111111,
              "#46039f"
             ],
             [
              0.2222222222222222,
              "#7201a8"
             ],
             [
              0.3333333333333333,
              "#9c179e"
             ],
             [
              0.4444444444444444,
              "#bd3786"
             ],
             [
              0.5555555555555556,
              "#d8576b"
             ],
             [
              0.6666666666666666,
              "#ed7953"
             ],
             [
              0.7777777777777778,
              "#fb9f3a"
             ],
             [
              0.8888888888888888,
              "#fdca26"
             ],
             [
              1,
              "#f0f921"
             ]
            ],
            "type": "histogram2dcontour"
           }
          ],
          "mesh3d": [
           {
            "colorbar": {
             "outlinewidth": 0,
             "ticks": ""
            },
            "type": "mesh3d"
           }
          ],
          "parcoords": [
           {
            "line": {
             "colorbar": {
              "outlinewidth": 0,
              "ticks": ""
             }
            },
            "type": "parcoords"
           }
          ],
          "pie": [
           {
            "automargin": true,
            "type": "pie"
           }
          ],
          "scatter": [
           {
            "marker": {
             "colorbar": {
              "outlinewidth": 0,
              "ticks": ""
             }
            },
            "type": "scatter"
           }
          ],
          "scatter3d": [
           {
            "line": {
             "colorbar": {
              "outlinewidth": 0,
              "ticks": ""
             }
            },
            "marker": {
             "colorbar": {
              "outlinewidth": 0,
              "ticks": ""
             }
            },
            "type": "scatter3d"
           }
          ],
          "scattercarpet": [
           {
            "marker": {
             "colorbar": {
              "outlinewidth": 0,
              "ticks": ""
             }
            },
            "type": "scattercarpet"
           }
          ],
          "scattergeo": [
           {
            "marker": {
             "colorbar": {
              "outlinewidth": 0,
              "ticks": ""
             }
            },
            "type": "scattergeo"
           }
          ],
          "scattergl": [
           {
            "marker": {
             "colorbar": {
              "outlinewidth": 0,
              "ticks": ""
             }
            },
            "type": "scattergl"
           }
          ],
          "scattermapbox": [
           {
            "marker": {
             "colorbar": {
              "outlinewidth": 0,
              "ticks": ""
             }
            },
            "type": "scattermapbox"
           }
          ],
          "scatterpolar": [
           {
            "marker": {
             "colorbar": {
              "outlinewidth": 0,
              "ticks": ""
             }
            },
            "type": "scatterpolar"
           }
          ],
          "scatterpolargl": [
           {
            "marker": {
             "colorbar": {
              "outlinewidth": 0,
              "ticks": ""
             }
            },
            "type": "scatterpolargl"
           }
          ],
          "scatterternary": [
           {
            "marker": {
             "colorbar": {
              "outlinewidth": 0,
              "ticks": ""
             }
            },
            "type": "scatterternary"
           }
          ],
          "surface": [
           {
            "colorbar": {
             "outlinewidth": 0,
             "ticks": ""
            },
            "colorscale": [
             [
              0,
              "#0d0887"
             ],
             [
              0.1111111111111111,
              "#46039f"
             ],
             [
              0.2222222222222222,
              "#7201a8"
             ],
             [
              0.3333333333333333,
              "#9c179e"
             ],
             [
              0.4444444444444444,
              "#bd3786"
             ],
             [
              0.5555555555555556,
              "#d8576b"
             ],
             [
              0.6666666666666666,
              "#ed7953"
             ],
             [
              0.7777777777777778,
              "#fb9f3a"
             ],
             [
              0.8888888888888888,
              "#fdca26"
             ],
             [
              1,
              "#f0f921"
             ]
            ],
            "type": "surface"
           }
          ],
          "table": [
           {
            "cells": {
             "fill": {
              "color": "#EBF0F8"
             },
             "line": {
              "color": "white"
             }
            },
            "header": {
             "fill": {
              "color": "#C8D4E3"
             },
             "line": {
              "color": "white"
             }
            },
            "type": "table"
           }
          ]
         },
         "layout": {
          "annotationdefaults": {
           "arrowcolor": "#2a3f5f",
           "arrowhead": 0,
           "arrowwidth": 1
          },
          "autotypenumbers": "strict",
          "coloraxis": {
           "colorbar": {
            "outlinewidth": 0,
            "ticks": ""
           }
          },
          "colorscale": {
           "diverging": [
            [
             0,
             "#8e0152"
            ],
            [
             0.1,
             "#c51b7d"
            ],
            [
             0.2,
             "#de77ae"
            ],
            [
             0.3,
             "#f1b6da"
            ],
            [
             0.4,
             "#fde0ef"
            ],
            [
             0.5,
             "#f7f7f7"
            ],
            [
             0.6,
             "#e6f5d0"
            ],
            [
             0.7,
             "#b8e186"
            ],
            [
             0.8,
             "#7fbc41"
            ],
            [
             0.9,
             "#4d9221"
            ],
            [
             1,
             "#276419"
            ]
           ],
           "sequential": [
            [
             0,
             "#0d0887"
            ],
            [
             0.1111111111111111,
             "#46039f"
            ],
            [
             0.2222222222222222,
             "#7201a8"
            ],
            [
             0.3333333333333333,
             "#9c179e"
            ],
            [
             0.4444444444444444,
             "#bd3786"
            ],
            [
             0.5555555555555556,
             "#d8576b"
            ],
            [
             0.6666666666666666,
             "#ed7953"
            ],
            [
             0.7777777777777778,
             "#fb9f3a"
            ],
            [
             0.8888888888888888,
             "#fdca26"
            ],
            [
             1,
             "#f0f921"
            ]
           ],
           "sequentialminus": [
            [
             0,
             "#0d0887"
            ],
            [
             0.1111111111111111,
             "#46039f"
            ],
            [
             0.2222222222222222,
             "#7201a8"
            ],
            [
             0.3333333333333333,
             "#9c179e"
            ],
            [
             0.4444444444444444,
             "#bd3786"
            ],
            [
             0.5555555555555556,
             "#d8576b"
            ],
            [
             0.6666666666666666,
             "#ed7953"
            ],
            [
             0.7777777777777778,
             "#fb9f3a"
            ],
            [
             0.8888888888888888,
             "#fdca26"
            ],
            [
             1,
             "#f0f921"
            ]
           ]
          },
          "colorway": [
           "#636efa",
           "#EF553B",
           "#00cc96",
           "#ab63fa",
           "#FFA15A",
           "#19d3f3",
           "#FF6692",
           "#B6E880",
           "#FF97FF",
           "#FECB52"
          ],
          "font": {
           "color": "#2a3f5f"
          },
          "geo": {
           "bgcolor": "white",
           "lakecolor": "white",
           "landcolor": "#E5ECF6",
           "showlakes": true,
           "showland": true,
           "subunitcolor": "white"
          },
          "hoverlabel": {
           "align": "left"
          },
          "hovermode": "closest",
          "mapbox": {
           "style": "light"
          },
          "paper_bgcolor": "white",
          "plot_bgcolor": "#E5ECF6",
          "polar": {
           "angularaxis": {
            "gridcolor": "white",
            "linecolor": "white",
            "ticks": ""
           },
           "bgcolor": "#E5ECF6",
           "radialaxis": {
            "gridcolor": "white",
            "linecolor": "white",
            "ticks": ""
           }
          },
          "scene": {
           "xaxis": {
            "backgroundcolor": "#E5ECF6",
            "gridcolor": "white",
            "gridwidth": 2,
            "linecolor": "white",
            "showbackground": true,
            "ticks": "",
            "zerolinecolor": "white"
           },
           "yaxis": {
            "backgroundcolor": "#E5ECF6",
            "gridcolor": "white",
            "gridwidth": 2,
            "linecolor": "white",
            "showbackground": true,
            "ticks": "",
            "zerolinecolor": "white"
           },
           "zaxis": {
            "backgroundcolor": "#E5ECF6",
            "gridcolor": "white",
            "gridwidth": 2,
            "linecolor": "white",
            "showbackground": true,
            "ticks": "",
            "zerolinecolor": "white"
           }
          },
          "shapedefaults": {
           "line": {
            "color": "#2a3f5f"
           }
          },
          "ternary": {
           "aaxis": {
            "gridcolor": "white",
            "linecolor": "white",
            "ticks": ""
           },
           "baxis": {
            "gridcolor": "white",
            "linecolor": "white",
            "ticks": ""
           },
           "bgcolor": "#E5ECF6",
           "caxis": {
            "gridcolor": "white",
            "linecolor": "white",
            "ticks": ""
           }
          },
          "title": {
           "x": 0.05
          },
          "xaxis": {
           "automargin": true,
           "gridcolor": "white",
           "linecolor": "white",
           "ticks": "",
           "title": {
            "standoff": 15
           },
           "zerolinecolor": "white",
           "zerolinewidth": 2
          },
          "yaxis": {
           "automargin": true,
           "gridcolor": "white",
           "linecolor": "white",
           "ticks": "",
           "title": {
            "standoff": 15
           },
           "zerolinecolor": "white",
           "zerolinewidth": 2
          }
         }
        },
        "title": {
         "text": "Number of Letters in Project Descriptions"
        },
        "xaxis": {
         "anchor": "y",
         "domain": [
          0,
          1
         ],
         "title": {
          "text": "value"
         }
        },
        "yaxis": {
         "anchor": "x",
         "domain": [
          0,
          1
         ],
         "title": {
          "text": "count"
         }
        }
       }
      }
     },
     "metadata": {},
     "output_type": "display_data"
    }
   ],
   "source": [
    "fig = px.histogram(\n",
    "    projects_df['title_needstatement_subjsubcattree_schstate_len'],\n",
    "    title=\"Number of Letters in Project Descriptions\",\n",
    "    labels = dict(x=\"Number of Letters\", y=\"Count\"),\n",
    "    opacity=0.8\n",
    "    )\n",
    "fig.show()"
   ]
  },
  {
   "cell_type": "code",
   "execution_count": 40,
   "metadata": {},
   "outputs": [
    {
     "data": {
      "application/vnd.plotly.v1+json": {
       "config": {
        "plotlyServerURL": "https://plot.ly"
       },
       "data": [
        {
         "alignmentgroup": "True",
         "bingroup": "x",
         "hovertemplate": "variable=title_needstatement_subjsubcattree_len<br>value=%{x}<br>count=%{y}<extra></extra>",
         "legendgroup": "title_needstatement_subjsubcattree_len",
         "marker": {
          "color": "#636efa",
          "opacity": 0.8,
          "pattern": {
           "shape": ""
          }
         },
         "name": "title_needstatement_subjsubcattree_len",
         "offsetgroup": "title_needstatement_subjsubcattree_len",
         "orientation": "v",
         "showlegend": true,
         "type": "histogram",
         "x": [
          258,
          253,
          184,
          171,
          82,
          181,
          93,
          266,
          156,
          212,
          109,
          174,
          101,
          218,
          115,
          235,
          178,
          202,
          112,
          198,
          191,
          86,
          233,
          109,
          77,
          130,
          245,
          130,
          105,
          240,
          172,
          150,
          93,
          127,
          131,
          198,
          120,
          135,
          216,
          168,
          249,
          112,
          142,
          188,
          144,
          116,
          220,
          126,
          162,
          128,
          174,
          251,
          165,
          152,
          154,
          155,
          109,
          130,
          175,
          144,
          153,
          197,
          169,
          204,
          208,
          145,
          218,
          217,
          165,
          236,
          148,
          129,
          62,
          263,
          221,
          250,
          186,
          198,
          194,
          142,
          119,
          143,
          116,
          119,
          167,
          160,
          215,
          146,
          203,
          233,
          142,
          77,
          145,
          147,
          231,
          189,
          152,
          226,
          108,
          147,
          132,
          165,
          119,
          224,
          137,
          173,
          166,
          65,
          213,
          221,
          197,
          152,
          149,
          249,
          126,
          86,
          184,
          121,
          110,
          189,
          150,
          153,
          148,
          160,
          224,
          223,
          138,
          170,
          243,
          135,
          72,
          76,
          229,
          120,
          205,
          307,
          162,
          199,
          168,
          145,
          155,
          264,
          118,
          147,
          113,
          204,
          167,
          81,
          146,
          246,
          205,
          147,
          146,
          129,
          164,
          172,
          244,
          168,
          201,
          202,
          140,
          221,
          139,
          131,
          110,
          145,
          118,
          181,
          243,
          341,
          102,
          179,
          83,
          105,
          111,
          133,
          178,
          180,
          139,
          156,
          172,
          225,
          181,
          131,
          163,
          136,
          224,
          198,
          211,
          141,
          258,
          238,
          176,
          123,
          174,
          131,
          121,
          226,
          140,
          123,
          122,
          92,
          143,
          122,
          203,
          168,
          182,
          82,
          188,
          102,
          118,
          230,
          175,
          212,
          219,
          208,
          95,
          132,
          98,
          100,
          80,
          221,
          248,
          259,
          99,
          96,
          192,
          138,
          142,
          151,
          216,
          123,
          229,
          189,
          222,
          158,
          149,
          229,
          179,
          233,
          181,
          155,
          75,
          192,
          178,
          241,
          158,
          77,
          184,
          152,
          171,
          108,
          179,
          155,
          179,
          138,
          150,
          128,
          122,
          126,
          279,
          119,
          138,
          159,
          113,
          150,
          163,
          231,
          163,
          144,
          225,
          152,
          169,
          253,
          95,
          135,
          198,
          123,
          161,
          213,
          208,
          133,
          140,
          204,
          141,
          272,
          135,
          119,
          253,
          227,
          182,
          108,
          278,
          137,
          160,
          231,
          277,
          119,
          312,
          272,
          323,
          173,
          241,
          184,
          146,
          200,
          230,
          121,
          156,
          156,
          244,
          110,
          170,
          160,
          195,
          107,
          262,
          146,
          240,
          152,
          126,
          142,
          104,
          136,
          165,
          201,
          166,
          169,
          166,
          186,
          136,
          144,
          160,
          134,
          135,
          202,
          107,
          138,
          210,
          189,
          238,
          174,
          214,
          211,
          125,
          173,
          110,
          154,
          153,
          179,
          208,
          207,
          152,
          214,
          218,
          143,
          135,
          195,
          135,
          104,
          171,
          311,
          133,
          198,
          127,
          232,
          149,
          261,
          207,
          164,
          149,
          156,
          264,
          205,
          118,
          147,
          99,
          237,
          229,
          149,
          233,
          196,
          94,
          200,
          231,
          181,
          142,
          129,
          229,
          227,
          132,
          132,
          111,
          117,
          202,
          192,
          243,
          235,
          258,
          203,
          134,
          128,
          114,
          136,
          121,
          163,
          162,
          124,
          222,
          153,
          213,
          159,
          158,
          106,
          142,
          208,
          225,
          131,
          113,
          196,
          248,
          189,
          166,
          193,
          107,
          253,
          129,
          172,
          212,
          221,
          153,
          215,
          158,
          206,
          217,
          204,
          230,
          69,
          218,
          125,
          203,
          227,
          98,
          98,
          182,
          203,
          111,
          124,
          168,
          199,
          220,
          233,
          205,
          197,
          100,
          253,
          100,
          147,
          150,
          243,
          197,
          209,
          124,
          275,
          116,
          155,
          163,
          206,
          222,
          257,
          175,
          217,
          193,
          238,
          127,
          245,
          226,
          174,
          141,
          156,
          277,
          147,
          141,
          127,
          145,
          77,
          54,
          244,
          105,
          213,
          108,
          142,
          204,
          238,
          153,
          202,
          135,
          189,
          236,
          138,
          229,
          166,
          141,
          235,
          144,
          130,
          176,
          122,
          232,
          180,
          232,
          128,
          216,
          241,
          134,
          136,
          197,
          153,
          152,
          207,
          112,
          247,
          208,
          144,
          254,
          131,
          138,
          78,
          195,
          160,
          228,
          144,
          237,
          196,
          153,
          226,
          101,
          119,
          98,
          205,
          165,
          277,
          147,
          121,
          109,
          273,
          157,
          229,
          167,
          246,
          153,
          108,
          113,
          234,
          140,
          140,
          183,
          208,
          120,
          202,
          160,
          81,
          193,
          162,
          113,
          136,
          196,
          234,
          203,
          201,
          132,
          165,
          191,
          160,
          234,
          120,
          112,
          164,
          177,
          180,
          105,
          258,
          181,
          165,
          157,
          214,
          166,
          143,
          97,
          218,
          155,
          203,
          73,
          140,
          214,
          159,
          199,
          188,
          161,
          132,
          133,
          227,
          146,
          149,
          131,
          141,
          176,
          220,
          229,
          223,
          201,
          234,
          152,
          156,
          126,
          116,
          177,
          179,
          174,
          172,
          162,
          171,
          279,
          205,
          180,
          165,
          148,
          222,
          195,
          180,
          283,
          198,
          207,
          203,
          100,
          252,
          56,
          179,
          197,
          142,
          178,
          137,
          191,
          150,
          109,
          240,
          174,
          108,
          164,
          185,
          132,
          131,
          207,
          268,
          175,
          114,
          135,
          115,
          282,
          156,
          133,
          163,
          164,
          149,
          212,
          123,
          129,
          254,
          159,
          160,
          105,
          217,
          109,
          179,
          206,
          200,
          134,
          156,
          232,
          154,
          118,
          171,
          222,
          151,
          224,
          170,
          200,
          137,
          124,
          198,
          243,
          166,
          160,
          300,
          130,
          178,
          168,
          126,
          139,
          91,
          121,
          183,
          172,
          173,
          130,
          188,
          91,
          294,
          91,
          189,
          153,
          196,
          202,
          126,
          78,
          144,
          222,
          124,
          123,
          155,
          86,
          179,
          160,
          201,
          147,
          75,
          198,
          247,
          165,
          131,
          195,
          262,
          166,
          135,
          138,
          108,
          168,
          237,
          162,
          192,
          262,
          93,
          126,
          185,
          133,
          173,
          176,
          140,
          173,
          221,
          130,
          107,
          141,
          224,
          77,
          181,
          241,
          204,
          212,
          125,
          193,
          94,
          122,
          241,
          141,
          126,
          203,
          134,
          208,
          134,
          180,
          226,
          162,
          209,
          157,
          201,
          213,
          130,
          180,
          255,
          161,
          124,
          205,
          276,
          131,
          128,
          135,
          116,
          161,
          178,
          168,
          194,
          174,
          164,
          203,
          173,
          159,
          199,
          236,
          181,
          221,
          154,
          222,
          100,
          226,
          89,
          166,
          194,
          147,
          167,
          193,
          128,
          261,
          162,
          223,
          121,
          174,
          176,
          197,
          108,
          141,
          126,
          122,
          176,
          238,
          109,
          105,
          174,
          235,
          163,
          156,
          211,
          165,
          164,
          285,
          142,
          125,
          158,
          198,
          203,
          247,
          120,
          208,
          163,
          158,
          123,
          147,
          172,
          207,
          178,
          170,
          108,
          171,
          287,
          159,
          195,
          194,
          175,
          195,
          295
         ],
         "xaxis": "x",
         "yaxis": "y"
        }
       ],
       "layout": {
        "barmode": "relative",
        "legend": {
         "title": {
          "text": "variable"
         },
         "tracegroupgap": 0
        },
        "template": {
         "data": {
          "bar": [
           {
            "error_x": {
             "color": "#2a3f5f"
            },
            "error_y": {
             "color": "#2a3f5f"
            },
            "marker": {
             "line": {
              "color": "#E5ECF6",
              "width": 0.5
             },
             "pattern": {
              "fillmode": "overlay",
              "size": 10,
              "solidity": 0.2
             }
            },
            "type": "bar"
           }
          ],
          "barpolar": [
           {
            "marker": {
             "line": {
              "color": "#E5ECF6",
              "width": 0.5
             },
             "pattern": {
              "fillmode": "overlay",
              "size": 10,
              "solidity": 0.2
             }
            },
            "type": "barpolar"
           }
          ],
          "carpet": [
           {
            "aaxis": {
             "endlinecolor": "#2a3f5f",
             "gridcolor": "white",
             "linecolor": "white",
             "minorgridcolor": "white",
             "startlinecolor": "#2a3f5f"
            },
            "baxis": {
             "endlinecolor": "#2a3f5f",
             "gridcolor": "white",
             "linecolor": "white",
             "minorgridcolor": "white",
             "startlinecolor": "#2a3f5f"
            },
            "type": "carpet"
           }
          ],
          "choropleth": [
           {
            "colorbar": {
             "outlinewidth": 0,
             "ticks": ""
            },
            "type": "choropleth"
           }
          ],
          "contour": [
           {
            "colorbar": {
             "outlinewidth": 0,
             "ticks": ""
            },
            "colorscale": [
             [
              0,
              "#0d0887"
             ],
             [
              0.1111111111111111,
              "#46039f"
             ],
             [
              0.2222222222222222,
              "#7201a8"
             ],
             [
              0.3333333333333333,
              "#9c179e"
             ],
             [
              0.4444444444444444,
              "#bd3786"
             ],
             [
              0.5555555555555556,
              "#d8576b"
             ],
             [
              0.6666666666666666,
              "#ed7953"
             ],
             [
              0.7777777777777778,
              "#fb9f3a"
             ],
             [
              0.8888888888888888,
              "#fdca26"
             ],
             [
              1,
              "#f0f921"
             ]
            ],
            "type": "contour"
           }
          ],
          "contourcarpet": [
           {
            "colorbar": {
             "outlinewidth": 0,
             "ticks": ""
            },
            "type": "contourcarpet"
           }
          ],
          "heatmap": [
           {
            "colorbar": {
             "outlinewidth": 0,
             "ticks": ""
            },
            "colorscale": [
             [
              0,
              "#0d0887"
             ],
             [
              0.1111111111111111,
              "#46039f"
             ],
             [
              0.2222222222222222,
              "#7201a8"
             ],
             [
              0.3333333333333333,
              "#9c179e"
             ],
             [
              0.4444444444444444,
              "#bd3786"
             ],
             [
              0.5555555555555556,
              "#d8576b"
             ],
             [
              0.6666666666666666,
              "#ed7953"
             ],
             [
              0.7777777777777778,
              "#fb9f3a"
             ],
             [
              0.8888888888888888,
              "#fdca26"
             ],
             [
              1,
              "#f0f921"
             ]
            ],
            "type": "heatmap"
           }
          ],
          "heatmapgl": [
           {
            "colorbar": {
             "outlinewidth": 0,
             "ticks": ""
            },
            "colorscale": [
             [
              0,
              "#0d0887"
             ],
             [
              0.1111111111111111,
              "#46039f"
             ],
             [
              0.2222222222222222,
              "#7201a8"
             ],
             [
              0.3333333333333333,
              "#9c179e"
             ],
             [
              0.4444444444444444,
              "#bd3786"
             ],
             [
              0.5555555555555556,
              "#d8576b"
             ],
             [
              0.6666666666666666,
              "#ed7953"
             ],
             [
              0.7777777777777778,
              "#fb9f3a"
             ],
             [
              0.8888888888888888,
              "#fdca26"
             ],
             [
              1,
              "#f0f921"
             ]
            ],
            "type": "heatmapgl"
           }
          ],
          "histogram": [
           {
            "marker": {
             "pattern": {
              "fillmode": "overlay",
              "size": 10,
              "solidity": 0.2
             }
            },
            "type": "histogram"
           }
          ],
          "histogram2d": [
           {
            "colorbar": {
             "outlinewidth": 0,
             "ticks": ""
            },
            "colorscale": [
             [
              0,
              "#0d0887"
             ],
             [
              0.1111111111111111,
              "#46039f"
             ],
             [
              0.2222222222222222,
              "#7201a8"
             ],
             [
              0.3333333333333333,
              "#9c179e"
             ],
             [
              0.4444444444444444,
              "#bd3786"
             ],
             [
              0.5555555555555556,
              "#d8576b"
             ],
             [
              0.6666666666666666,
              "#ed7953"
             ],
             [
              0.7777777777777778,
              "#fb9f3a"
             ],
             [
              0.8888888888888888,
              "#fdca26"
             ],
             [
              1,
              "#f0f921"
             ]
            ],
            "type": "histogram2d"
           }
          ],
          "histogram2dcontour": [
           {
            "colorbar": {
             "outlinewidth": 0,
             "ticks": ""
            },
            "colorscale": [
             [
              0,
              "#0d0887"
             ],
             [
              0.1111111111111111,
              "#46039f"
             ],
             [
              0.2222222222222222,
              "#7201a8"
             ],
             [
              0.3333333333333333,
              "#9c179e"
             ],
             [
              0.4444444444444444,
              "#bd3786"
             ],
             [
              0.5555555555555556,
              "#d8576b"
             ],
             [
              0.6666666666666666,
              "#ed7953"
             ],
             [
              0.7777777777777778,
              "#fb9f3a"
             ],
             [
              0.8888888888888888,
              "#fdca26"
             ],
             [
              1,
              "#f0f921"
             ]
            ],
            "type": "histogram2dcontour"
           }
          ],
          "mesh3d": [
           {
            "colorbar": {
             "outlinewidth": 0,
             "ticks": ""
            },
            "type": "mesh3d"
           }
          ],
          "parcoords": [
           {
            "line": {
             "colorbar": {
              "outlinewidth": 0,
              "ticks": ""
             }
            },
            "type": "parcoords"
           }
          ],
          "pie": [
           {
            "automargin": true,
            "type": "pie"
           }
          ],
          "scatter": [
           {
            "marker": {
             "colorbar": {
              "outlinewidth": 0,
              "ticks": ""
             }
            },
            "type": "scatter"
           }
          ],
          "scatter3d": [
           {
            "line": {
             "colorbar": {
              "outlinewidth": 0,
              "ticks": ""
             }
            },
            "marker": {
             "colorbar": {
              "outlinewidth": 0,
              "ticks": ""
             }
            },
            "type": "scatter3d"
           }
          ],
          "scattercarpet": [
           {
            "marker": {
             "colorbar": {
              "outlinewidth": 0,
              "ticks": ""
             }
            },
            "type": "scattercarpet"
           }
          ],
          "scattergeo": [
           {
            "marker": {
             "colorbar": {
              "outlinewidth": 0,
              "ticks": ""
             }
            },
            "type": "scattergeo"
           }
          ],
          "scattergl": [
           {
            "marker": {
             "colorbar": {
              "outlinewidth": 0,
              "ticks": ""
             }
            },
            "type": "scattergl"
           }
          ],
          "scattermapbox": [
           {
            "marker": {
             "colorbar": {
              "outlinewidth": 0,
              "ticks": ""
             }
            },
            "type": "scattermapbox"
           }
          ],
          "scatterpolar": [
           {
            "marker": {
             "colorbar": {
              "outlinewidth": 0,
              "ticks": ""
             }
            },
            "type": "scatterpolar"
           }
          ],
          "scatterpolargl": [
           {
            "marker": {
             "colorbar": {
              "outlinewidth": 0,
              "ticks": ""
             }
            },
            "type": "scatterpolargl"
           }
          ],
          "scatterternary": [
           {
            "marker": {
             "colorbar": {
              "outlinewidth": 0,
              "ticks": ""
             }
            },
            "type": "scatterternary"
           }
          ],
          "surface": [
           {
            "colorbar": {
             "outlinewidth": 0,
             "ticks": ""
            },
            "colorscale": [
             [
              0,
              "#0d0887"
             ],
             [
              0.1111111111111111,
              "#46039f"
             ],
             [
              0.2222222222222222,
              "#7201a8"
             ],
             [
              0.3333333333333333,
              "#9c179e"
             ],
             [
              0.4444444444444444,
              "#bd3786"
             ],
             [
              0.5555555555555556,
              "#d8576b"
             ],
             [
              0.6666666666666666,
              "#ed7953"
             ],
             [
              0.7777777777777778,
              "#fb9f3a"
             ],
             [
              0.8888888888888888,
              "#fdca26"
             ],
             [
              1,
              "#f0f921"
             ]
            ],
            "type": "surface"
           }
          ],
          "table": [
           {
            "cells": {
             "fill": {
              "color": "#EBF0F8"
             },
             "line": {
              "color": "white"
             }
            },
            "header": {
             "fill": {
              "color": "#C8D4E3"
             },
             "line": {
              "color": "white"
             }
            },
            "type": "table"
           }
          ]
         },
         "layout": {
          "annotationdefaults": {
           "arrowcolor": "#2a3f5f",
           "arrowhead": 0,
           "arrowwidth": 1
          },
          "autotypenumbers": "strict",
          "coloraxis": {
           "colorbar": {
            "outlinewidth": 0,
            "ticks": ""
           }
          },
          "colorscale": {
           "diverging": [
            [
             0,
             "#8e0152"
            ],
            [
             0.1,
             "#c51b7d"
            ],
            [
             0.2,
             "#de77ae"
            ],
            [
             0.3,
             "#f1b6da"
            ],
            [
             0.4,
             "#fde0ef"
            ],
            [
             0.5,
             "#f7f7f7"
            ],
            [
             0.6,
             "#e6f5d0"
            ],
            [
             0.7,
             "#b8e186"
            ],
            [
             0.8,
             "#7fbc41"
            ],
            [
             0.9,
             "#4d9221"
            ],
            [
             1,
             "#276419"
            ]
           ],
           "sequential": [
            [
             0,
             "#0d0887"
            ],
            [
             0.1111111111111111,
             "#46039f"
            ],
            [
             0.2222222222222222,
             "#7201a8"
            ],
            [
             0.3333333333333333,
             "#9c179e"
            ],
            [
             0.4444444444444444,
             "#bd3786"
            ],
            [
             0.5555555555555556,
             "#d8576b"
            ],
            [
             0.6666666666666666,
             "#ed7953"
            ],
            [
             0.7777777777777778,
             "#fb9f3a"
            ],
            [
             0.8888888888888888,
             "#fdca26"
            ],
            [
             1,
             "#f0f921"
            ]
           ],
           "sequentialminus": [
            [
             0,
             "#0d0887"
            ],
            [
             0.1111111111111111,
             "#46039f"
            ],
            [
             0.2222222222222222,
             "#7201a8"
            ],
            [
             0.3333333333333333,
             "#9c179e"
            ],
            [
             0.4444444444444444,
             "#bd3786"
            ],
            [
             0.5555555555555556,
             "#d8576b"
            ],
            [
             0.6666666666666666,
             "#ed7953"
            ],
            [
             0.7777777777777778,
             "#fb9f3a"
            ],
            [
             0.8888888888888888,
             "#fdca26"
            ],
            [
             1,
             "#f0f921"
            ]
           ]
          },
          "colorway": [
           "#636efa",
           "#EF553B",
           "#00cc96",
           "#ab63fa",
           "#FFA15A",
           "#19d3f3",
           "#FF6692",
           "#B6E880",
           "#FF97FF",
           "#FECB52"
          ],
          "font": {
           "color": "#2a3f5f"
          },
          "geo": {
           "bgcolor": "white",
           "lakecolor": "white",
           "landcolor": "#E5ECF6",
           "showlakes": true,
           "showland": true,
           "subunitcolor": "white"
          },
          "hoverlabel": {
           "align": "left"
          },
          "hovermode": "closest",
          "mapbox": {
           "style": "light"
          },
          "paper_bgcolor": "white",
          "plot_bgcolor": "#E5ECF6",
          "polar": {
           "angularaxis": {
            "gridcolor": "white",
            "linecolor": "white",
            "ticks": ""
           },
           "bgcolor": "#E5ECF6",
           "radialaxis": {
            "gridcolor": "white",
            "linecolor": "white",
            "ticks": ""
           }
          },
          "scene": {
           "xaxis": {
            "backgroundcolor": "#E5ECF6",
            "gridcolor": "white",
            "gridwidth": 2,
            "linecolor": "white",
            "showbackground": true,
            "ticks": "",
            "zerolinecolor": "white"
           },
           "yaxis": {
            "backgroundcolor": "#E5ECF6",
            "gridcolor": "white",
            "gridwidth": 2,
            "linecolor": "white",
            "showbackground": true,
            "ticks": "",
            "zerolinecolor": "white"
           },
           "zaxis": {
            "backgroundcolor": "#E5ECF6",
            "gridcolor": "white",
            "gridwidth": 2,
            "linecolor": "white",
            "showbackground": true,
            "ticks": "",
            "zerolinecolor": "white"
           }
          },
          "shapedefaults": {
           "line": {
            "color": "#2a3f5f"
           }
          },
          "ternary": {
           "aaxis": {
            "gridcolor": "white",
            "linecolor": "white",
            "ticks": ""
           },
           "baxis": {
            "gridcolor": "white",
            "linecolor": "white",
            "ticks": ""
           },
           "bgcolor": "#E5ECF6",
           "caxis": {
            "gridcolor": "white",
            "linecolor": "white",
            "ticks": ""
           }
          },
          "title": {
           "x": 0.05
          },
          "xaxis": {
           "automargin": true,
           "gridcolor": "white",
           "linecolor": "white",
           "ticks": "",
           "title": {
            "standoff": 15
           },
           "zerolinecolor": "white",
           "zerolinewidth": 2
          },
          "yaxis": {
           "automargin": true,
           "gridcolor": "white",
           "linecolor": "white",
           "ticks": "",
           "title": {
            "standoff": 15
           },
           "zerolinecolor": "white",
           "zerolinewidth": 2
          }
         }
        },
        "title": {
         "text": "Number of Letters in Project Descriptions"
        },
        "xaxis": {
         "anchor": "y",
         "domain": [
          0,
          1
         ],
         "title": {
          "text": "value"
         }
        },
        "yaxis": {
         "anchor": "x",
         "domain": [
          0,
          1
         ],
         "title": {
          "text": "count"
         }
        }
       }
      }
     },
     "metadata": {},
     "output_type": "display_data"
    }
   ],
   "source": [
    "fig = px.histogram(\n",
    "    projects_df['title_needstatement_subjsubcattree_len'],\n",
    "    title=\"Number of Letters in Project Descriptions\",\n",
    "    labels = dict(x=\"Number of Letters\", y=\"Count\"),\n",
    "    opacity=0.8\n",
    "    )\n",
    "fig.show()"
   ]
  },
  {
   "cell_type": "code",
   "execution_count": 41,
   "metadata": {},
   "outputs": [],
   "source": [
    "keep_col = 'title_needstatement_subjsubcattree_schstate'\n",
    "\n",
    "projects_df = projects_df[columns_to_keep + [keep_col]]\n",
    "    "
   ]
  },
  {
   "cell_type": "code",
   "execution_count": 42,
   "metadata": {},
   "outputs": [],
   "source": [
    "projects_df.rename(columns={keep_col: 'project_txt'}, inplace=True)"
   ]
  },
  {
   "cell_type": "code",
   "execution_count": 43,
   "metadata": {},
   "outputs": [
    {
     "data": {
      "text/html": [
       "<div>\n",
       "<style scoped>\n",
       "    .dataframe tbody tr th:only-of-type {\n",
       "        vertical-align: middle;\n",
       "    }\n",
       "\n",
       "    .dataframe tbody tr th {\n",
       "        vertical-align: top;\n",
       "    }\n",
       "\n",
       "    .dataframe thead th {\n",
       "        text-align: right;\n",
       "    }\n",
       "</style>\n",
       "<table border=\"1\" class=\"dataframe\">\n",
       "  <thead>\n",
       "    <tr style=\"text-align: right;\">\n",
       "      <th></th>\n",
       "      <th>Project ID</th>\n",
       "      <th>Project Subject Subcategory Tree</th>\n",
       "      <th>Project Title</th>\n",
       "      <th>Project Need Statement</th>\n",
       "      <th>School State</th>\n",
       "      <th>School Metro Type</th>\n",
       "      <th>School Zip</th>\n",
       "      <th>Project Grade Level Category</th>\n",
       "      <th>project_txt</th>\n",
       "    </tr>\n",
       "  </thead>\n",
       "  <tbody>\n",
       "    <tr>\n",
       "      <th>0</th>\n",
       "      <td>0029e426fd3296af4fc333580fa895fe</td>\n",
       "      <td>Character Education, Literature &amp; Writing</td>\n",
       "      <td>Everyone Needs an Address, Especially Maniac M...</td>\n",
       "      <td>My students need a class set of the book Mania...</td>\n",
       "      <td>Georgia</td>\n",
       "      <td>suburban</td>\n",
       "      <td>30238</td>\n",
       "      <td>Grades 3-5</td>\n",
       "      <td>everyone needs an address, especially maniac m...</td>\n",
       "    </tr>\n",
       "  </tbody>\n",
       "</table>\n",
       "</div>"
      ],
      "text/plain": [
       "                         Project ID  \\\n",
       "0  0029e426fd3296af4fc333580fa895fe   \n",
       "\n",
       "            Project Subject Subcategory Tree  \\\n",
       "0  Character Education, Literature & Writing   \n",
       "\n",
       "                                       Project Title  \\\n",
       "0  Everyone Needs an Address, Especially Maniac M...   \n",
       "\n",
       "                              Project Need Statement School State  \\\n",
       "0  My students need a class set of the book Mania...      Georgia   \n",
       "\n",
       "  School Metro Type  School Zip Project Grade Level Category  \\\n",
       "0          suburban       30238                   Grades 3-5   \n",
       "\n",
       "                                         project_txt  \n",
       "0  everyone needs an address, especially maniac m...  "
      ]
     },
     "execution_count": 43,
     "metadata": {},
     "output_type": "execute_result"
    }
   ],
   "source": [
    "projects_df.head(1)"
   ]
  },
  {
   "cell_type": "code",
   "execution_count": 44,
   "metadata": {},
   "outputs": [],
   "source": [
    "PROJECTS_DF_PATH = \"D:\\Papers\\Paper 3 - Recommender Systems\\Recommender-systems\\Files\\projects.csv\"\n",
    "projects_df.to_csv(PROJECTS_DF_PATH, index=False)"
   ]
  },
  {
   "cell_type": "code",
   "execution_count": null,
   "metadata": {},
   "outputs": [],
   "source": []
  },
  {
   "cell_type": "code",
   "execution_count": null,
   "metadata": {},
   "outputs": [],
   "source": []
  },
  {
   "cell_type": "markdown",
   "metadata": {},
   "source": [
    "### Analyze tokens"
   ]
  },
  {
   "cell_type": "code",
   "execution_count": 1,
   "metadata": {},
   "outputs": [],
   "source": [
    "from sentence_transformers import SentenceTransformer, util"
   ]
  },
  {
   "cell_type": "code",
   "execution_count": 3,
   "metadata": {},
   "outputs": [],
   "source": [
    "# ----------------- embeddings---------------------#\n",
    "transformer_model = SentenceTransformer('paraphrase-distilroberta-base-v1') # , device= 'cuda'"
   ]
  },
  {
   "cell_type": "code",
   "execution_count": null,
   "metadata": {},
   "outputs": [],
   "source": [
    "projects_df.loc[:, 'token_length'] = projects_df.loc[:, 'project_txt'].apply (lambda x: len(transformer_model.tokenize([x])['input_ids'][0]))"
   ]
  }
 ],
 "metadata": {
  "interpreter": {
   "hash": "c5e48f84046969b800ff52f6d80523bcd1ca3fb1a99f1449e4197bf6c73dc096"
  },
  "kernelspec": {
   "display_name": "Python 3.8.8 64-bit",
   "name": "python3"
  },
  "language_info": {
   "codemirror_mode": {
    "name": "ipython",
    "version": 3
   },
   "file_extension": ".py",
   "mimetype": "text/x-python",
   "name": "python",
   "nbconvert_exporter": "python",
   "pygments_lexer": "ipython3",
   "version": "3.8.8"
  },
  "orig_nbformat": 4
 },
 "nbformat": 4,
 "nbformat_minor": 2
}
