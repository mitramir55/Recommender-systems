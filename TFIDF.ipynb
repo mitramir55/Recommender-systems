{
 "cells": [
  {
   "cell_type": "code",
   "execution_count": 2,
   "source": [
    "from termcolor import colored\r\n",
    "import pandas as pd\r\n",
    "import numpy as np\r\n",
    "import string\r\n",
    "import regex as re\r\n",
    "import zipfile\r\n",
    "import gc\r\n",
    "from scipy.stats import boxcox\r\n",
    "import sys \r\n",
    "# other python utilities \r\n",
    "from collections import Counter \r\n",
    "from tqdm import tqdm \r\n",
    "import pandas as pd \r\n",
    "import numpy as np \r\n",
    "import warnings, math\r\n",
    "from termcolor import colored\r\n",
    "import pickle\r\n",
    "import string\r\n",
    "\r\n",
    "# for eval\r\n",
    "from sklearn.model_selection import train_test_split\r\n",
    "import random\r\n",
    "\r\n",
    "# for SVD\r\n",
    "from scipy.sparse.linalg import svds\r\n",
    "from scipy.sparse import csr_matrix\r\n",
    "pd.set_option('display.float_format','{:.2f}'.format)\r\n",
    "\r\n",
    "# for TFIDF\r\n",
    "from sklearn.feature_extraction.text import TfidfVectorizer\r\n",
    "import scipy"
   ],
   "outputs": [],
   "metadata": {}
  },
  {
   "cell_type": "code",
   "execution_count": 3,
   "source": [
    "df = pd.read_csv(\"D:\\Papers\\Paper 3 - Recommender Systems\\Recommender-systems\\Files\\Oct_Forth_projectType.csv\")\r\n",
    "\r\n",
    "categories_cols = []\r\n",
    "\r\n",
    "for col in df.columns:\r\n",
    "    #print(str(col))\r\n",
    "    cats = len(df[col].unique())\r\n",
    "    #print(cats)\r\n",
    "    if cats<=10:\r\n",
    "        categories_cols.append(col)\r\n",
    "        print(col)\r\n",
    "        \r\n",
    "df[categories_cols] = df[categories_cols].astype('category')"
   ],
   "outputs": [
    {
     "output_type": "stream",
     "name": "stdout",
     "text": [
      "Project Grade Level Category\n",
      "Project Resource Category\n",
      "Project Current Status\n",
      "School Metro Type\n",
      "School State\n",
      "Donor State\n"
     ]
    }
   ],
   "metadata": {}
  },
  {
   "cell_type": "code",
   "execution_count": 4,
   "source": [
    "df.head(1)"
   ],
   "outputs": [
    {
     "output_type": "execute_result",
     "data": {
      "text/html": [
       "<div>\n",
       "<style scoped>\n",
       "    .dataframe tbody tr th:only-of-type {\n",
       "        vertical-align: middle;\n",
       "    }\n",
       "\n",
       "    .dataframe tbody tr th {\n",
       "        vertical-align: top;\n",
       "    }\n",
       "\n",
       "    .dataframe thead th {\n",
       "        text-align: right;\n",
       "    }\n",
       "</style>\n",
       "<table border=\"1\" class=\"dataframe\">\n",
       "  <thead>\n",
       "    <tr style=\"text-align: right;\">\n",
       "      <th></th>\n",
       "      <th>Project ID</th>\n",
       "      <th>Donation ID</th>\n",
       "      <th>Donor ID</th>\n",
       "      <th>Donation Amount</th>\n",
       "      <th>Donation Received Date</th>\n",
       "      <th>School ID</th>\n",
       "      <th>Project Title</th>\n",
       "      <th>Project Need Statement</th>\n",
       "      <th>Project Subject Category Tree</th>\n",
       "      <th>Project Subject Subcategory Tree</th>\n",
       "      <th>...</th>\n",
       "      <th>Project Cost</th>\n",
       "      <th>Project Posted Date</th>\n",
       "      <th>Project Expiration Date</th>\n",
       "      <th>Project Current Status</th>\n",
       "      <th>Project Fully Funded Date</th>\n",
       "      <th>School Metro Type</th>\n",
       "      <th>School State</th>\n",
       "      <th>School Zip</th>\n",
       "      <th>Donor State</th>\n",
       "      <th>Donor Zip</th>\n",
       "    </tr>\n",
       "  </thead>\n",
       "  <tbody>\n",
       "    <tr>\n",
       "      <th>0</th>\n",
       "      <td>0029e426fd3296af4fc333580fa895fe</td>\n",
       "      <td>061a5652846763d2eca84535978a647b</td>\n",
       "      <td>0e345dcdef0d2a36c9bd17bf1ac3e10a</td>\n",
       "      <td>0.68</td>\n",
       "      <td>2014-08-10 20:32:12</td>\n",
       "      <td>55fe7ff4c71893998d0e9a26a9d3d0b7</td>\n",
       "      <td>Everyone Needs an Address, Especially Maniac M...</td>\n",
       "      <td>My students need a class set of the book Mania...</td>\n",
       "      <td>Applied Learning, Literacy &amp; Language</td>\n",
       "      <td>Character Education, Literature &amp; Writing</td>\n",
       "      <td>...</td>\n",
       "      <td>510.00</td>\n",
       "      <td>2014-06-12</td>\n",
       "      <td>2014-10-09</td>\n",
       "      <td>Fully Funded</td>\n",
       "      <td>2014-08-23</td>\n",
       "      <td>suburban</td>\n",
       "      <td>Georgia</td>\n",
       "      <td>30238</td>\n",
       "      <td>California</td>\n",
       "      <td>900.00</td>\n",
       "    </tr>\n",
       "  </tbody>\n",
       "</table>\n",
       "<p>1 rows × 22 columns</p>\n",
       "</div>"
      ],
      "text/plain": [
       "                         Project ID                       Donation ID  \\\n",
       "0  0029e426fd3296af4fc333580fa895fe  061a5652846763d2eca84535978a647b   \n",
       "\n",
       "                           Donor ID  Donation Amount Donation Received Date  \\\n",
       "0  0e345dcdef0d2a36c9bd17bf1ac3e10a             0.68    2014-08-10 20:32:12   \n",
       "\n",
       "                          School ID  \\\n",
       "0  55fe7ff4c71893998d0e9a26a9d3d0b7   \n",
       "\n",
       "                                       Project Title  \\\n",
       "0  Everyone Needs an Address, Especially Maniac M...   \n",
       "\n",
       "                              Project Need Statement  \\\n",
       "0  My students need a class set of the book Mania...   \n",
       "\n",
       "           Project Subject Category Tree  \\\n",
       "0  Applied Learning, Literacy & Language   \n",
       "\n",
       "            Project Subject Subcategory Tree  ... Project Cost  \\\n",
       "0  Character Education, Literature & Writing  ...       510.00   \n",
       "\n",
       "  Project Posted Date  Project Expiration Date Project Current Status  \\\n",
       "0          2014-06-12               2014-10-09           Fully Funded   \n",
       "\n",
       "  Project Fully Funded Date School Metro Type School State School Zip  \\\n",
       "0                2014-08-23          suburban      Georgia      30238   \n",
       "\n",
       "  Donor State  Donor Zip  \n",
       "0  California     900.00  \n",
       "\n",
       "[1 rows x 22 columns]"
      ]
     },
     "metadata": {},
     "execution_count": 4
    }
   ],
   "metadata": {}
  },
  {
   "cell_type": "code",
   "execution_count": 5,
   "source": [
    "# for only having the preference / donation amount / event strength\r\n",
    "donor_project = df.groupby(['Donor ID', 'Project ID'])['Donation Amount'].sum().reset_index()\r\n",
    "print(f\"{len(donor_project)}\")\r\n",
    "print(f\"{len(df)}\")\r\n"
   ],
   "outputs": [
    {
     "output_type": "stream",
     "name": "stdout",
     "text": [
      "22919\n",
      "48546\n"
     ]
    }
   ],
   "metadata": {}
  },
  {
   "cell_type": "code",
   "execution_count": 6,
   "source": [
    "\"\"\"# create a df for \r\n",
    "\r\n",
    "donors_projects_df = donor_project.pivot('Donor ID', 'Project ID', 'Donation Amount').fillna(0)\r\n",
    "\r\n",
    "donors_projects = donors_projects_df.values\r\n",
    "donors_id = donors_projects_df.index\r\n",
    "projects_id = donors_projects_df.columns\r\n",
    "\r\n",
    "print(f'length of donors: {len(donors_id)}')\r\n",
    "print(f'length of projects: {len(projects_id)}')\r\n",
    "\"\"\""
   ],
   "outputs": [],
   "metadata": {}
  },
  {
   "cell_type": "code",
   "execution_count": 8,
   "source": [
    "\r\n",
    "# create a df for projects specifications\r\n",
    "projects_df = df[['Project ID', 'Project Subject Subcategory Tree', 'Project Title', 'Project Need Statement', 'School State']].drop_duplicates().reset_index(drop=True)\r\n",
    "projects_id = df['Project ID'].tolist()\r\n",
    "\r\n",
    "# clean the text\r\n",
    "patterns = ['Â', '']\r\n",
    "punct = re.sub(r'[\\&\\.\\,]', '', string.punctuation)\r\n",
    "\r\n",
    "def clean(text):\r\n",
    "    for pattern in patterns:\r\n",
    "        text = re.sub(pattern, ' ', text)\r\n",
    "    text = text.translate(str.maketrans('', '', punct))\r\n",
    "    text = text.lower()\r\n",
    "    text = re.sub(r' +(?![iaIA])[\\w] +', ' ', text)\r\n",
    "    text = re.sub(r' \\s+', ' ', text)\r\n",
    "    \r\n",
    "    return text\r\n",
    "\r\n",
    "# add them up\r\n",
    "project_txt = []\r\n",
    "\r\n",
    "for i in tqdm(range(len(projects_df)), position=0, leave=True):\r\n",
    "    project_txt.append(\r\n",
    "        clean(projects_df.loc[i, 'Project Title'] + ' & ' + projects_df.loc[i, 'Project Need Statement'] + projects_df.loc[i, 'Project Subject Subcategory Tree'] + ' & ' + projects_df.loc[i, 'School State'])\r\n",
    "        )\r\n",
    "\r\n",
    "projects_df.loc[:, 'Project TFIDF Text'] = project_txt"
   ],
   "outputs": [
    {
     "output_type": "stream",
     "name": "stderr",
     "text": [
      "100%|██████████| 860/860 [00:00<00:00, 14136.35it/s]\n"
     ]
    }
   ],
   "metadata": {}
  },
  {
   "cell_type": "code",
   "execution_count": 20,
   "source": [
    "# TFIDF\r\n",
    "vectorizer = TfidfVectorizer(max_df = 0.99,    \r\n",
    "                             min_df = 0.001, # better change to 0.9 for less memory usage\r\n",
    "                             stop_words='english',\r\n",
    "                             strip_accents='unicode',\r\n",
    "                             analyzer='word')\r\n",
    "\r\n",
    "tfidf_matrix = vectorizer.fit_transform(project_txt)\r\n",
    "\r\n",
    "print(f\"tfidf_matrix.shape = {tfidf_matrix.shape}\")"
   ],
   "outputs": [
    {
     "output_type": "stream",
     "name": "stdout",
     "text": [
      "tfidf_matrix.shape = (860, 3146)\n"
     ]
    }
   ],
   "metadata": {}
  },
  {
   "cell_type": "code",
   "execution_count": null,
   "source": [
    "\r\n",
    "# =======================TFIDF=======================#\r\n",
    "\r\n",
    "# -------------------projects-------------------#\r\n",
    "\r\n",
    "# single project \r\n",
    "def get_project_profile_tfidf(project_id, tfidf_matrix):\r\n",
    "    # get the ids\r\n",
    "    idx = projects_id.index(project_id)\r\n",
    "    # get the word count vector for that document\r\n",
    "    project_profile = tfidf_matrix[idx:idx+1]\r\n",
    "    return project_profile\r\n",
    "\r\n",
    "# multiple projects\r\n",
    "# np.ravel creates a flattened 1d array\r\n",
    "def get_projects_profiles_tfidf(ids, tfidf_matrix):\r\n",
    "    # repeat for all projects\r\n",
    "    profiles_list = [get_project_profile_tfidf(project_id, tfidf_matrix) for project_id in np.ravel([ids])]\r\n",
    "    # stack them onto each other\r\n",
    "    project_profiles = scipy.sparse.vstack(profiles_list)\r\n",
    "\r\n",
    "    return project_profiles\r\n",
    "\r\n",
    "\r\n",
    "# --------------donors------------------#\r\n",
    "def build_donor_profile_tfidf(donor_id, df_train_donor_index, tfidf_matrix=tfidf_matrix):\r\n",
    "\r\n",
    "    # get the id of each person and the projects they\r\n",
    "    # donated to\r\n",
    "    donor_train_donations_serie = df_train_donor_index.loc[donor_id]\r\n",
    "    # print(f'len of donations in train: {len(donor_train_donations_serie)}')\r\n",
    "\r\n",
    "\r\n",
    "    # get the vectors of projects this person has donated to\r\n",
    "    donor_project_profiles = get_projects_profiles_tfidf(donor_train_donations_serie['Project ID'], tfidf_matrix)\r\n",
    "    # get the smoothed donated amount as the weight of each project\r\n",
    "    donor_project_strengths = np.array(donor_train_donations_serie['Donation Amount']).reshape(-1, 1)\r\n",
    "\r\n",
    "    # multiply the weights and vectors\r\n",
    "    multiplication = donor_project_profiles.multiply(donor_project_strengths)\r\n",
    "    # now we normalize the whole vector \r\n",
    "    normalized_donor_preference = preprocessing.normalize(np.sum(multiplication, axis=0))\r\n",
    "\r\n",
    "\r\n",
    "    return normalized_donor_preference\r\n",
    "\r\n",
    "\r\n",
    "\r\n",
    "def build_donors_profiles_tfidf(df_test_donor_index, df_train_donor_index, sample_size = 1000):\r\n",
    "    \r\n",
    "    # now for all donors we build a profile in a dictionary\r\n",
    "    donor_profiles = {}\r\n",
    "    donors_in_test_set = df_test_donor_index.index.unique().tolist()[:sample_size]\r\n",
    "\r\n",
    "    for donor_id in tqdm(donors_in_test_set[:sample_size], position=0, leave=True):\r\n",
    "        donor_profiles[donor_id] = build_donor_profile_tfidf(donor_id, df_train_donor_index)\r\n",
    "\r\n",
    "    return donor_profiles\r\n",
    "\r\n"
   ],
   "outputs": [],
   "metadata": {}
  },
  {
   "cell_type": "code",
   "execution_count": null,
   "source": [],
   "outputs": [],
   "metadata": {}
  },
  {
   "cell_type": "code",
   "execution_count": null,
   "source": [],
   "outputs": [],
   "metadata": {}
  },
  {
   "cell_type": "code",
   "execution_count": null,
   "source": [],
   "outputs": [],
   "metadata": {}
  }
 ],
 "metadata": {
  "orig_nbformat": 4,
  "language_info": {
   "name": "python",
   "version": "3.8.8",
   "mimetype": "text/x-python",
   "codemirror_mode": {
    "name": "ipython",
    "version": 3
   },
   "pygments_lexer": "ipython3",
   "nbconvert_exporter": "python",
   "file_extension": ".py"
  },
  "kernelspec": {
   "name": "python3",
   "display_name": "Python 3.8.8 64-bit"
  },
  "interpreter": {
   "hash": "c5e48f84046969b800ff52f6d80523bcd1ca3fb1a99f1449e4197bf6c73dc096"
  }
 },
 "nbformat": 4,
 "nbformat_minor": 2
}